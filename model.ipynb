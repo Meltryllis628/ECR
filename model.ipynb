{
 "cells": [
  {
   "cell_type": "code",
   "execution_count": 1,
   "metadata": {},
   "outputs": [
    {
     "name": "stderr",
     "output_type": "stream",
     "text": [
      "d:\\Users\\10252\\anaconda3\\envs\\ERC\\lib\\site-packages\\tqdm\\auto.py:21: TqdmWarning: IProgress not found. Please update jupyter and ipywidgets. See https://ipywidgets.readthedocs.io/en/stable/user_install.html\n",
      "  from .autonotebook import tqdm as notebook_tqdm\n"
     ]
    }
   ],
   "source": [
    "import torch\n",
    "import torch.nn as nn\n",
    "import torch.nn.functional as F\n",
    "from torch.autograd import Variable\n",
    "import pandas as pd\n",
    "import matplotlib.pyplot as plt"
   ]
  },
  {
   "cell_type": "code",
   "execution_count": null,
   "metadata": {},
   "outputs": [],
   "source": []
  },
  {
   "cell_type": "code",
   "execution_count": 2,
   "metadata": {},
   "outputs": [],
   "source": [
    "def data_processing(filename,embedding_n,padding = -1):\n",
    "    dataset = pd.read_json(filename)\n",
    "    max_n = 0\n",
    "    n_x = dataset.shape[1]\n",
    "    for t in dataset:\n",
    "        n = len(dataset[t][0])\n",
    "        # print(len(dataset[t][0][0]), end = \" \")#  all 300\n",
    "        # print(n, end = \" \") #2 3 9 8 1 6 2 6 4 3 2 3 5 4 4 4 7 1 12 4 5 1 5 5 4 3 3 5 12 13 11 6 4 5 2 4 11 7 4 4 10 2 2 3 4 6 1 4 6 5 5 6 3 6 9 6 9 6 1 12 6 6 10 3 8 6 8 5 9 14 4 6 3 3 5 4 8 5 9 5 10 3 3 1 1 7 5 6\n",
    "        if n>max_n:\n",
    "            max_n = n\n",
    "    if (padding == -1):\n",
    "        output = torch.zeros((n_x, max_n, embedding_n))\n",
    "    else:\n",
    "        output = torch.zeros((n_x, padding, embedding_n))\n",
    "    for i in dataset:\n",
    "        t = torch.tensor(dataset[i][0])\n",
    "        # print(t.shape)\n",
    "        output[i, :t.shape[0], :] = t\n",
    "    return output"
   ]
  },
  {
   "cell_type": "code",
   "execution_count": null,
   "metadata": {},
   "outputs": [],
   "source": [
    "def len_limit(filename):\n",
    "    dataset = pd.read_json(filename)\n",
    "    max_n = 0\n",
    "    n_x = dataset.shape[1]\n",
    "    for t in dataset:\n",
    "        n = len(dataset[t][0])\n",
    "        # print(len(dataset[t][0][0]), end = \" \")#  all 300\n",
    "        # print(n, end = \" \") #2 3 9 8 1 6 2 6 4 3 2 3 5 4 4 4 7 1 12 4 5 1 5 5 4 3 3 5 12 13 11 6 4 5 2 4 11 7 4 4 10 2 2 3 4 6 1 4 6 5 5 6 3 6 9 6 9 6 1 12 6 6 10 3 8 6 8 5 9 14 4 6 3 3 5 4 8 5 9 5 10 3 3 1 1 7 5 6\n",
    "        if n>max_n:\n",
    "            max_n = n"
   ]
  },
  {
   "cell_type": "code",
   "execution_count": 3,
   "metadata": {},
   "outputs": [
    {
     "name": "stdout",
     "output_type": "stream",
     "text": [
      "negative    19150\n",
      "neutral     10185\n",
      "positive     5542\n",
      "Name: Sentiment, dtype: int64\n",
      "negative    404\n",
      "neutral     320\n",
      "positive    231\n",
      "Name: Sentiment, dtype: int64\n",
      "neutral     470\n",
      "negative    416\n",
      "positive    203\n",
      "Name: Sentiment, dtype: int64\n",
      "{'negative': 0, 'neutral': 1, 'positive': 2}\n"
     ]
    }
   ],
   "source": [
    "train_label = pd.read_csv(\"train_split.csv\").loc[0:34876]\n",
    "test_label = pd.read_csv(\"train_split.csv\").loc[34877:35831]\n",
    "valid_label = pd.read_csv(\"train_split.csv\").loc[38506:39594]\n",
    "print(train_label[\"Sentiment\"].value_counts())\n",
    "print(test_label[\"Sentiment\"].value_counts())\n",
    "print(valid_label[\"Sentiment\"].value_counts())\n",
    "emotions = list(train_label[\"Sentiment\"].value_counts().index)\n",
    "emotion2int = dict((emotions[i], i) for i in range(len(emotions)))\n",
    "typecount = len(emotions)\n",
    "train_label[\"EmotionID\"] = train_label[\"Sentiment\"].apply(lambda x: emotion2int[x])\n",
    "test_label[\"EmotionID\"] = test_label[\"Sentiment\"].apply(lambda x: emotion2int[x])\n",
    "valid_label[\"EmotionID\"] = valid_label[\"Sentiment\"].apply(lambda x: emotion2int[x])\n",
    "print(emotion2int)\n"
   ]
  },
  {
   "cell_type": "code",
   "execution_count": null,
   "metadata": {},
   "outputs": [],
   "source": [
    "Dia_train = torch.Tensor(train_label[\"EmotionID\"])\n",
    "Dia_test = torch.Tensor(test_label[\"EmotionID\"].reset_index(drop=True))\n",
    "Dia_valid = torch.Tensor(valid_label[\"EmotionID\"].reset_index(drop=True))"
   ]
  },
  {
   "cell_type": "code",
   "execution_count": 214,
   "metadata": {},
   "outputs": [
    {
     "name": "stdout",
     "output_type": "stream",
     "text": [
      "torch.Size([34877, 34, 300])\n",
      "torch.Size([955, 34, 300])\n",
      "torch.Size([1089, 34, 300])\n"
     ]
    }
   ],
   "source": [
    "X_train = data_processing(\"smallX.json\",300) \n",
    "train_n, max_n, embedding_n = X_train.shape[0], X_train.shape[1], X_train.shape[2]\n",
    "\n",
    "print(X_train.shape)\n",
    "X_test = data_processing(\"testX.json\",300, max_n) \n",
    "\n",
    "test_n = X_test.shape[0]\n",
    "print(X_test.shape)\n",
    "X_valid = data_processing(\"validX.json\",300, max_n) \n",
    "\n",
    "print(X_valid.shape)"
   ]
  },
  {
   "cell_type": "code",
   "execution_count": 215,
   "metadata": {},
   "outputs": [],
   "source": [
    "# for i in range(10):\n",
    "#     print(X_train[i])"
   ]
  },
  {
   "cell_type": "code",
   "execution_count": 217,
   "metadata": {},
   "outputs": [
    {
     "name": "stdout",
     "output_type": "stream",
     "text": [
      "tensor([1., 1., 1., 1., 1., 1., 1., 1., 1., 1., 1., 1., 1., 1., 1., 1., 1., 1.,\n",
      "        1., 1., 1., 2., 0., 0., 0., 0., 0., 0., 0., 0., 0., 0., 0., 0., 0., 0.,\n",
      "        0., 0., 0., 0., 0., 0., 0., 0., 0., 0., 0., 0., 0., 0., 0., 0., 0., 0.,\n",
      "        1., 1., 1., 1., 1., 1., 0., 0., 0., 0., 0., 0., 0., 0., 0., 0., 1., 1.,\n",
      "        1., 1., 1., 0., 0., 0., 1., 1., 1., 1., 1., 1., 1., 1., 1., 0., 0., 0.,\n",
      "        0., 0., 0., 0., 0., 0., 1., 1., 1., 1.])\n"
     ]
    }
   ],
   "source": [
    "Y_train = torch.Tensor(train_label[\"EmotionID\"])\n",
    "print(Y_train[:100])\n",
    "Y_test = torch.Tensor(test_label[\"EmotionID\"].reset_index(drop=True))\n",
    "Y_valid = torch.Tensor(valid_label[\"EmotionID\"].reset_index(drop=True))"
   ]
  },
  {
   "cell_type": "code",
   "execution_count": 218,
   "metadata": {},
   "outputs": [],
   "source": [
    "import random\n",
    "\n",
    "\n",
    "def downsample(x, y, num_samples = 5000):\n",
    "    new_x = []\n",
    "    new_y = []\n",
    "\n",
    "    for label in range(3):\n",
    "        label_idx = torch.where(y == label)[0]\n",
    "        selected_idx = random.sample(list(label_idx), num_samples)\n",
    "        new_x.append(x[selected_idx])\n",
    "        new_y.append(y[selected_idx])\n",
    "\n",
    "    new_x = torch.cat(new_x)\n",
    "    new_y = torch.cat(new_y)\n",
    "    \n",
    "\n",
    "    return new_x, new_y"
   ]
  },
  {
   "cell_type": "code",
   "execution_count": 219,
   "metadata": {},
   "outputs": [],
   "source": [
    "X_train_sampled, Y_train_sampled = downsample(X_train, Y_train)"
   ]
  },
  {
   "cell_type": "code",
   "execution_count": 220,
   "metadata": {},
   "outputs": [
    {
     "name": "stdout",
     "output_type": "stream",
     "text": [
      "GPU is available\n"
     ]
    }
   ],
   "source": [
    "import tensorflow as tf\n",
    "\n",
    "if tf.config.list_physical_devices('GPU'):\n",
    "    print(\"GPU is available\")\n",
    "else:\n",
    "    print(\"GPU is not available\")"
   ]
  },
  {
   "cell_type": "code",
   "execution_count": 221,
   "metadata": {},
   "outputs": [],
   "source": [
    "def torch2tf(pytorch_tensor): \n",
    "    # As we decided to use PyTorch at first \n",
    "    # the output is a Torch tensor \n",
    "    # so we need to change it to Tensorflow tensor\n",
    "    numpy_array = pytorch_tensor.numpy()\n",
    "    tensorflow_tensor = tf.convert_to_tensor(numpy_array)\n",
    "    return tensorflow_tensor"
   ]
  },
  {
   "cell_type": "code",
   "execution_count": 222,
   "metadata": {},
   "outputs": [
    {
     "name": "stdout",
     "output_type": "stream",
     "text": [
      "(15000, 34, 300)\n",
      "(15000, 3)\n",
      "(955, 34, 300)\n",
      "(955, 3)\n",
      "(1089, 34, 300)\n",
      "(1089, 3)\n"
     ]
    }
   ],
   "source": [
    "X_train = torch2tf(X_train_sampled)\n",
    "print(X_train.shape)\n",
    "Y_train = torch2tf(Y_train_sampled)\n",
    "Y_train = tf.one_hot(tf.cast(Y_train, dtype=tf.uint8), depth=typecount)\n",
    "print(Y_train.shape)\n",
    "X_test = torch2tf(X_test)\n",
    "print(X_test.shape)\n",
    "Y_test = torch2tf(Y_test)\n",
    "Y_test = tf.one_hot(tf.cast(Y_test, dtype=tf.uint8), depth=typecount)\n",
    "print(Y_test.shape)\n",
    "X_valid = torch2tf(X_valid)\n",
    "print(X_valid.shape)\n",
    "Y_valid = torch2tf(Y_valid)\n",
    "Y_valid = tf.one_hot(tf.cast(Y_valid, dtype=tf.uint8), depth=typecount)\n",
    "print(Y_valid.shape)"
   ]
  },
  {
   "cell_type": "code",
   "execution_count": 223,
   "metadata": {},
   "outputs": [
    {
     "name": "stdout",
     "output_type": "stream",
     "text": [
      "tf.Tensor(\n",
      "[[ 0.10587868  0.08353671  0.40713635 ... -0.06809028 -0.03874565\n",
      "  -0.0266461 ]\n",
      " [ 0.01800424  0.06060464  0.46984264 ... -0.09499851  0.09012631\n",
      "  -0.01534141]\n",
      " [-0.14193174  0.07036281  0.4525549  ... -0.00449586 -0.0591675\n",
      "  -0.06273507]\n",
      " ...\n",
      " [ 0.          0.          0.         ...  0.          0.\n",
      "   0.        ]\n",
      " [ 0.          0.          0.         ...  0.          0.\n",
      "   0.        ]\n",
      " [ 0.          0.          0.         ...  0.          0.\n",
      "   0.        ]], shape=(34, 300), dtype=float32) tf.Tensor([1. 0. 0.], shape=(3,), dtype=float32)\n",
      "tf.Tensor(\n",
      "[[ 1.5882351e-02  4.9454134e-02  3.9728960e-01 ...  1.1873303e-02\n",
      "   1.5091806e-02 -1.4744475e-01]\n",
      " [-5.8672681e-02  5.8034444e-03  3.2536876e-01 ... -1.2298434e-01\n",
      "  -2.1377228e-02 -8.5676298e-02]\n",
      " [-4.0085413e-02  6.7821480e-02  4.5619148e-01 ... -5.8259200e-02\n",
      "  -3.9267991e-04 -4.1808520e-02]\n",
      " ...\n",
      " [ 0.0000000e+00  0.0000000e+00  0.0000000e+00 ...  0.0000000e+00\n",
      "   0.0000000e+00  0.0000000e+00]\n",
      " [ 0.0000000e+00  0.0000000e+00  0.0000000e+00 ...  0.0000000e+00\n",
      "   0.0000000e+00  0.0000000e+00]\n",
      " [ 0.0000000e+00  0.0000000e+00  0.0000000e+00 ...  0.0000000e+00\n",
      "   0.0000000e+00  0.0000000e+00]], shape=(34, 300), dtype=float32) tf.Tensor([1. 0. 0.], shape=(3,), dtype=float32)\n",
      "tf.Tensor(\n",
      "[[-0.06173454  0.12074877  0.29093456 ... -0.23758473  0.0063405\n",
      "   0.03941372]\n",
      " [-0.01098839 -0.03940493  0.53193784 ... -0.09729586  0.11031061\n",
      "  -0.04895029]\n",
      " [-0.08455422  0.11175578  0.45132408 ... -0.05894521 -0.03738836\n",
      "  -0.03507068]\n",
      " ...\n",
      " [ 0.          0.          0.         ...  0.          0.\n",
      "   0.        ]\n",
      " [ 0.          0.          0.         ...  0.          0.\n",
      "   0.        ]\n",
      " [ 0.          0.          0.         ...  0.          0.\n",
      "   0.        ]], shape=(34, 300), dtype=float32) tf.Tensor([0. 1. 0.], shape=(3,), dtype=float32)\n",
      "tf.Tensor(\n",
      "[[ 0.02128404  0.01444123  0.5363953  ... -0.09299214  0.0127805\n",
      "   0.03139618]\n",
      " [-0.04227242  0.12417946  0.40153036 ... -0.0283637   0.20390709\n",
      "   0.05193247]\n",
      " [ 0.          0.          0.         ...  0.          0.\n",
      "   0.        ]\n",
      " ...\n",
      " [ 0.          0.          0.         ...  0.          0.\n",
      "   0.        ]\n",
      " [ 0.          0.          0.         ...  0.          0.\n",
      "   0.        ]\n",
      " [ 0.          0.          0.         ...  0.          0.\n",
      "   0.        ]], shape=(34, 300), dtype=float32) tf.Tensor([0. 1. 0.], shape=(3,), dtype=float32)\n",
      "tf.Tensor(\n",
      "[[ 0.0308307   0.10077243  0.4194025  ...  0.03193969  0.05680178\n",
      "   0.10994504]\n",
      " [ 0.06554094 -0.11949746  0.3498438  ...  0.0896008   0.10808341\n",
      "  -0.07583043]\n",
      " [ 0.10587868  0.08353671  0.40713635 ... -0.06809028 -0.03874565\n",
      "  -0.0266461 ]\n",
      " ...\n",
      " [ 0.          0.          0.         ...  0.          0.\n",
      "   0.        ]\n",
      " [ 0.          0.          0.         ...  0.          0.\n",
      "   0.        ]\n",
      " [ 0.          0.          0.         ...  0.          0.\n",
      "   0.        ]], shape=(34, 300), dtype=float32) tf.Tensor([0. 0. 1.], shape=(3,), dtype=float32)\n",
      "tf.Tensor(\n",
      "[[-1.9707488e-02 -9.4726309e-03  4.2115018e-01 ... -6.0501099e-02\n",
      "  -2.7197869e-02  5.4915845e-02]\n",
      " [ 6.0259044e-02 -1.1217235e-01  4.5620286e-01 ...  1.4089114e-02\n",
      "   3.2237109e-02 -7.8819685e-02]\n",
      " [-4.0085413e-02  6.7821480e-02  4.5619148e-01 ... -5.8259200e-02\n",
      "  -3.9267991e-04 -4.1808520e-02]\n",
      " ...\n",
      " [ 0.0000000e+00  0.0000000e+00  0.0000000e+00 ...  0.0000000e+00\n",
      "   0.0000000e+00  0.0000000e+00]\n",
      " [ 0.0000000e+00  0.0000000e+00  0.0000000e+00 ...  0.0000000e+00\n",
      "   0.0000000e+00  0.0000000e+00]\n",
      " [ 0.0000000e+00  0.0000000e+00  0.0000000e+00 ...  0.0000000e+00\n",
      "   0.0000000e+00  0.0000000e+00]], shape=(34, 300), dtype=float32) tf.Tensor([0. 0. 1.], shape=(3,), dtype=float32)\n"
     ]
    }
   ],
   "source": [
    "print(X_train[0], Y_train[0])\n",
    "print(X_train[1], Y_train[1])\n",
    "print(X_train[5000], Y_train[5000])\n",
    "print(X_train[5001], Y_train[5001])\n",
    "print(X_train[10000], Y_train[10000])\n",
    "print(X_train[10001], Y_train[10001])"
   ]
  },
  {
   "cell_type": "code",
   "execution_count": 240,
   "metadata": {},
   "outputs": [],
   "source": [
    "import keras\n",
    "from keras.layers import LSTM, Dense, Activation, Masking, TimeDistributed, Bidirectional, BatchNormalization\n",
    "from keras.models import Sequential\n",
    "from keras.utils import plot_model"
   ]
  },
  {
   "cell_type": "code",
   "execution_count": 241,
   "metadata": {},
   "outputs": [],
   "source": [
    "h_n = embedding_n\n",
    "epochs = 100\n",
    "callbacks = [\n",
    "    keras.callbacks.ModelCheckpoint(\"checkpoint/save_at_{epoch}.keras\"),\n",
    "#     keras.callbacks.EarlyStopping(\n",
    "#     monitor=\"val_loss\",\n",
    "#     min_delta=0,\n",
    "#     patience=10,\n",
    "#     verbose=0,\n",
    "#     mode=\"auto\",\n",
    "#     baseline=None,\n",
    "#     restore_best_weights=False,\n",
    "# )\n",
    "]"
   ]
  },
  {
   "cell_type": "code",
   "execution_count": 242,
   "metadata": {},
   "outputs": [],
   "source": [
    "def make_model(input_shape, h_n=300, num_classes=13):\n",
    "    inputs = keras.Input(shape=input_shape, name=\"Input_layer\")\n",
    "    masked = Masking(0,name=\"Shapeshifter\")(inputs)\n",
    "    tmp = LSTM(1000, dropout=0.5,  name=\"LSTM_layer\", activation=\"tanh\")(masked)\n",
    "    bn = BatchNormalization()(tmp)\n",
    "    # tmp1 = Dense(300, activation=\"softmax\", name=\"Hidden_layer\")(tmp)\n",
    "    outputs = Dense(num_classes, activation=\"softmax\", name=\"Output_layer\")(bn)\n",
    "    return keras.Model(inputs, outputs)"
   ]
  },
  {
   "cell_type": "code",
   "execution_count": 243,
   "metadata": {},
   "outputs": [
    {
     "data": {
      "image/png": "[encoded data removed]",
      "text/plain": [
       "<IPython.core.display.Image object>"
      ]
     },
     "execution_count": 243,
     "metadata": {},
     "output_type": "execute_result"
    }
   ],
   "source": [
    "model = make_model(input_shape=(34,300), num_classes=typecount)\n",
    "plot_model(model, show_shapes=True)"
   ]
  },
  {
   "cell_type": "code",
   "execution_count": 244,
   "metadata": {},
   "outputs": [],
   "source": [
    "model.compile(\n",
    "    optimizer=tf.keras.optimizers.Adam(0.001),\n",
    "    loss=\"categorical_crossentropy\", \n",
    "    metrics=[\"accuracy\"]\n",
    ")"
   ]
  },
  {
   "cell_type": "code",
   "execution_count": 245,
   "metadata": {},
   "outputs": [
    {
     "name": "stdout",
     "output_type": "stream",
     "text": [
      "Epoch 1/100\n",
      "300/300 [==============================] - 9s 24ms/step - loss: 1.2427 - accuracy: 0.3901 - val_loss: 1.0747 - val_accuracy: 0.4555\n",
      "Epoch 2/100\n",
      "300/300 [==============================] - 6s 20ms/step - loss: 1.0682 - accuracy: 0.4285 - val_loss: 1.0440 - val_accuracy: 0.4775\n",
      "Epoch 3/100\n",
      "300/300 [==============================] - 6s 21ms/step - loss: 1.0564 - accuracy: 0.4474 - val_loss: 1.0689 - val_accuracy: 0.4408\n",
      "Epoch 4/100\n",
      "300/300 [==============================] - 6s 20ms/step - loss: 1.0490 - accuracy: 0.4459 - val_loss: 1.0707 - val_accuracy: 0.4270\n",
      "Epoch 5/100\n",
      "300/300 [==============================] - 7s 22ms/step - loss: 1.0477 - accuracy: 0.4505 - val_loss: 1.0784 - val_accuracy: 0.4298\n",
      "Epoch 6/100\n",
      "300/300 [==============================] - 6s 21ms/step - loss: 1.0413 - accuracy: 0.4545 - val_loss: 1.0613 - val_accuracy: 0.4500\n",
      "Epoch 7/100\n",
      "300/300 [==============================] - 7s 23ms/step - loss: 1.0367 - accuracy: 0.4675 - val_loss: 1.0852 - val_accuracy: 0.4298\n",
      "Epoch 8/100\n",
      "300/300 [==============================] - 6s 21ms/step - loss: 1.0305 - accuracy: 0.4676 - val_loss: 1.0794 - val_accuracy: 0.4197\n",
      "Epoch 9/100\n",
      "300/300 [==============================] - 7s 22ms/step - loss: 1.0238 - accuracy: 0.4708 - val_loss: 1.0462 - val_accuracy: 0.4656\n",
      "Epoch 10/100\n",
      "300/300 [==============================] - 7s 22ms/step - loss: 1.0175 - accuracy: 0.4787 - val_loss: 1.0705 - val_accuracy: 0.4463\n",
      "Epoch 11/100\n",
      "300/300 [==============================] - 7s 22ms/step - loss: 1.0086 - accuracy: 0.4877 - val_loss: 1.0827 - val_accuracy: 0.4288\n",
      "Epoch 12/100\n",
      "300/300 [==============================] - 7s 23ms/step - loss: 1.0049 - accuracy: 0.4983 - val_loss: 1.0723 - val_accuracy: 0.4619\n",
      "Epoch 13/100\n",
      "300/300 [==============================] - 7s 22ms/step - loss: 0.9916 - accuracy: 0.5027 - val_loss: 1.0506 - val_accuracy: 0.4729\n",
      "Epoch 14/100\n",
      "300/300 [==============================] - 6s 21ms/step - loss: 0.9820 - accuracy: 0.5098 - val_loss: 1.0664 - val_accuracy: 0.4702\n",
      "Epoch 15/100\n",
      "300/300 [==============================] - 7s 22ms/step - loss: 0.9728 - accuracy: 0.5201 - val_loss: 1.0740 - val_accuracy: 0.4628\n",
      "Epoch 16/100\n",
      "300/300 [==============================] - 7s 24ms/step - loss: 0.9606 - accuracy: 0.5264 - val_loss: 1.1156 - val_accuracy: 0.4408\n",
      "Epoch 17/100\n",
      "300/300 [==============================] - 7s 23ms/step - loss: 0.9448 - accuracy: 0.5369 - val_loss: 1.0919 - val_accuracy: 0.4601\n",
      "Epoch 18/100\n",
      "300/300 [==============================] - 7s 24ms/step - loss: 0.9353 - accuracy: 0.5491 - val_loss: 1.1162 - val_accuracy: 0.4481\n",
      "Epoch 19/100\n",
      "300/300 [==============================] - 6s 21ms/step - loss: 0.9136 - accuracy: 0.5628 - val_loss: 1.1169 - val_accuracy: 0.4536\n",
      "Epoch 20/100\n",
      "300/300 [==============================] - 7s 24ms/step - loss: 0.8918 - accuracy: 0.5773 - val_loss: 1.1311 - val_accuracy: 0.4481\n",
      "Epoch 21/100\n",
      "300/300 [==============================] - 8s 26ms/step - loss: 0.8825 - accuracy: 0.5827 - val_loss: 1.1531 - val_accuracy: 0.4536\n",
      "Epoch 22/100\n",
      "300/300 [==============================] - 7s 22ms/step - loss: 0.8564 - accuracy: 0.6017 - val_loss: 1.1339 - val_accuracy: 0.4454\n",
      "Epoch 23/100\n",
      "300/300 [==============================] - 6s 21ms/step - loss: 0.8367 - accuracy: 0.6132 - val_loss: 1.1899 - val_accuracy: 0.4582\n",
      "Epoch 24/100\n",
      "300/300 [==============================] - 6s 21ms/step - loss: 0.8040 - accuracy: 0.6355 - val_loss: 1.2177 - val_accuracy: 0.4472\n",
      "Epoch 25/100\n",
      "300/300 [==============================] - 6s 21ms/step - loss: 0.7847 - accuracy: 0.6451 - val_loss: 1.2364 - val_accuracy: 0.4435\n",
      "Epoch 26/100\n",
      "300/300 [==============================] - 6s 22ms/step - loss: 0.7559 - accuracy: 0.6589 - val_loss: 1.2513 - val_accuracy: 0.4601\n",
      "Epoch 27/100\n",
      "300/300 [==============================] - 6s 21ms/step - loss: 0.7400 - accuracy: 0.6679 - val_loss: 1.2647 - val_accuracy: 0.4463\n",
      "Epoch 28/100\n",
      "300/300 [==============================] - 6s 22ms/step - loss: 0.7079 - accuracy: 0.6847 - val_loss: 1.3320 - val_accuracy: 0.4444\n",
      "Epoch 29/100\n",
      "300/300 [==============================] - 6s 21ms/step - loss: 0.6817 - accuracy: 0.6966 - val_loss: 1.3283 - val_accuracy: 0.4444\n",
      "Epoch 30/100\n",
      "300/300 [==============================] - 6s 22ms/step - loss: 0.6445 - accuracy: 0.7179 - val_loss: 1.3594 - val_accuracy: 0.4288\n",
      "Epoch 31/100\n",
      "258/300 [========================>.....] - ETA: 0s - loss: 0.6137 - accuracy: 0.7337"
     ]
    },
    {
     "ename": "KeyboardInterrupt",
     "evalue": "",
     "output_type": "error",
     "traceback": [
      "\u001b[1;31m---------------------------------------------------------------------------\u001b[0m",
      "\u001b[1;31mKeyboardInterrupt\u001b[0m                         Traceback (most recent call last)",
      "Cell \u001b[1;32mIn[245], line 1\u001b[0m\n\u001b[1;32m----> 1\u001b[0m model\u001b[39m.\u001b[39;49mfit(\n\u001b[0;32m      2\u001b[0m     X_train,Y_train,\n\u001b[0;32m      3\u001b[0m     epochs\u001b[39m=\u001b[39;49mepochs,\n\u001b[0;32m      4\u001b[0m     callbacks\u001b[39m=\u001b[39;49mcallbacks,\n\u001b[0;32m      5\u001b[0m     batch_size\u001b[39m=\u001b[39;49m\u001b[39m50\u001b[39;49m,\n\u001b[0;32m      6\u001b[0m     shuffle\u001b[39m=\u001b[39;49m\u001b[39mTrue\u001b[39;49;00m,\n\u001b[0;32m      7\u001b[0m     validation_data\u001b[39m=\u001b[39;49m(X_valid,Y_valid)\n\u001b[0;32m      8\u001b[0m )\n",
      "File \u001b[1;32md:\\Users\\10252\\anaconda3\\envs\\ML03\\lib\\site-packages\\keras\\utils\\traceback_utils.py:65\u001b[0m, in \u001b[0;36mfilter_traceback.<locals>.error_handler\u001b[1;34m(*args, **kwargs)\u001b[0m\n\u001b[0;32m     63\u001b[0m filtered_tb \u001b[39m=\u001b[39m \u001b[39mNone\u001b[39;00m\n\u001b[0;32m     64\u001b[0m \u001b[39mtry\u001b[39;00m:\n\u001b[1;32m---> 65\u001b[0m     \u001b[39mreturn\u001b[39;00m fn(\u001b[39m*\u001b[39margs, \u001b[39m*\u001b[39m\u001b[39m*\u001b[39mkwargs)\n\u001b[0;32m     66\u001b[0m \u001b[39mexcept\u001b[39;00m \u001b[39mException\u001b[39;00m \u001b[39mas\u001b[39;00m e:\n\u001b[0;32m     67\u001b[0m     filtered_tb \u001b[39m=\u001b[39m _process_traceback_frames(e\u001b[39m.\u001b[39m__traceback__)\n",
      "File \u001b[1;32md:\\Users\\10252\\anaconda3\\envs\\ML03\\lib\\site-packages\\keras\\engine\\training.py:1570\u001b[0m, in \u001b[0;36mModel.fit\u001b[1;34m(self, x, y, batch_size, epochs, verbose, callbacks, validation_split, validation_data, shuffle, class_weight, sample_weight, initial_epoch, steps_per_epoch, validation_steps, validation_batch_size, validation_freq, max_queue_size, workers, use_multiprocessing)\u001b[0m\n\u001b[0;32m   1568\u001b[0m logs \u001b[39m=\u001b[39m tmp_logs\n\u001b[0;32m   1569\u001b[0m end_step \u001b[39m=\u001b[39m step \u001b[39m+\u001b[39m data_handler\u001b[39m.\u001b[39mstep_increment\n\u001b[1;32m-> 1570\u001b[0m callbacks\u001b[39m.\u001b[39;49mon_train_batch_end(end_step, logs)\n\u001b[0;32m   1571\u001b[0m \u001b[39mif\u001b[39;00m \u001b[39mself\u001b[39m\u001b[39m.\u001b[39mstop_training:\n\u001b[0;32m   1572\u001b[0m     \u001b[39mbreak\u001b[39;00m\n",
      "File \u001b[1;32md:\\Users\\10252\\anaconda3\\envs\\ML03\\lib\\site-packages\\keras\\callbacks.py:470\u001b[0m, in \u001b[0;36mCallbackList.on_train_batch_end\u001b[1;34m(self, batch, logs)\u001b[0m\n\u001b[0;32m    463\u001b[0m \u001b[39m\u001b[39m\u001b[39m\"\"\"Calls the `on_train_batch_end` methods of its callbacks.\u001b[39;00m\n\u001b[0;32m    464\u001b[0m \n\u001b[0;32m    465\u001b[0m \u001b[39mArgs:\u001b[39;00m\n\u001b[0;32m    466\u001b[0m \u001b[39m    batch: Integer, index of batch within the current epoch.\u001b[39;00m\n\u001b[0;32m    467\u001b[0m \u001b[39m    logs: Dict. Aggregated metric results up until this batch.\u001b[39;00m\n\u001b[0;32m    468\u001b[0m \u001b[39m\"\"\"\u001b[39;00m\n\u001b[0;32m    469\u001b[0m \u001b[39mif\u001b[39;00m \u001b[39mself\u001b[39m\u001b[39m.\u001b[39m_should_call_train_batch_hooks:\n\u001b[1;32m--> 470\u001b[0m     \u001b[39mself\u001b[39;49m\u001b[39m.\u001b[39;49m_call_batch_hook(ModeKeys\u001b[39m.\u001b[39;49mTRAIN, \u001b[39m\"\u001b[39;49m\u001b[39mend\u001b[39;49m\u001b[39m\"\u001b[39;49m, batch, logs\u001b[39m=\u001b[39;49mlogs)\n",
      "File \u001b[1;32md:\\Users\\10252\\anaconda3\\envs\\ML03\\lib\\site-packages\\keras\\callbacks.py:317\u001b[0m, in \u001b[0;36mCallbackList._call_batch_hook\u001b[1;34m(self, mode, hook, batch, logs)\u001b[0m\n\u001b[0;32m    315\u001b[0m     \u001b[39mself\u001b[39m\u001b[39m.\u001b[39m_call_batch_begin_hook(mode, batch, logs)\n\u001b[0;32m    316\u001b[0m \u001b[39melif\u001b[39;00m hook \u001b[39m==\u001b[39m \u001b[39m\"\u001b[39m\u001b[39mend\u001b[39m\u001b[39m\"\u001b[39m:\n\u001b[1;32m--> 317\u001b[0m     \u001b[39mself\u001b[39;49m\u001b[39m.\u001b[39;49m_call_batch_end_hook(mode, batch, logs)\n\u001b[0;32m    318\u001b[0m \u001b[39melse\u001b[39;00m:\n\u001b[0;32m    319\u001b[0m     \u001b[39mraise\u001b[39;00m \u001b[39mValueError\u001b[39;00m(\n\u001b[0;32m    320\u001b[0m         \u001b[39mf\u001b[39m\u001b[39m\"\u001b[39m\u001b[39mUnrecognized hook: \u001b[39m\u001b[39m{\u001b[39;00mhook\u001b[39m}\u001b[39;00m\u001b[39m. \u001b[39m\u001b[39m\"\u001b[39m\n\u001b[0;32m    321\u001b[0m         \u001b[39m'\u001b[39m\u001b[39mExpected values are [\u001b[39m\u001b[39m\"\u001b[39m\u001b[39mbegin\u001b[39m\u001b[39m\"\u001b[39m\u001b[39m, \u001b[39m\u001b[39m\"\u001b[39m\u001b[39mend\u001b[39m\u001b[39m\"\u001b[39m\u001b[39m]\u001b[39m\u001b[39m'\u001b[39m\n\u001b[0;32m    322\u001b[0m     )\n",
      "File \u001b[1;32md:\\Users\\10252\\anaconda3\\envs\\ML03\\lib\\site-packages\\keras\\callbacks.py:340\u001b[0m, in \u001b[0;36mCallbackList._call_batch_end_hook\u001b[1;34m(self, mode, batch, logs)\u001b[0m\n\u001b[0;32m    337\u001b[0m     batch_time \u001b[39m=\u001b[39m time\u001b[39m.\u001b[39mtime() \u001b[39m-\u001b[39m \u001b[39mself\u001b[39m\u001b[39m.\u001b[39m_batch_start_time\n\u001b[0;32m    338\u001b[0m     \u001b[39mself\u001b[39m\u001b[39m.\u001b[39m_batch_times\u001b[39m.\u001b[39mappend(batch_time)\n\u001b[1;32m--> 340\u001b[0m \u001b[39mself\u001b[39;49m\u001b[39m.\u001b[39;49m_call_batch_hook_helper(hook_name, batch, logs)\n\u001b[0;32m    342\u001b[0m \u001b[39mif\u001b[39;00m \u001b[39mlen\u001b[39m(\u001b[39mself\u001b[39m\u001b[39m.\u001b[39m_batch_times) \u001b[39m>\u001b[39m\u001b[39m=\u001b[39m \u001b[39mself\u001b[39m\u001b[39m.\u001b[39m_num_batches_for_timing_check:\n\u001b[0;32m    343\u001b[0m     end_hook_name \u001b[39m=\u001b[39m hook_name\n",
      "File \u001b[1;32md:\\Users\\10252\\anaconda3\\envs\\ML03\\lib\\site-packages\\keras\\callbacks.py:388\u001b[0m, in \u001b[0;36mCallbackList._call_batch_hook_helper\u001b[1;34m(self, hook_name, batch, logs)\u001b[0m\n\u001b[0;32m    386\u001b[0m \u001b[39mfor\u001b[39;00m callback \u001b[39min\u001b[39;00m \u001b[39mself\u001b[39m\u001b[39m.\u001b[39mcallbacks:\n\u001b[0;32m    387\u001b[0m     hook \u001b[39m=\u001b[39m \u001b[39mgetattr\u001b[39m(callback, hook_name)\n\u001b[1;32m--> 388\u001b[0m     hook(batch, logs)\n\u001b[0;32m    390\u001b[0m \u001b[39mif\u001b[39;00m \u001b[39mself\u001b[39m\u001b[39m.\u001b[39m_check_timing:\n\u001b[0;32m    391\u001b[0m     \u001b[39mif\u001b[39;00m hook_name \u001b[39mnot\u001b[39;00m \u001b[39min\u001b[39;00m \u001b[39mself\u001b[39m\u001b[39m.\u001b[39m_hook_times:\n",
      "File \u001b[1;32md:\\Users\\10252\\anaconda3\\envs\\ML03\\lib\\site-packages\\keras\\callbacks.py:1081\u001b[0m, in \u001b[0;36mProgbarLogger.on_train_batch_end\u001b[1;34m(self, batch, logs)\u001b[0m\n\u001b[0;32m   1080\u001b[0m \u001b[39mdef\u001b[39;00m \u001b[39mon_train_batch_end\u001b[39m(\u001b[39mself\u001b[39m, batch, logs\u001b[39m=\u001b[39m\u001b[39mNone\u001b[39;00m):\n\u001b[1;32m-> 1081\u001b[0m     \u001b[39mself\u001b[39;49m\u001b[39m.\u001b[39;49m_batch_update_progbar(batch, logs)\n",
      "File \u001b[1;32md:\\Users\\10252\\anaconda3\\envs\\ML03\\lib\\site-packages\\keras\\callbacks.py:1157\u001b[0m, in \u001b[0;36mProgbarLogger._batch_update_progbar\u001b[1;34m(self, batch, logs)\u001b[0m\n\u001b[0;32m   1153\u001b[0m     \u001b[39mself\u001b[39m\u001b[39m.\u001b[39mseen \u001b[39m+\u001b[39m\u001b[39m=\u001b[39m add_seen\n\u001b[0;32m   1155\u001b[0m \u001b[39mif\u001b[39;00m \u001b[39mself\u001b[39m\u001b[39m.\u001b[39mverbose \u001b[39m==\u001b[39m \u001b[39m1\u001b[39m:\n\u001b[0;32m   1156\u001b[0m     \u001b[39m# Only block async when verbose = 1.\u001b[39;00m\n\u001b[1;32m-> 1157\u001b[0m     logs \u001b[39m=\u001b[39m tf_utils\u001b[39m.\u001b[39;49msync_to_numpy_or_python_type(logs)\n\u001b[0;32m   1158\u001b[0m     \u001b[39mself\u001b[39m\u001b[39m.\u001b[39mprogbar\u001b[39m.\u001b[39mupdate(\u001b[39mself\u001b[39m\u001b[39m.\u001b[39mseen, \u001b[39mlist\u001b[39m(logs\u001b[39m.\u001b[39mitems()), finalize\u001b[39m=\u001b[39m\u001b[39mFalse\u001b[39;00m)\n",
      "File \u001b[1;32md:\\Users\\10252\\anaconda3\\envs\\ML03\\lib\\site-packages\\keras\\utils\\tf_utils.py:635\u001b[0m, in \u001b[0;36msync_to_numpy_or_python_type\u001b[1;34m(tensors)\u001b[0m\n\u001b[0;32m    632\u001b[0m         \u001b[39mreturn\u001b[39;00m t\n\u001b[0;32m    633\u001b[0m     \u001b[39mreturn\u001b[39;00m t\u001b[39m.\u001b[39mitem() \u001b[39mif\u001b[39;00m np\u001b[39m.\u001b[39mndim(t) \u001b[39m==\u001b[39m \u001b[39m0\u001b[39m \u001b[39melse\u001b[39;00m t\n\u001b[1;32m--> 635\u001b[0m \u001b[39mreturn\u001b[39;00m tf\u001b[39m.\u001b[39;49mnest\u001b[39m.\u001b[39;49mmap_structure(_to_single_numpy_or_python_type, tensors)\n",
      "File \u001b[1;32md:\\Users\\10252\\anaconda3\\envs\\ML03\\lib\\site-packages\\tensorflow\\python\\util\\nest.py:917\u001b[0m, in \u001b[0;36mmap_structure\u001b[1;34m(func, *structure, **kwargs)\u001b[0m\n\u001b[0;32m    913\u001b[0m flat_structure \u001b[39m=\u001b[39m (flatten(s, expand_composites) \u001b[39mfor\u001b[39;00m s \u001b[39min\u001b[39;00m structure)\n\u001b[0;32m    914\u001b[0m entries \u001b[39m=\u001b[39m \u001b[39mzip\u001b[39m(\u001b[39m*\u001b[39mflat_structure)\n\u001b[0;32m    916\u001b[0m \u001b[39mreturn\u001b[39;00m pack_sequence_as(\n\u001b[1;32m--> 917\u001b[0m     structure[\u001b[39m0\u001b[39m], [func(\u001b[39m*\u001b[39mx) \u001b[39mfor\u001b[39;00m x \u001b[39min\u001b[39;00m entries],\n\u001b[0;32m    918\u001b[0m     expand_composites\u001b[39m=\u001b[39mexpand_composites)\n",
      "File \u001b[1;32md:\\Users\\10252\\anaconda3\\envs\\ML03\\lib\\site-packages\\tensorflow\\python\\util\\nest.py:917\u001b[0m, in \u001b[0;36m<listcomp>\u001b[1;34m(.0)\u001b[0m\n\u001b[0;32m    913\u001b[0m flat_structure \u001b[39m=\u001b[39m (flatten(s, expand_composites) \u001b[39mfor\u001b[39;00m s \u001b[39min\u001b[39;00m structure)\n\u001b[0;32m    914\u001b[0m entries \u001b[39m=\u001b[39m \u001b[39mzip\u001b[39m(\u001b[39m*\u001b[39mflat_structure)\n\u001b[0;32m    916\u001b[0m \u001b[39mreturn\u001b[39;00m pack_sequence_as(\n\u001b[1;32m--> 917\u001b[0m     structure[\u001b[39m0\u001b[39m], [func(\u001b[39m*\u001b[39;49mx) \u001b[39mfor\u001b[39;00m x \u001b[39min\u001b[39;00m entries],\n\u001b[0;32m    918\u001b[0m     expand_composites\u001b[39m=\u001b[39mexpand_composites)\n",
      "File \u001b[1;32md:\\Users\\10252\\anaconda3\\envs\\ML03\\lib\\site-packages\\keras\\utils\\tf_utils.py:628\u001b[0m, in \u001b[0;36msync_to_numpy_or_python_type.<locals>._to_single_numpy_or_python_type\u001b[1;34m(t)\u001b[0m\n\u001b[0;32m    625\u001b[0m \u001b[39mdef\u001b[39;00m \u001b[39m_to_single_numpy_or_python_type\u001b[39m(t):\n\u001b[0;32m    626\u001b[0m     \u001b[39m# Don't turn ragged or sparse tensors to NumPy.\u001b[39;00m\n\u001b[0;32m    627\u001b[0m     \u001b[39mif\u001b[39;00m \u001b[39misinstance\u001b[39m(t, tf\u001b[39m.\u001b[39mTensor):\n\u001b[1;32m--> 628\u001b[0m         t \u001b[39m=\u001b[39m t\u001b[39m.\u001b[39;49mnumpy()\n\u001b[0;32m    629\u001b[0m     \u001b[39m# Strings, ragged and sparse tensors don't have .item(). Return them\u001b[39;00m\n\u001b[0;32m    630\u001b[0m     \u001b[39m# as-is.\u001b[39;00m\n\u001b[0;32m    631\u001b[0m     \u001b[39mif\u001b[39;00m \u001b[39mnot\u001b[39;00m \u001b[39misinstance\u001b[39m(t, (np\u001b[39m.\u001b[39mndarray, np\u001b[39m.\u001b[39mgeneric)):\n",
      "File \u001b[1;32md:\\Users\\10252\\anaconda3\\envs\\ML03\\lib\\site-packages\\tensorflow\\python\\framework\\ops.py:1157\u001b[0m, in \u001b[0;36m_EagerTensorBase.numpy\u001b[1;34m(self)\u001b[0m\n\u001b[0;32m   1134\u001b[0m \u001b[39m\u001b[39m\u001b[39m\"\"\"Copy of the contents of this Tensor into a NumPy array or scalar.\u001b[39;00m\n\u001b[0;32m   1135\u001b[0m \n\u001b[0;32m   1136\u001b[0m \u001b[39mUnlike NumPy arrays, Tensors are immutable, so this method has to copy\u001b[39;00m\n\u001b[1;32m   (...)\u001b[0m\n\u001b[0;32m   1154\u001b[0m \u001b[39m    NumPy dtype.\u001b[39;00m\n\u001b[0;32m   1155\u001b[0m \u001b[39m\"\"\"\u001b[39;00m\n\u001b[0;32m   1156\u001b[0m \u001b[39m# TODO(slebedev): Consider avoiding a copy for non-CPU or remote tensors.\u001b[39;00m\n\u001b[1;32m-> 1157\u001b[0m maybe_arr \u001b[39m=\u001b[39m \u001b[39mself\u001b[39;49m\u001b[39m.\u001b[39;49m_numpy()  \u001b[39m# pylint: disable=protected-access\u001b[39;00m\n\u001b[0;32m   1158\u001b[0m \u001b[39mreturn\u001b[39;00m maybe_arr\u001b[39m.\u001b[39mcopy() \u001b[39mif\u001b[39;00m \u001b[39misinstance\u001b[39m(maybe_arr, np\u001b[39m.\u001b[39mndarray) \u001b[39melse\u001b[39;00m maybe_arr\n",
      "File \u001b[1;32md:\\Users\\10252\\anaconda3\\envs\\ML03\\lib\\site-packages\\tensorflow\\python\\framework\\ops.py:1123\u001b[0m, in \u001b[0;36m_EagerTensorBase._numpy\u001b[1;34m(self)\u001b[0m\n\u001b[0;32m   1121\u001b[0m \u001b[39mdef\u001b[39;00m \u001b[39m_numpy\u001b[39m(\u001b[39mself\u001b[39m):\n\u001b[0;32m   1122\u001b[0m   \u001b[39mtry\u001b[39;00m:\n\u001b[1;32m-> 1123\u001b[0m     \u001b[39mreturn\u001b[39;00m \u001b[39mself\u001b[39;49m\u001b[39m.\u001b[39;49m_numpy_internal()\n\u001b[0;32m   1124\u001b[0m   \u001b[39mexcept\u001b[39;00m core\u001b[39m.\u001b[39m_NotOkStatusException \u001b[39mas\u001b[39;00m e:  \u001b[39m# pylint: disable=protected-access\u001b[39;00m\n\u001b[0;32m   1125\u001b[0m     \u001b[39mraise\u001b[39;00m core\u001b[39m.\u001b[39m_status_to_exception(e) \u001b[39mfrom\u001b[39;00m \u001b[39mNone\u001b[39m\n",
      "\u001b[1;31mKeyboardInterrupt\u001b[0m: "
     ]
    }
   ],
   "source": [
    "model.fit(\n",
    "    X_train,Y_train,\n",
    "    epochs=epochs,\n",
    "    callbacks=callbacks,\n",
    "    batch_size=50,\n",
    "    shuffle=True,\n",
    "    validation_data=(X_valid,Y_valid)\n",
    ")"
   ]
  }
 ],
 "metadata": {
  "kernelspec": {
   "display_name": "ERC",
   "language": "python",
   "name": "python3"
  },
  "language_info": {
   "codemirror_mode": {
    "name": "ipython",
    "version": 3
   },
   "file_extension": ".py",
   "mimetype": "text/x-python",
   "name": "python",
   "nbconvert_exporter": "python",
   "pygments_lexer": "ipython3",
   "version": "3.10.9"
  },
  "orig_nbformat": 4
 },
 "nbformat": 4,
 "nbformat_minor": 2
}
