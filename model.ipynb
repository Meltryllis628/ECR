{
 "cells": [
  {
   "cell_type": "code",
   "execution_count": 48,
   "metadata": {},
   "outputs": [],
   "source": [
    "import torch\n",
    "import torch.nn as nn\n",
    "import torch.nn.functional as F\n",
    "from torch.autograd import Variable\n",
    "import pandas as pd\n",
    "import matplotlib.pyplot as plt\n",
    "import tensorflow as tf"
   ]
  },
  {
   "cell_type": "code",
   "execution_count": 49,
   "metadata": {},
   "outputs": [],
   "source": [
    "import numpy as np"
   ]
  },
  {
   "cell_type": "code",
   "execution_count": 50,
   "metadata": {},
   "outputs": [],
   "source": [
    "\n",
    "train = pd.read_json('train_tensor.json')\n",
    "test = pd.read_json('test_tensor.json')\n",
    "valid = pd.read_json('valid_tensor.json')"
   ]
  },
  {
   "cell_type": "code",
   "execution_count": 51,
   "metadata": {},
   "outputs": [],
   "source": [
    "train = train.reset_index(drop=True)"
   ]
  },
  {
   "cell_type": "code",
   "execution_count": 56,
   "metadata": {},
   "outputs": [],
   "source": [
    "test = test.reset_index(drop=True)"
   ]
  },
  {
   "cell_type": "code",
   "execution_count": 57,
   "metadata": {},
   "outputs": [],
   "source": [
    "valid = valid.reset_index(drop=True)"
   ]
  },
  {
   "cell_type": "code",
   "execution_count": 58,
   "metadata": {},
   "outputs": [
    {
     "data": {
      "text/html": [
       "<div>\n",
       "<style scoped>\n",
       "    .dataframe tbody tr th:only-of-type {\n",
       "        vertical-align: middle;\n",
       "    }\n",
       "\n",
       "    .dataframe tbody tr th {\n",
       "        vertical-align: top;\n",
       "    }\n",
       "\n",
       "    .dataframe thead th {\n",
       "        text-align: right;\n",
       "    }\n",
       "</style>\n",
       "<table border=\"1\" class=\"dataframe\">\n",
       "  <thead>\n",
       "    <tr style=\"text-align: right;\">\n",
       "      <th></th>\n",
       "      <th>Unnamed: 0</th>\n",
       "      <th>Dialogue_ID</th>\n",
       "      <th>Utterance</th>\n",
       "      <th>Emotion</th>\n",
       "      <th>Sentiment</th>\n",
       "      <th>Tokenization</th>\n",
       "      <th>Length</th>\n",
       "      <th>Tensor</th>\n",
       "    </tr>\n",
       "  </thead>\n",
       "  <tbody>\n",
       "    <tr>\n",
       "      <th>0</th>\n",
       "      <td>0</td>\n",
       "      <td>27000</td>\n",
       "      <td>好了没事了</td>\n",
       "      <td>0</td>\n",
       "      <td>1</td>\n",
       "      <td>['好', '了', '没事', '了']</td>\n",
       "      <td>4</td>\n",
       "      <td>[[0.064666003, -0.30551698800000004, 0.1139279...</td>\n",
       "    </tr>\n",
       "    <tr>\n",
       "      <th>1</th>\n",
       "      <td>1</td>\n",
       "      <td>27000</td>\n",
       "      <td>谢谢你哦</td>\n",
       "      <td>0</td>\n",
       "      <td>1</td>\n",
       "      <td>['谢谢', '你', '哦']</td>\n",
       "      <td>3</td>\n",
       "      <td>[[0.2339970022, -0.5972849727, 0.1576009989, -...</td>\n",
       "    </tr>\n",
       "    <tr>\n",
       "      <th>2</th>\n",
       "      <td>2</td>\n",
       "      <td>27000</td>\n",
       "      <td>没关系</td>\n",
       "      <td>7</td>\n",
       "      <td>0</td>\n",
       "      <td>['没关系']</td>\n",
       "      <td>1</td>\n",
       "      <td>[[0.27745199200000004, -0.6009050012, 0.303104...</td>\n",
       "    </tr>\n",
       "    <tr>\n",
       "      <th>3</th>\n",
       "      <td>3</td>\n",
       "      <td>27000</td>\n",
       "      <td>喂</td>\n",
       "      <td>8</td>\n",
       "      <td>0</td>\n",
       "      <td>['喂']</td>\n",
       "      <td>1</td>\n",
       "      <td>[[0.08525600280000001, -0.9938610196000001, -0...</td>\n",
       "    </tr>\n",
       "    <tr>\n",
       "      <th>4</th>\n",
       "      <td>4</td>\n",
       "      <td>27000</td>\n",
       "      <td>没事吧</td>\n",
       "      <td>8</td>\n",
       "      <td>0</td>\n",
       "      <td>['没事', '吧']</td>\n",
       "      <td>2</td>\n",
       "      <td>[[0.0474819988, -0.6579239964, 0.1286790073, 0...</td>\n",
       "    </tr>\n",
       "    <tr>\n",
       "      <th>...</th>\n",
       "      <td>...</td>\n",
       "      <td>...</td>\n",
       "      <td>...</td>\n",
       "      <td>...</td>\n",
       "      <td>...</td>\n",
       "      <td>...</td>\n",
       "      <td>...</td>\n",
       "      <td>...</td>\n",
       "    </tr>\n",
       "    <tr>\n",
       "      <th>24306</th>\n",
       "      <td>24607</td>\n",
       "      <td>37224</td>\n",
       "      <td>老哥说实话你哪儿都好</td>\n",
       "      <td>5</td>\n",
       "      <td>2</td>\n",
       "      <td>['老哥', '说', '实话', '你', '哪儿', '都', '好']</td>\n",
       "      <td>7</td>\n",
       "      <td>[[0.1190140024, -0.8823390007, -0.034031, -0.3...</td>\n",
       "    </tr>\n",
       "    <tr>\n",
       "      <th>24307</th>\n",
       "      <td>24608</td>\n",
       "      <td>37224</td>\n",
       "      <td>关键时刻有点笨</td>\n",
       "      <td>5</td>\n",
       "      <td>2</td>\n",
       "      <td>['关键', '时刻', '有点', '笨']</td>\n",
       "      <td>4</td>\n",
       "      <td>[[0.31442201140000003, -0.207535997, 0.1764940...</td>\n",
       "    </tr>\n",
       "    <tr>\n",
       "      <th>24308</th>\n",
       "      <td>24609</td>\n",
       "      <td>37226</td>\n",
       "      <td>对</td>\n",
       "      <td>1</td>\n",
       "      <td>0</td>\n",
       "      <td>['对']</td>\n",
       "      <td>1</td>\n",
       "      <td>[[0.2566100061, -0.4985559881, -0.055897001200...</td>\n",
       "    </tr>\n",
       "    <tr>\n",
       "      <th>24309</th>\n",
       "      <td>24610</td>\n",
       "      <td>37226</td>\n",
       "      <td>小雪、小雨</td>\n",
       "      <td>7</td>\n",
       "      <td>0</td>\n",
       "      <td>['小雪', '、', '小雨']</td>\n",
       "      <td>3</td>\n",
       "      <td>[[0.6294760108, -0.6717460155, 0.1621019989000...</td>\n",
       "    </tr>\n",
       "    <tr>\n",
       "      <th>24310</th>\n",
       "      <td>24611</td>\n",
       "      <td>37226</td>\n",
       "      <td>可怜的孩子</td>\n",
       "      <td>7</td>\n",
       "      <td>0</td>\n",
       "      <td>['可怜', '的', '孩子']</td>\n",
       "      <td>3</td>\n",
       "      <td>[[0.4140030146, -0.2894949913, 0.1020380035, -...</td>\n",
       "    </tr>\n",
       "  </tbody>\n",
       "</table>\n",
       "<p>24311 rows × 8 columns</p>\n",
       "</div>"
      ],
      "text/plain": [
       "       Unnamed: 0  Dialogue_ID   Utterance  Emotion  Sentiment   \n",
       "0               0        27000       好了没事了        0          1  \\\n",
       "1               1        27000        谢谢你哦        0          1   \n",
       "2               2        27000         没关系        7          0   \n",
       "3               3        27000           喂        8          0   \n",
       "4               4        27000         没事吧        8          0   \n",
       "...           ...          ...         ...      ...        ...   \n",
       "24306       24607        37224  老哥说实话你哪儿都好        5          2   \n",
       "24307       24608        37224     关键时刻有点笨        5          2   \n",
       "24308       24609        37226           对        1          0   \n",
       "24309       24610        37226       小雪、小雨        7          0   \n",
       "24310       24611        37226       可怜的孩子        7          0   \n",
       "\n",
       "                                 Tokenization  Length   \n",
       "0                       ['好', '了', '没事', '了']       4  \\\n",
       "1                            ['谢谢', '你', '哦']       3   \n",
       "2                                     ['没关系']       1   \n",
       "3                                       ['喂']       1   \n",
       "4                                 ['没事', '吧']       2   \n",
       "...                                       ...     ...   \n",
       "24306  ['老哥', '说', '实话', '你', '哪儿', '都', '好']       7   \n",
       "24307                 ['关键', '时刻', '有点', '笨']       4   \n",
       "24308                                   ['对']       1   \n",
       "24309                       ['小雪', '、', '小雨']       3   \n",
       "24310                       ['可怜', '的', '孩子']       3   \n",
       "\n",
       "                                                  Tensor  \n",
       "0      [[0.064666003, -0.30551698800000004, 0.1139279...  \n",
       "1      [[0.2339970022, -0.5972849727, 0.1576009989, -...  \n",
       "2      [[0.27745199200000004, -0.6009050012, 0.303104...  \n",
       "3      [[0.08525600280000001, -0.9938610196000001, -0...  \n",
       "4      [[0.0474819988, -0.6579239964, 0.1286790073, 0...  \n",
       "...                                                  ...  \n",
       "24306  [[0.1190140024, -0.8823390007, -0.034031, -0.3...  \n",
       "24307  [[0.31442201140000003, -0.207535997, 0.1764940...  \n",
       "24308  [[0.2566100061, -0.4985559881, -0.055897001200...  \n",
       "24309  [[0.6294760108, -0.6717460155, 0.1621019989000...  \n",
       "24310  [[0.4140030146, -0.2894949913, 0.1020380035, -...  \n",
       "\n",
       "[24311 rows x 8 columns]"
      ]
     },
     "execution_count": 58,
     "metadata": {},
     "output_type": "execute_result"
    }
   ],
   "source": [
    "test"
   ]
  },
  {
   "cell_type": "code",
   "execution_count": 59,
   "metadata": {},
   "outputs": [
    {
     "name": "stdout",
     "output_type": "stream",
     "text": [
      "GPU is available\n"
     ]
    }
   ],
   "source": [
    "import tensorflow as tf\n",
    "\n",
    "if tf.config.list_physical_devices('GPU'):\n",
    "    print(\"GPU is available\")\n",
    "else:\n",
    "    print(\"GPU is not available\")\n",
    "    \n",
    "typecount = 3"
   ]
  },
  {
   "cell_type": "code",
   "execution_count": 60,
   "metadata": {},
   "outputs": [],
   "source": [
    "def torch2tf(pytorch_tensor): \n",
    "    # As we decided to use PyTorch at first \n",
    "    # the output is a Torch tensor \n",
    "    # so we need to change it to Tensorflow tensor\n",
    "    numpy_array = pytorch_tensor.numpy()\n",
    "    tensorflow_tensor = tf.convert_to_tensor(numpy_array)\n",
    "    return tensorflow_tensor"
   ]
  },
  {
   "cell_type": "code",
   "execution_count": 64,
   "metadata": {},
   "outputs": [],
   "source": [
    "def data_processing(dataset):\n",
    "    X_raw = dataset['Tensor']\n",
    "    Y = torch.Tensor(dataset['Sentiment'])\n",
    "    dialogue = dataset['Dialogue_ID']\n",
    "    max_n = 15\n",
    "    X_prev_1 = torch.zeros((len(X_raw), max_n, 100))\n",
    "    X_prev_2 = torch.zeros((len(X_raw), max_n, 100))\n",
    "    X = torch.zeros((len(X_raw), max_n, 100))\n",
    "    for i in range(len(X_raw)):\n",
    "        t = torch.Tensor(np.array(X_raw[i]))\n",
    "        if t.shape[0]>max_n:\n",
    "            t = t[:max_n,:]\n",
    "        X[i,:t.shape[0],:] = t\n",
    "        if i == 0 or dialogue[i-1] != dialogue[i]:\n",
    "            continue\n",
    "        elif i == 1 or dialogue[i-2] != dialogue[i]:\n",
    "            t_prev = torch.Tensor(np.array(X_raw[i-1]))\n",
    "            if t_prev.shape[0]>max_n:\n",
    "                t_prev = t_prev[:max_n,:]\n",
    "            X_prev_2[i,:t_prev.shape[0],:] = t_prev\n",
    "        else:\n",
    "            t_prev = torch.Tensor(np.array(X_raw[i-1]))\n",
    "            if t_prev.shape[0]>max_n:\n",
    "                t_prev = t_prev[:max_n,:]\n",
    "            X_prev_2[i,:t_prev.shape[0],:] = t_prev\n",
    "            t_next = torch.Tensor(np.array(X_raw[i-2]))\n",
    "            if t_next.shape[0]>max_n:\n",
    "                t_next = t_next[:max_n,:]\n",
    "            X_prev_1[i,:t_next.shape[0],:] = t_next\n",
    "    X_prev_1,X_prev_2,X = torch2tf(X_prev_1),torch2tf(X_prev_2),torch2tf(X)\n",
    "    Y = torch2tf(Y)\n",
    "    Y = tf.one_hot(tf.cast(Y, dtype=tf.uint8), depth=typecount)\n",
    "    return X_prev_1,X_prev_2,X,Y"
   ]
  },
  {
   "cell_type": "code",
   "execution_count": 181,
   "metadata": {},
   "outputs": [
    {
     "name": "stdout",
     "output_type": "stream",
     "text": [
      "Sentiment\n",
      "0    40360\n",
      "1    26804\n",
      "2    13198\n",
      "Name: count, dtype: int64\n",
      "Sentiment\n",
      "0    11485\n",
      "1     7010\n",
      "2     5816\n",
      "Name: count, dtype: int64\n",
      "Sentiment\n",
      "0    5497\n",
      "1    2746\n",
      "2    1520\n",
      "Name: count, dtype: int64\n"
     ]
    }
   ],
   "source": [
    "\n",
    "print(train[\"Sentiment\"].value_counts())\n",
    "print(test[\"Sentiment\"].value_counts())\n",
    "print(valid[\"Sentiment\"].value_counts())\n",
    "emotions = list(train[\"Sentiment\"].value_counts().index)\n",
    "typecount = len(emotions)\n"
   ]
  },
  {
   "cell_type": "code",
   "execution_count": 190,
   "metadata": {},
   "outputs": [
    {
     "name": "stderr",
     "output_type": "stream",
     "text": [
      "C:\\Users\\Lenovo\\AppData\\Local\\Temp\\ipykernel_9328\\2962184427.py:14: UserWarning: Matplotlib is currently using module://matplotlib_inline.backend_inline, which is a non-GUI backend, so cannot show the figure.\n",
      "  fig.show()\n"
     ]
    },
    {
     "data": {
      "image/png": "[encoded data removed]",
      "text/plain": [
       "<Figure size 1800x600 with 3 Axes>"
      ]
     },
     "metadata": {},
     "output_type": "display_data"
    }
   ],
   "source": [
    "fig, (ax1,ax2,ax3) = plt.subplots(1,3,figsize=(18,6))\n",
    "fig.suptitle('Sentiment Distribution')\n",
    "count_train = train.loc[:, \"Sentiment\"].value_counts()\n",
    "count_test = test.loc[:, \"Sentiment\"].value_counts()\n",
    "count_valid = valid.loc[:, \"Sentiment\"].value_counts()\n",
    "ax1.bar(count_train.index,count_train)\n",
    "ax1.set_title(\"Train\")\n",
    "ax2.bar(count_test.index,count_test)\n",
    "ax2.set_title(\"Test\")\n",
    "ax3.bar(count_valid.index,count_valid)\n",
    "ax3.set_title(\"Valid\")\n",
    "for ax in ax1,ax2,ax3:\n",
    "    plt.setp(ax.get_xticklabels(), rotation=45, ha=\"right\")\n",
    "fig.show()"
   ]
  },
  {
   "cell_type": "code",
   "execution_count": 69,
   "metadata": {},
   "outputs": [
    {
     "name": "stdout",
     "output_type": "stream",
     "text": [
      "(80362, 15, 100)\n",
      "(9763, 15, 100)\n"
     ]
    }
   ],
   "source": [
    "X_train_prev_1,X_train_prev_2,X_train,Y_train= data_processing(train)\n",
    "print(X_train.shape)\n",
    "\n",
    "X_valid_prev_1,X_valid_prev_2,X_valid,Y_valid = data_processing(valid) \n",
    "print(X_valid.shape)"
   ]
  },
  {
   "cell_type": "code",
   "execution_count": 143,
   "metadata": {},
   "outputs": [],
   "source": [
    "X_test_prev_1,X_test_prev_2,X_test,Y_test = data_processing(test) "
   ]
  },
  {
   "cell_type": "code",
   "execution_count": 182,
   "metadata": {},
   "outputs": [
    {
     "name": "stdout",
     "output_type": "stream",
     "text": [
      "(24311, 15, 100)\n"
     ]
    }
   ],
   "source": [
    "print(X_test.shape)"
   ]
  },
  {
   "cell_type": "code",
   "execution_count": 75,
   "metadata": {},
   "outputs": [
    {
     "name": "stdout",
     "output_type": "stream",
     "text": [
      "tf.Tensor(\n",
      "[[ 0.336415 -0.326726  0.144301 ... -0.064117  0.129759 -0.227933]\n",
      " [ 0.115907 -0.474288  0.086524 ...  0.29751  -0.07646  -0.231796]\n",
      " [ 0.        0.        0.       ...  0.        0.        0.      ]\n",
      " ...\n",
      " [ 0.        0.        0.       ...  0.        0.        0.      ]\n",
      " [ 0.        0.        0.       ...  0.        0.        0.      ]\n",
      " [ 0.        0.        0.       ...  0.        0.        0.      ]], shape=(15, 100), dtype=float32)\n",
      "tf.Tensor(\n",
      "[[ 0.013672 -0.398774  0.213491 ... -0.274543  0.289768 -0.52969 ]\n",
      " [ 0.047482 -0.657924  0.128679 ...  0.065943 -0.126883 -0.725823]\n",
      " [ 0.100075 -0.375134 -0.007729 ...  0.42156  -0.047755 -0.164494]\n",
      " ...\n",
      " [ 0.        0.        0.       ...  0.        0.        0.      ]\n",
      " [ 0.        0.        0.       ...  0.        0.        0.      ]\n",
      " [ 0.        0.        0.       ...  0.        0.        0.      ]], shape=(15, 100), dtype=float32)\n",
      "tf.Tensor(\n",
      "[[ 0.254297 -0.246311  0.004492 ...  0.253641 -0.162876 -0.276653]\n",
      " [ 0.39207  -0.548587 -0.115677 ...  0.240479  0.045878 -0.473366]\n",
      " [-0.009268 -0.608469  0.158385 ...  0.081714  0.289629 -0.475093]\n",
      " ...\n",
      " [ 0.        0.        0.       ...  0.        0.        0.      ]\n",
      " [ 0.        0.        0.       ...  0.        0.        0.      ]\n",
      " [ 0.        0.        0.       ...  0.        0.        0.      ]], shape=(15, 100), dtype=float32)\n",
      "tf.Tensor(\n",
      "[[ 0.255891 -0.413941  0.307664 ...  0.007658  0.313691 -0.237584]\n",
      " [ 0.028224 -0.369714  0.069352 ...  0.185777 -0.256586 -0.70417 ]\n",
      " [ 0.255891 -0.413941  0.307664 ...  0.007658  0.313691 -0.237584]\n",
      " ...\n",
      " [ 0.        0.        0.       ...  0.        0.        0.      ]\n",
      " [ 0.        0.        0.       ...  0.        0.        0.      ]\n",
      " [ 0.        0.        0.       ...  0.        0.        0.      ]], shape=(15, 100), dtype=float32)\n",
      "tf.Tensor(\n",
      "[[ 0.25661  -0.498556 -0.055897 ...  0.382657 -0.340913 -0.080263]\n",
      " [ 0.        0.        0.       ...  0.        0.        0.      ]\n",
      " [ 0.        0.        0.       ...  0.        0.        0.      ]\n",
      " ...\n",
      " [ 0.        0.        0.       ...  0.        0.        0.      ]\n",
      " [ 0.        0.        0.       ...  0.        0.        0.      ]\n",
      " [ 0.        0.        0.       ...  0.        0.        0.      ]], shape=(15, 100), dtype=float32)\n",
      "tf.Tensor(\n",
      "[[ 0.39207  -0.548587 -0.115677 ...  0.240479  0.045878 -0.473366]\n",
      " [ 0.320035 -0.474567 -0.443586 ...  0.189912  0.106888 -0.334934]\n",
      " [ 0.217682 -0.508731  0.272168 ... -0.027436  0.091431 -0.182388]\n",
      " ...\n",
      " [ 0.        0.        0.       ...  0.        0.        0.      ]\n",
      " [ 0.        0.        0.       ...  0.        0.        0.      ]\n",
      " [ 0.        0.        0.       ...  0.        0.        0.      ]], shape=(15, 100), dtype=float32)\n",
      "tf.Tensor(\n",
      "[[ 0.25661  -0.498556 -0.055897 ...  0.382657 -0.340913 -0.080263]\n",
      " [-0.009268 -0.608469  0.158385 ...  0.081714  0.289629 -0.475093]\n",
      " [ 0.        0.        0.       ...  0.        0.        0.      ]\n",
      " ...\n",
      " [ 0.        0.        0.       ...  0.        0.        0.      ]\n",
      " [ 0.        0.        0.       ...  0.        0.        0.      ]\n",
      " [ 0.        0.        0.       ...  0.        0.        0.      ]], shape=(15, 100), dtype=float32)\n",
      "tf.Tensor(\n",
      "[[-0.02498  -0.906065 -0.056757 ...  0.203555 -0.451063 -0.453691]\n",
      " [ 0.449256 -0.553663  0.001108 ...  0.281149  0.011228 -0.432094]\n",
      " [ 0.315003 -0.411739 -0.479823 ...  0.306188 -0.286254 -0.150705]\n",
      " ...\n",
      " [ 0.        0.        0.       ...  0.        0.        0.      ]\n",
      " [ 0.        0.        0.       ...  0.        0.        0.      ]\n",
      " [ 0.        0.        0.       ...  0.        0.        0.      ]], shape=(15, 100), dtype=float32)\n",
      "tf.Tensor(\n",
      "[[ 0.39207  -0.548587 -0.115677 ...  0.240479  0.045878 -0.473366]\n",
      " [ 0.320035 -0.474567 -0.443586 ...  0.189912  0.106888 -0.334934]\n",
      " [ 0.431013 -0.442227  0.127044 ... -0.120923  0.585286 -0.390989]\n",
      " ...\n",
      " [ 0.        0.        0.       ...  0.        0.        0.      ]\n",
      " [ 0.        0.        0.       ...  0.        0.        0.      ]\n",
      " [ 0.        0.        0.       ...  0.        0.        0.      ]], shape=(15, 100), dtype=float32)\n",
      "tf.Tensor(\n",
      "[[-0.115604 -0.287531  0.318809 ... -0.125246  0.276746 -0.205629]\n",
      " [ 0.462098 -0.364731  0.034029 ...  0.213814  0.511053 -0.316818]\n",
      " [ 0.100075 -0.375134 -0.007729 ...  0.42156  -0.047755 -0.164494]\n",
      " ...\n",
      " [ 0.        0.        0.       ...  0.        0.        0.      ]\n",
      " [ 0.        0.        0.       ...  0.        0.        0.      ]\n",
      " [ 0.        0.        0.       ...  0.        0.        0.      ]], shape=(15, 100), dtype=float32)\n"
     ]
    }
   ],
   "source": [
    "for i in range(10):\n",
    "    print(X_train[i])"
   ]
  },
  {
   "cell_type": "code",
   "execution_count": 76,
   "metadata": {},
   "outputs": [
    {
     "name": "stdout",
     "output_type": "stream",
     "text": [
      "tf.Tensor(\n",
      "[[0. 1. 0.]\n",
      " [0. 1. 0.]\n",
      " [0. 1. 0.]\n",
      " [0. 1. 0.]\n",
      " [0. 1. 0.]\n",
      " [0. 1. 0.]\n",
      " [0. 1. 0.]\n",
      " [0. 1. 0.]\n",
      " [0. 1. 0.]\n",
      " [0. 1. 0.]\n",
      " [0. 1. 0.]\n",
      " [0. 1. 0.]\n",
      " [0. 1. 0.]\n",
      " [0. 1. 0.]\n",
      " [0. 1. 0.]\n",
      " [0. 1. 0.]\n",
      " [0. 1. 0.]\n",
      " [0. 1. 0.]\n",
      " [0. 1. 0.]\n",
      " [0. 1. 0.]\n",
      " [0. 1. 0.]\n",
      " [0. 0. 1.]\n",
      " [1. 0. 0.]\n",
      " [1. 0. 0.]\n",
      " [1. 0. 0.]\n",
      " [1. 0. 0.]\n",
      " [1. 0. 0.]\n",
      " [1. 0. 0.]\n",
      " [1. 0. 0.]\n",
      " [1. 0. 0.]\n",
      " [1. 0. 0.]\n",
      " [1. 0. 0.]\n",
      " [1. 0. 0.]\n",
      " [1. 0. 0.]\n",
      " [1. 0. 0.]\n",
      " [1. 0. 0.]\n",
      " [1. 0. 0.]\n",
      " [1. 0. 0.]\n",
      " [1. 0. 0.]\n",
      " [1. 0. 0.]\n",
      " [1. 0. 0.]\n",
      " [1. 0. 0.]\n",
      " [1. 0. 0.]\n",
      " [1. 0. 0.]\n",
      " [1. 0. 0.]\n",
      " [1. 0. 0.]\n",
      " [1. 0. 0.]\n",
      " [1. 0. 0.]\n",
      " [1. 0. 0.]\n",
      " [1. 0. 0.]\n",
      " [1. 0. 0.]\n",
      " [1. 0. 0.]\n",
      " [1. 0. 0.]\n",
      " [1. 0. 0.]\n",
      " [0. 1. 0.]\n",
      " [0. 1. 0.]\n",
      " [0. 1. 0.]\n",
      " [0. 1. 0.]\n",
      " [0. 1. 0.]\n",
      " [0. 1. 0.]\n",
      " [1. 0. 0.]\n",
      " [1. 0. 0.]\n",
      " [1. 0. 0.]\n",
      " [1. 0. 0.]\n",
      " [1. 0. 0.]\n",
      " [1. 0. 0.]\n",
      " [1. 0. 0.]\n",
      " [1. 0. 0.]\n",
      " [1. 0. 0.]\n",
      " [1. 0. 0.]\n",
      " [0. 1. 0.]\n",
      " [0. 1. 0.]\n",
      " [0. 1. 0.]\n",
      " [0. 1. 0.]\n",
      " [0. 1. 0.]\n",
      " [1. 0. 0.]\n",
      " [1. 0. 0.]\n",
      " [1. 0. 0.]\n",
      " [0. 1. 0.]\n",
      " [0. 1. 0.]\n",
      " [0. 1. 0.]\n",
      " [0. 1. 0.]\n",
      " [0. 1. 0.]\n",
      " [0. 1. 0.]\n",
      " [0. 1. 0.]\n",
      " [0. 1. 0.]\n",
      " [0. 1. 0.]\n",
      " [1. 0. 0.]\n",
      " [1. 0. 0.]\n",
      " [1. 0. 0.]\n",
      " [1. 0. 0.]\n",
      " [1. 0. 0.]\n",
      " [1. 0. 0.]\n",
      " [1. 0. 0.]\n",
      " [1. 0. 0.]\n",
      " [1. 0. 0.]\n",
      " [1. 0. 0.]\n",
      " [1. 0. 0.]\n",
      " [0. 1. 0.]\n",
      " [0. 1. 0.]], shape=(100, 3), dtype=float32)\n"
     ]
    }
   ],
   "source": [
    "print(Y_train[:100])"
   ]
  },
  {
   "cell_type": "code",
   "execution_count": 80,
   "metadata": {},
   "outputs": [
    {
     "name": "stdout",
     "output_type": "stream",
     "text": [
      "tf.Tensor(\n",
      "[[ 0.336415 -0.326726  0.144301 ... -0.064117  0.129759 -0.227933]\n",
      " [ 0.115907 -0.474288  0.086524 ...  0.29751  -0.07646  -0.231796]\n",
      " [ 0.        0.        0.       ...  0.        0.        0.      ]\n",
      " ...\n",
      " [ 0.        0.        0.       ...  0.        0.        0.      ]\n",
      " [ 0.        0.        0.       ...  0.        0.        0.      ]\n",
      " [ 0.        0.        0.       ...  0.        0.        0.      ]], shape=(15, 100), dtype=float32) tf.Tensor([0. 1. 0.], shape=(3,), dtype=float32)\n",
      "tf.Tensor(\n",
      "[[ 0.013672 -0.398774  0.213491 ... -0.274543  0.289768 -0.52969 ]\n",
      " [ 0.047482 -0.657924  0.128679 ...  0.065943 -0.126883 -0.725823]\n",
      " [ 0.100075 -0.375134 -0.007729 ...  0.42156  -0.047755 -0.164494]\n",
      " ...\n",
      " [ 0.        0.        0.       ...  0.        0.        0.      ]\n",
      " [ 0.        0.        0.       ...  0.        0.        0.      ]\n",
      " [ 0.        0.        0.       ...  0.        0.        0.      ]], shape=(15, 100), dtype=float32) tf.Tensor([0. 1. 0.], shape=(3,), dtype=float32)\n",
      "tf.Tensor(\n",
      "[[ 0.286419 -0.605718 -0.035464 ...  0.315119 -0.337124 -0.44902 ]\n",
      " [ 0.        0.        0.       ...  0.        0.        0.      ]\n",
      " [ 0.        0.        0.       ...  0.        0.        0.      ]\n",
      " ...\n",
      " [ 0.        0.        0.       ...  0.        0.        0.      ]\n",
      " [ 0.        0.        0.       ...  0.        0.        0.      ]\n",
      " [ 0.        0.        0.       ...  0.        0.        0.      ]], shape=(15, 100), dtype=float32) tf.Tensor([1. 0. 0.], shape=(3,), dtype=float32)\n",
      "tf.Tensor(\n",
      "[[ 0.39207  -0.548587 -0.115677 ...  0.240479  0.045878 -0.473366]\n",
      " [ 0.393817 -0.519145  0.125655 ...  0.310816 -0.340373 -0.317749]\n",
      " [ 0.128561 -0.408564  0.163404 ...  0.202325  0.211768 -0.389154]\n",
      " ...\n",
      " [ 0.        0.        0.       ...  0.        0.        0.      ]\n",
      " [ 0.        0.        0.       ...  0.        0.        0.      ]\n",
      " [ 0.        0.        0.       ...  0.        0.        0.      ]], shape=(15, 100), dtype=float32) tf.Tensor([1. 0. 0.], shape=(3,), dtype=float32)\n",
      "tf.Tensor(\n",
      "[[ 0.382628 -0.460504  0.190688 ...  0.158965 -0.030167 -0.150022]\n",
      " [ 0.        0.        0.       ...  0.        0.        0.      ]\n",
      " [ 0.        0.        0.       ...  0.        0.        0.      ]\n",
      " ...\n",
      " [ 0.        0.        0.       ...  0.        0.        0.      ]\n",
      " [ 0.        0.        0.       ...  0.        0.        0.      ]\n",
      " [ 0.        0.        0.       ...  0.        0.        0.      ]], shape=(15, 100), dtype=float32) tf.Tensor([1. 0. 0.], shape=(3,), dtype=float32)\n",
      "tf.Tensor(\n",
      "[[ 0.449256 -0.553663  0.001108 ...  0.281149  0.011228 -0.432094]\n",
      " [ 0.365364 -0.435939  0.14936  ...  0.291283  0.118017 -0.160993]\n",
      " [ 0.131067 -0.471127  0.537494 ...  0.223708  0.098139 -0.500911]\n",
      " ...\n",
      " [ 0.        0.        0.       ...  0.        0.        0.      ]\n",
      " [ 0.        0.        0.       ...  0.        0.        0.      ]\n",
      " [ 0.        0.        0.       ...  0.        0.        0.      ]], shape=(15, 100), dtype=float32) tf.Tensor([1. 0. 0.], shape=(3,), dtype=float32)\n"
     ]
    }
   ],
   "source": [
    "print(X_train[0], Y_train[0])\n",
    "print(X_train[1], Y_train[1])\n",
    "print(X_train[5000], Y_train[5000])\n",
    "print(X_train[5001], Y_train[5001])\n",
    "print(X_train[10000], Y_train[10000])\n",
    "print(X_train[10001], Y_train[10001])"
   ]
  },
  {
   "cell_type": "code",
   "execution_count": 82,
   "metadata": {},
   "outputs": [
    {
     "name": "stdout",
     "output_type": "stream",
     "text": [
      "Sentiment\n",
      "0    5497\n",
      "1    2746\n",
      "2    1520\n",
      "Name: count, dtype: int64\n"
     ]
    }
   ],
   "source": [
    "print(valid['Sentiment'].value_counts())"
   ]
  },
  {
   "cell_type": "code",
   "execution_count": 83,
   "metadata": {},
   "outputs": [
    {
     "name": "stdout",
     "output_type": "stream",
     "text": [
      "Sentiment\n",
      "0    40360\n",
      "1    26804\n",
      "2    13198\n",
      "Name: count, dtype: int64\n"
     ]
    }
   ],
   "source": [
    "print(train['Sentiment'].value_counts())"
   ]
  },
  {
   "cell_type": "code",
   "execution_count": 96,
   "metadata": {},
   "outputs": [],
   "source": [
    "import keras\n",
    "from keras.layers import LSTM, Dense, Activation, Masking, TimeDistributed, Bidirectional, BatchNormalization,Concatenate,Reshape\n",
    "from keras.models import Sequential, load_model\n",
    "from keras import regularizers\n",
    "from keras.utils import plot_model"
   ]
  },
  {
   "cell_type": "code",
   "execution_count": 199,
   "metadata": {},
   "outputs": [],
   "source": [
    "h_n = 100\n",
    "epochs = 100\n",
    "callbacks = [\n",
    "    keras.callbacks.ModelCheckpoint(\"checkpoint/save_at_{epoch}.keras\"),\n",
    "     keras.callbacks.EarlyStopping(\n",
    "     monitor=\"val_loss\",\n",
    "#     min_delta=0,\n",
    "     patience=100,\n",
    "#     verbose=0,\n",
    "#     mode=\"auto\",\n",
    "#     baseline=None,\n",
    "     #restore_best_weights=True,\n",
    " )\n",
    "]"
   ]
  },
  {
   "cell_type": "code",
   "execution_count": null,
   "metadata": {},
   "outputs": [],
   "source": []
  },
  {
   "cell_type": "code",
   "execution_count": 194,
   "metadata": {},
   "outputs": [],
   "source": [
    "def make_model(input_shape,h_n = 100, num_classes=3):\n",
    "    X_prev_1 = keras.Input(shape=input_shape, name=\"X_prev Input\")\n",
    "    X_prev_2 = keras.Input(shape=input_shape, name=\"X Input\")\n",
    "    X = keras.Input(shape=input_shape, name=\"X_next Input\")\n",
    "    # masked1 = Masking(0)(X_prev_1)\n",
    "    # masked2 = Masking(0)(X_prev_2)\n",
    "    # masked3 = Masking(0)(X)\n",
    "    lstm = Bidirectional(LSTM(256, dropout=0.2, kernel_regularizer=regularizers.L2(0.0001)))\n",
    "\n",
    "    lstm1 = lstm(X_prev_1)\n",
    "    lstm2 = lstm(X_prev_2)\n",
    "    lstm3 = lstm(X)\n",
    "\n",
    "    inp = Concatenate(axis=-1)([lstm1, lstm2, lstm3])\n",
    "\n",
    "    inp = Reshape((3, 2*256, )) (inp)\n",
    "    tmp = LSTM(300, dropout=0.1, recurrent_dropout=0.1,kernel_regularizer=regularizers.L2(0.0001), name=\"LSTM_layer\")(inp)\n",
    "    bn = BatchNormalization()(tmp)\n",
    "    outputs = Dense(num_classes, activation=\"softmax\", name=\"Output_layer\")(bn)\n",
    "    return keras.Model([X_prev_1,X_prev_2,X], outputs)"
   ]
  },
  {
   "cell_type": "code",
   "execution_count": 200,
   "metadata": {},
   "outputs": [
    {
     "name": "stdout",
     "output_type": "stream",
     "text": [
      "WARNING:tensorflow:Layer LSTM_layer will not use cuDNN kernels since it doesn't meet the criteria. It will use a generic GPU kernel as fallback when running on GPU.\n",
      "Model: \"model_7\"\n",
      "__________________________________________________________________________________________________\n",
      " Layer (type)                   Output Shape         Param #     Connected to                     \n",
      "==================================================================================================\n",
      " X_prev Input (InputLayer)      [(None, 15, 100)]    0           []                               \n",
      "                                                                                                  \n",
      " X Input (InputLayer)           [(None, 15, 100)]    0           []                               \n",
      "                                                                                                  \n",
      " X_next Input (InputLayer)      [(None, 15, 100)]    0           []                               \n",
      "                                                                                                  \n",
      " bidirectional_7 (Bidirectional  (None, 512)         731136      ['X_prev Input[0][0]',           \n",
      " )                                                                'X Input[0][0]',                \n",
      "                                                                  'X_next Input[0][0]']           \n",
      "                                                                                                  \n",
      " concatenate_7 (Concatenate)    (None, 1536)         0           ['bidirectional_7[0][0]',        \n",
      "                                                                  'bidirectional_7[1][0]',        \n",
      "                                                                  'bidirectional_7[2][0]']        \n",
      "                                                                                                  \n",
      " reshape_7 (Reshape)            (None, 3, 512)       0           ['concatenate_7[0][0]']          \n",
      "                                                                                                  \n",
      " LSTM_layer (LSTM)              (None, 300)          975600      ['reshape_7[0][0]']              \n",
      "                                                                                                  \n",
      " batch_normalization_7 (BatchNo  (None, 300)         1200        ['LSTM_layer[0][0]']             \n",
      " rmalization)                                                                                     \n",
      "                                                                                                  \n",
      " Output_layer (Dense)           (None, 3)            903         ['batch_normalization_7[0][0]']  \n",
      "                                                                                                  \n",
      "==================================================================================================\n",
      "Total params: 1,708,839\n",
      "Trainable params: 1,708,239\n",
      "Non-trainable params: 600\n",
      "__________________________________________________________________________________________________\n",
      "None\n"
     ]
    }
   ],
   "source": [
    "model = make_model(input_shape=(15,100), num_classes=3)\n",
    "print(model.summary())"
   ]
  },
  {
   "cell_type": "code",
   "execution_count": 201,
   "metadata": {},
   "outputs": [],
   "source": [
    "model.compile(\n",
    "    optimizer=tf.keras.optimizers.Adam(0.001),\n",
    "    loss=\"categorical_crossentropy\", \n",
    "    metrics=[\"accuracy\"]\n",
    ")"
   ]
  },
  {
   "cell_type": "code",
   "execution_count": 202,
   "metadata": {},
   "outputs": [
    {
     "name": "stdout",
     "output_type": "stream",
     "text": [
      "Epoch 1/100\n",
      "314/314 [==============================] - 22s 50ms/step - loss: 1.0203 - accuracy: 0.5276 - val_loss: 0.9855 - val_accuracy: 0.5634\n",
      "Epoch 2/100\n",
      "314/314 [==============================] - 14s 45ms/step - loss: 0.9755 - accuracy: 0.5417 - val_loss: 0.9581 - val_accuracy: 0.5892\n",
      "Epoch 3/100\n",
      "314/314 [==============================] - 14s 44ms/step - loss: 0.9639 - accuracy: 0.5467 - val_loss: 0.9145 - val_accuracy: 0.5911\n",
      "Epoch 4/100\n",
      "314/314 [==============================] - 14s 44ms/step - loss: 0.9568 - accuracy: 0.5483 - val_loss: 0.9321 - val_accuracy: 0.5881\n",
      "Epoch 5/100\n",
      "314/314 [==============================] - 14s 44ms/step - loss: 0.9522 - accuracy: 0.5501 - val_loss: 0.9075 - val_accuracy: 0.5830\n",
      "Epoch 6/100\n",
      "314/314 [==============================] - 14s 44ms/step - loss: 0.9477 - accuracy: 0.5525 - val_loss: 0.9162 - val_accuracy: 0.5898\n",
      "Epoch 7/100\n",
      "314/314 [==============================] - 14s 44ms/step - loss: 0.9451 - accuracy: 0.5533 - val_loss: 0.9174 - val_accuracy: 0.5933\n",
      "Epoch 8/100\n",
      "314/314 [==============================] - 14s 44ms/step - loss: 0.9423 - accuracy: 0.5532 - val_loss: 0.9361 - val_accuracy: 0.5623\n",
      "Epoch 9/100\n",
      "314/314 [==============================] - 14s 45ms/step - loss: 0.9388 - accuracy: 0.5571 - val_loss: 0.9120 - val_accuracy: 0.5781\n",
      "Epoch 10/100\n",
      "314/314 [==============================] - 14s 44ms/step - loss: 0.9362 - accuracy: 0.5593 - val_loss: 0.9036 - val_accuracy: 0.5956\n",
      "Epoch 11/100\n",
      "314/314 [==============================] - 14s 44ms/step - loss: 0.9347 - accuracy: 0.5585 - val_loss: 0.9300 - val_accuracy: 0.5685\n",
      "Epoch 12/100\n",
      "314/314 [==============================] - 14s 44ms/step - loss: 0.9310 - accuracy: 0.5610 - val_loss: 0.9189 - val_accuracy: 0.5951\n",
      "Epoch 13/100\n",
      "314/314 [==============================] - 14s 44ms/step - loss: 0.9293 - accuracy: 0.5635 - val_loss: 0.9084 - val_accuracy: 0.5860\n",
      "Epoch 14/100\n",
      "314/314 [==============================] - 14s 44ms/step - loss: 0.9264 - accuracy: 0.5666 - val_loss: 0.9145 - val_accuracy: 0.5898\n",
      "Epoch 15/100\n",
      "314/314 [==============================] - 14s 44ms/step - loss: 0.9242 - accuracy: 0.5692 - val_loss: 0.9091 - val_accuracy: 0.5930\n",
      "Epoch 16/100\n",
      "314/314 [==============================] - 14s 46ms/step - loss: 0.9205 - accuracy: 0.5709 - val_loss: 0.9207 - val_accuracy: 0.5705\n",
      "Epoch 17/100\n",
      "314/314 [==============================] - 14s 45ms/step - loss: 0.9181 - accuracy: 0.5738 - val_loss: 0.9140 - val_accuracy: 0.5918\n",
      "Epoch 18/100\n",
      "314/314 [==============================] - 14s 44ms/step - loss: 0.9146 - accuracy: 0.5748 - val_loss: 0.9219 - val_accuracy: 0.5929\n",
      "Epoch 19/100\n",
      "314/314 [==============================] - 13s 43ms/step - loss: 0.9106 - accuracy: 0.5786 - val_loss: 0.9248 - val_accuracy: 0.5779\n",
      "Epoch 20/100\n",
      "314/314 [==============================] - 13s 43ms/step - loss: 0.9059 - accuracy: 0.5811 - val_loss: 0.9340 - val_accuracy: 0.5890\n",
      "Epoch 21/100\n",
      "314/314 [==============================] - 13s 43ms/step - loss: 0.9001 - accuracy: 0.5881 - val_loss: 0.9198 - val_accuracy: 0.5826\n",
      "Epoch 22/100\n",
      "314/314 [==============================] - 12s 37ms/step - loss: 0.8931 - accuracy: 0.5948 - val_loss: 0.9270 - val_accuracy: 0.5829\n",
      "Epoch 23/100\n",
      "314/314 [==============================] - 9s 27ms/step - loss: 0.8863 - accuracy: 0.5989 - val_loss: 0.9540 - val_accuracy: 0.5957\n",
      "Epoch 24/100\n",
      "314/314 [==============================] - 8s 26ms/step - loss: 0.8768 - accuracy: 0.6064 - val_loss: 0.9298 - val_accuracy: 0.5883\n",
      "Epoch 25/100\n",
      "314/314 [==============================] - 8s 26ms/step - loss: 0.8673 - accuracy: 0.6138 - val_loss: 0.9553 - val_accuracy: 0.5721\n",
      "Epoch 26/100\n",
      "314/314 [==============================] - 8s 26ms/step - loss: 0.8582 - accuracy: 0.6204 - val_loss: 0.9537 - val_accuracy: 0.5859\n",
      "Epoch 27/100\n",
      "314/314 [==============================] - 8s 26ms/step - loss: 0.8426 - accuracy: 0.6305 - val_loss: 0.9875 - val_accuracy: 0.5565\n",
      "Epoch 28/100\n",
      "314/314 [==============================] - 8s 27ms/step - loss: 0.8287 - accuracy: 0.6410 - val_loss: 1.0112 - val_accuracy: 0.5411\n",
      "Epoch 29/100\n",
      "314/314 [==============================] - 8s 26ms/step - loss: 0.8131 - accuracy: 0.6504 - val_loss: 1.0298 - val_accuracy: 0.5554\n",
      "Epoch 30/100\n",
      "314/314 [==============================] - 8s 26ms/step - loss: 0.7936 - accuracy: 0.6636 - val_loss: 1.0477 - val_accuracy: 0.5568\n",
      "Epoch 31/100\n",
      "314/314 [==============================] - 8s 26ms/step - loss: 0.7741 - accuracy: 0.6766 - val_loss: 1.0597 - val_accuracy: 0.5521\n",
      "Epoch 32/100\n",
      "314/314 [==============================] - 8s 26ms/step - loss: 0.7562 - accuracy: 0.6884 - val_loss: 1.0766 - val_accuracy: 0.5598\n",
      "Epoch 33/100\n",
      "314/314 [==============================] - 8s 26ms/step - loss: 0.7421 - accuracy: 0.6974 - val_loss: 1.0968 - val_accuracy: 0.5480\n",
      "Epoch 34/100\n",
      "314/314 [==============================] - 8s 26ms/step - loss: 0.7213 - accuracy: 0.7095 - val_loss: 1.1166 - val_accuracy: 0.5540\n",
      "Epoch 35/100\n",
      "314/314 [==============================] - 8s 26ms/step - loss: 0.7044 - accuracy: 0.7189 - val_loss: 1.1325 - val_accuracy: 0.5436\n",
      "Epoch 36/100\n",
      "314/314 [==============================] - 8s 27ms/step - loss: 0.6851 - accuracy: 0.7307 - val_loss: 1.1426 - val_accuracy: 0.5602\n",
      "Epoch 37/100\n",
      "314/314 [==============================] - 9s 27ms/step - loss: 0.6682 - accuracy: 0.7410 - val_loss: 1.2193 - val_accuracy: 0.5122\n",
      "Epoch 38/100\n",
      "314/314 [==============================] - 9s 28ms/step - loss: 0.6531 - accuracy: 0.7488 - val_loss: 1.1912 - val_accuracy: 0.5321\n",
      "Epoch 39/100\n",
      "314/314 [==============================] - 10s 33ms/step - loss: 0.6389 - accuracy: 0.7549 - val_loss: 1.2022 - val_accuracy: 0.5196\n",
      "Epoch 40/100\n",
      "314/314 [==============================] - 15s 46ms/step - loss: 0.6247 - accuracy: 0.7627 - val_loss: 1.2290 - val_accuracy: 0.5605\n",
      "Epoch 41/100\n",
      "314/314 [==============================] - 14s 46ms/step - loss: 0.6097 - accuracy: 0.7725 - val_loss: 1.2535 - val_accuracy: 0.5141\n",
      "Epoch 42/100\n",
      "314/314 [==============================] - 14s 45ms/step - loss: 0.5963 - accuracy: 0.7783 - val_loss: 1.2649 - val_accuracy: 0.5218\n",
      "Epoch 43/100\n",
      "314/314 [==============================] - 14s 45ms/step - loss: 0.5869 - accuracy: 0.7822 - val_loss: 1.2979 - val_accuracy: 0.5438\n",
      "Epoch 44/100\n",
      "314/314 [==============================] - 14s 45ms/step - loss: 0.5748 - accuracy: 0.7885 - val_loss: 1.3257 - val_accuracy: 0.5055\n",
      "Epoch 45/100\n",
      "314/314 [==============================] - 14s 45ms/step - loss: 0.5638 - accuracy: 0.7946 - val_loss: 1.2807 - val_accuracy: 0.5340\n",
      "Epoch 46/100\n",
      "314/314 [==============================] - 14s 45ms/step - loss: 0.5559 - accuracy: 0.7993 - val_loss: 1.3179 - val_accuracy: 0.5434\n",
      "Epoch 47/100\n",
      "314/314 [==============================] - 14s 45ms/step - loss: 0.5418 - accuracy: 0.8047 - val_loss: 1.3621 - val_accuracy: 0.5175\n",
      "Epoch 48/100\n",
      "314/314 [==============================] - 14s 45ms/step - loss: 0.5315 - accuracy: 0.8088 - val_loss: 1.3257 - val_accuracy: 0.5370\n",
      "Epoch 49/100\n",
      "314/314 [==============================] - 14s 46ms/step - loss: 0.5242 - accuracy: 0.8145 - val_loss: 1.4052 - val_accuracy: 0.5254\n",
      "Epoch 50/100\n",
      "314/314 [==============================] - 14s 45ms/step - loss: 0.5161 - accuracy: 0.8181 - val_loss: 1.3511 - val_accuracy: 0.5447\n",
      "Epoch 51/100\n",
      "314/314 [==============================] - 14s 44ms/step - loss: 0.5102 - accuracy: 0.8208 - val_loss: 1.4153 - val_accuracy: 0.5327\n",
      "Epoch 52/100\n",
      "314/314 [==============================] - 14s 45ms/step - loss: 0.4997 - accuracy: 0.8265 - val_loss: 1.3916 - val_accuracy: 0.5414\n",
      "Epoch 53/100\n",
      "314/314 [==============================] - 10s 32ms/step - loss: 0.4942 - accuracy: 0.8287 - val_loss: 1.4566 - val_accuracy: 0.5353\n",
      "Epoch 54/100\n",
      "314/314 [==============================] - 11s 36ms/step - loss: 0.4830 - accuracy: 0.8337 - val_loss: 1.4682 - val_accuracy: 0.5205\n",
      "Epoch 55/100\n",
      "314/314 [==============================] - 14s 44ms/step - loss: 0.4790 - accuracy: 0.8363 - val_loss: 1.4411 - val_accuracy: 0.5294\n",
      "Epoch 56/100\n",
      "314/314 [==============================] - 10s 31ms/step - loss: 0.4717 - accuracy: 0.8383 - val_loss: 1.4633 - val_accuracy: 0.5202\n",
      "Epoch 57/100\n",
      "314/314 [==============================] - 9s 28ms/step - loss: 0.4651 - accuracy: 0.8420 - val_loss: 1.5008 - val_accuracy: 0.5199\n",
      "Epoch 58/100\n",
      "314/314 [==============================] - 9s 30ms/step - loss: 0.4607 - accuracy: 0.8442 - val_loss: 1.5278 - val_accuracy: 0.5235\n",
      "Epoch 59/100\n",
      "314/314 [==============================] - 10s 31ms/step - loss: 0.4548 - accuracy: 0.8471 - val_loss: 1.5214 - val_accuracy: 0.5275\n",
      "Epoch 60/100\n",
      "314/314 [==============================] - 9s 30ms/step - loss: 0.4480 - accuracy: 0.8500 - val_loss: 1.5501 - val_accuracy: 0.5401\n",
      "Epoch 61/100\n",
      "314/314 [==============================] - 9s 28ms/step - loss: 0.4459 - accuracy: 0.8508 - val_loss: 1.5162 - val_accuracy: 0.5369\n",
      "Epoch 62/100\n",
      "314/314 [==============================] - 9s 27ms/step - loss: 0.4370 - accuracy: 0.8549 - val_loss: 1.5480 - val_accuracy: 0.5248\n",
      "Epoch 63/100\n",
      "314/314 [==============================] - 9s 28ms/step - loss: 0.4313 - accuracy: 0.8573 - val_loss: 1.5432 - val_accuracy: 0.5321\n",
      "Epoch 64/100\n",
      "314/314 [==============================] - 9s 28ms/step - loss: 0.4275 - accuracy: 0.8596 - val_loss: 1.5486 - val_accuracy: 0.5186\n",
      "Epoch 65/100\n",
      "314/314 [==============================] - 10s 31ms/step - loss: 0.4249 - accuracy: 0.8594 - val_loss: 1.5901 - val_accuracy: 0.5213\n",
      "Epoch 66/100\n",
      "314/314 [==============================] - 9s 29ms/step - loss: 0.4170 - accuracy: 0.8635 - val_loss: 1.6141 - val_accuracy: 0.5494\n",
      "Epoch 67/100\n",
      "314/314 [==============================] - 10s 31ms/step - loss: 0.4138 - accuracy: 0.8661 - val_loss: 1.6617 - val_accuracy: 0.4968\n",
      "Epoch 68/100\n",
      "314/314 [==============================] - 9s 27ms/step - loss: 0.4042 - accuracy: 0.8698 - val_loss: 1.6824 - val_accuracy: 0.5149\n",
      "Epoch 69/100\n",
      "314/314 [==============================] - 10s 31ms/step - loss: 0.4041 - accuracy: 0.8706 - val_loss: 1.6708 - val_accuracy: 0.5241\n",
      "Epoch 70/100\n",
      "314/314 [==============================] - 9s 30ms/step - loss: 0.3992 - accuracy: 0.8713 - val_loss: 1.6479 - val_accuracy: 0.5181\n",
      "Epoch 71/100\n",
      "314/314 [==============================] - 8s 27ms/step - loss: 0.3940 - accuracy: 0.8741 - val_loss: 1.6748 - val_accuracy: 0.5313\n",
      "Epoch 72/100\n",
      "314/314 [==============================] - 9s 28ms/step - loss: 0.3905 - accuracy: 0.8752 - val_loss: 1.7321 - val_accuracy: 0.5128\n",
      "Epoch 73/100\n",
      "314/314 [==============================] - 9s 29ms/step - loss: 0.3897 - accuracy: 0.8766 - val_loss: 1.7094 - val_accuracy: 0.5094\n",
      "Epoch 74/100\n",
      "314/314 [==============================] - 9s 29ms/step - loss: 0.3843 - accuracy: 0.8774 - val_loss: 1.6664 - val_accuracy: 0.5273\n",
      "Epoch 75/100\n",
      "314/314 [==============================] - 10s 30ms/step - loss: 0.3798 - accuracy: 0.8809 - val_loss: 1.7234 - val_accuracy: 0.5120\n",
      "Epoch 76/100\n",
      "314/314 [==============================] - 10s 31ms/step - loss: 0.3782 - accuracy: 0.8812 - val_loss: 1.7369 - val_accuracy: 0.5075\n",
      "Epoch 77/100\n",
      "314/314 [==============================] - 8s 27ms/step - loss: 0.3753 - accuracy: 0.8838 - val_loss: 1.7692 - val_accuracy: 0.5093\n",
      "Epoch 78/100\n",
      "314/314 [==============================] - 9s 27ms/step - loss: 0.3721 - accuracy: 0.8848 - val_loss: 1.7093 - val_accuracy: 0.5131\n",
      "Epoch 79/100\n",
      "314/314 [==============================] - 9s 30ms/step - loss: 0.3653 - accuracy: 0.8879 - val_loss: 1.8115 - val_accuracy: 0.4993\n",
      "Epoch 80/100\n",
      "314/314 [==============================] - 9s 29ms/step - loss: 0.3627 - accuracy: 0.8883 - val_loss: 1.7833 - val_accuracy: 0.5228\n",
      "Epoch 81/100\n",
      "314/314 [==============================] - 17s 54ms/step - loss: 0.3618 - accuracy: 0.8882 - val_loss: 1.7454 - val_accuracy: 0.5214\n",
      "Epoch 82/100\n",
      "314/314 [==============================] - 14s 43ms/step - loss: 0.3569 - accuracy: 0.8893 - val_loss: 1.7890 - val_accuracy: 0.5230\n",
      "Epoch 83/100\n",
      "314/314 [==============================] - 9s 27ms/step - loss: 0.3572 - accuracy: 0.8891 - val_loss: 1.7745 - val_accuracy: 0.5386\n",
      "Epoch 84/100\n",
      "314/314 [==============================] - 9s 28ms/step - loss: 0.3495 - accuracy: 0.8924 - val_loss: 1.7980 - val_accuracy: 0.5116\n",
      "Epoch 85/100\n",
      "314/314 [==============================] - 9s 27ms/step - loss: 0.3476 - accuracy: 0.8932 - val_loss: 1.7083 - val_accuracy: 0.5126\n",
      "Epoch 86/100\n",
      "314/314 [==============================] - 9s 27ms/step - loss: 0.3456 - accuracy: 0.8954 - val_loss: 1.9176 - val_accuracy: 0.5043\n",
      "Epoch 87/100\n",
      "314/314 [==============================] - 9s 27ms/step - loss: 0.3463 - accuracy: 0.8940 - val_loss: 1.8752 - val_accuracy: 0.5056\n",
      "Epoch 88/100\n",
      "314/314 [==============================] - 8s 27ms/step - loss: 0.3395 - accuracy: 0.8983 - val_loss: 1.8925 - val_accuracy: 0.5050\n",
      "Epoch 89/100\n",
      "314/314 [==============================] - 9s 27ms/step - loss: 0.3371 - accuracy: 0.8993 - val_loss: 1.9194 - val_accuracy: 0.5344\n",
      "Epoch 90/100\n",
      "314/314 [==============================] - 9s 29ms/step - loss: 0.3335 - accuracy: 0.9006 - val_loss: 1.8158 - val_accuracy: 0.5069\n",
      "Epoch 91/100\n",
      "314/314 [==============================] - 9s 29ms/step - loss: 0.3303 - accuracy: 0.9023 - val_loss: 1.8701 - val_accuracy: 0.5271\n",
      "Epoch 92/100\n",
      "314/314 [==============================] - 9s 27ms/step - loss: 0.3280 - accuracy: 0.9024 - val_loss: 1.8746 - val_accuracy: 0.5305\n",
      "Epoch 93/100\n",
      "314/314 [==============================] - 9s 27ms/step - loss: 0.3257 - accuracy: 0.9038 - val_loss: 1.8546 - val_accuracy: 0.5079\n",
      "Epoch 94/100\n",
      "314/314 [==============================] - 8s 27ms/step - loss: 0.3247 - accuracy: 0.9053 - val_loss: 1.9067 - val_accuracy: 0.5411\n",
      "Epoch 95/100\n",
      "314/314 [==============================] - 9s 28ms/step - loss: 0.3227 - accuracy: 0.9048 - val_loss: 1.9468 - val_accuracy: 0.4984\n",
      "Epoch 96/100\n",
      "314/314 [==============================] - 9s 28ms/step - loss: 0.3208 - accuracy: 0.9062 - val_loss: 1.8624 - val_accuracy: 0.5252\n",
      "Epoch 97/100\n",
      "314/314 [==============================] - 8s 27ms/step - loss: 0.3156 - accuracy: 0.9076 - val_loss: 2.0013 - val_accuracy: 0.5138\n",
      "Epoch 98/100\n",
      "314/314 [==============================] - 8s 27ms/step - loss: 0.3147 - accuracy: 0.9078 - val_loss: 1.9565 - val_accuracy: 0.5357\n",
      "Epoch 99/100\n",
      "314/314 [==============================] - 8s 27ms/step - loss: 0.3114 - accuracy: 0.9108 - val_loss: 1.9598 - val_accuracy: 0.5057\n",
      "Epoch 100/100\n",
      "314/314 [==============================] - 9s 29ms/step - loss: 0.3067 - accuracy: 0.9117 - val_loss: 1.9448 - val_accuracy: 0.4932\n"
     ]
    }
   ],
   "source": [
    "history = model.fit(\n",
    "    [X_train_prev_1,X_train_prev_2,X_train],Y_train,\n",
    "    epochs=epochs,\n",
    "    callbacks=callbacks,\n",
    "    batch_size=256,\n",
    "    validation_data=([X_valid_prev_1,X_valid_prev_2,X_valid],Y_valid)\n",
    ")"
   ]
  },
  {
   "cell_type": "code",
   "execution_count": 203,
   "metadata": {},
   "outputs": [
    {
     "name": "stdout",
     "output_type": "stream",
     "text": [
      "dict_keys(['loss', 'accuracy', 'val_loss', 'val_accuracy'])\n"
     ]
    }
   ],
   "source": [
    "print(history.history.keys())"
   ]
  },
  {
   "cell_type": "code",
   "execution_count": 204,
   "metadata": {},
   "outputs": [
    {
     "data": {
      "image/png": "[encoded data removed]",
      "text/plain": [
       "<Figure size 1300x600 with 2 Axes>"
      ]
     },
     "metadata": {},
     "output_type": "display_data"
    }
   ],
   "source": [
    "fig, (ax1, ax2) = plt.subplots(1, 2, figsize=(13, 6))\n",
    "\n",
    "ax1.plot(history.history['loss'], label='Train')\n",
    "ax1.plot(history.history['val_loss'], label='Validation')\n",
    "ax1.set_xlabel('Epoch')\n",
    "ax1.set_ylabel('Loss')\n",
    "ax1.set_title('Train and Validation Losses')\n",
    "ax1.legend()\n",
    "\n",
    "ax2.plot(history.history['accuracy'], label='Train')\n",
    "ax2.plot(history.history['val_accuracy'], label='Validation')\n",
    "ax2.set_xlabel('Epoch')\n",
    "ax2.set_ylabel('Accuracy')\n",
    "ax2.set_title('Train and Validation Accuracies')\n",
    "ax2.legend()\n",
    "\n",
    "plt.show()"
   ]
  },
  {
   "cell_type": "code",
   "execution_count": 205,
   "metadata": {},
   "outputs": [
    {
     "name": "stdout",
     "output_type": "stream",
     "text": [
      "WARNING:tensorflow:Layer LSTM_layer will not use cuDNN kernels since it doesn't meet the criteria. It will use a generic GPU kernel as fallback when running on GPU.\n"
     ]
    }
   ],
   "source": [
    "model = load_model('./checkpoint/save_at_15.keras')"
   ]
  },
  {
   "cell_type": "code",
   "execution_count": 206,
   "metadata": {},
   "outputs": [],
   "source": [
    "from sklearn.metrics import confusion_matrix"
   ]
  },
  {
   "cell_type": "code",
   "execution_count": 207,
   "metadata": {},
   "outputs": [],
   "source": [
    "def get_pred(model, inputs, labels):\n",
    "    y_true =tf.math.argmax(labels,axis=1)\n",
    "    y_pred = model.predict(inputs)\n",
    "    y_pred = y_pred.argmax(axis=1)\n",
    "    return y_true, y_pred"
   ]
  },
  {
   "cell_type": "code",
   "execution_count": 208,
   "metadata": {},
   "outputs": [
    {
     "name": "stdout",
     "output_type": "stream",
     "text": [
      "2512/2512 [==============================] - 28s 10ms/step\n",
      "306/306 [==============================] - 4s 12ms/step\n",
      "760/760 [==============================] - 9s 12ms/step\n"
     ]
    }
   ],
   "source": [
    "y_true_train, y_pred_train = get_pred(model,[X_train_prev_1,X_train_prev_2,X_train],Y_train)\n",
    "y_true_valid, y_pred_valid = get_pred(model,[X_valid_prev_1,X_valid_prev_2,X_valid],Y_valid)\n",
    "y_true_test, y_pred_test = get_pred(model,[X_test_prev_1,X_test_prev_2,X_test],Y_test)"
   ]
  },
  {
   "cell_type": "code",
   "execution_count": 209,
   "metadata": {},
   "outputs": [],
   "source": [
    "cm = confusion_matrix(y_true_train,y_pred_train )\n",
    "cm2 = confusion_matrix(y_true_valid, y_pred_valid)\n",
    "cm3 = confusion_matrix(y_true_test, y_pred_test)"
   ]
  },
  {
   "cell_type": "code",
   "execution_count": 213,
   "metadata": {},
   "outputs": [
    {
     "name": "stdout",
     "output_type": "stream",
     "text": [
      "[[8902 1083 1500]\n",
      " [4250 1459 1301]\n",
      " [3110  838 1868]]\n"
     ]
    }
   ],
   "source": [
    "print(cm3)\n"
   ]
  },
  {
   "cell_type": "code",
   "execution_count": 216,
   "metadata": {},
   "outputs": [
    {
     "data": {
      "image/png": "[encoded data removed]",
      "text/plain": [
       "<Figure size 2400x600 with 3 Axes>"
      ]
     },
     "metadata": {},
     "output_type": "display_data"
    }
   ],
   "source": [
    "fig, (ax1, ax2,ax3) = plt.subplots(1,3,figsize=(24, 6))\n",
    "ax1.imshow(cm, cmap='Blues', vmin=0, vmax=5000)\n",
    "ax1.grid(False)\n",
    "ax1.set_xlabel('Predicted labels', fontsize=12, color='black')\n",
    "ax1.set_ylabel('True labels', fontsize=12, color='black')\n",
    "ax1.set_xticks(np.arange(3))\n",
    "ax1.set_yticks(np.arange(3))\n",
    "ax1.set_xticklabels([\"negative\",\"neutral\",\"positive\"], fontsize=10, color='black')\n",
    "ax1.set_yticklabels([\"negative\",\"neutral\",\"positive\"], fontsize=10, color='black')\n",
    "\n",
    "for i in range(3):\n",
    "    for j in range(3):\n",
    "        ax1.text(j, i, cm[i, j], ha='center', va='center', color='white', fontsize=16)\n",
    "\n",
    "ax2.imshow(cm2, cmap='Blues', vmin=0, vmax=1000)\n",
    "ax2.grid(False)\n",
    "ax2.set_xlabel('Predicted labels', fontsize=12, color='black')\n",
    "ax2.set_ylabel('True labels', fontsize=12, color='black')\n",
    "ax2.set_xticks(np.arange(3))\n",
    "ax2.set_yticks(np.arange(3))\n",
    "ax2.set_xticklabels([\"negative\",\"neutral\",\"positive\"], fontsize=10, color='black')\n",
    "ax2.set_yticklabels([\"negative\",\"neutral\",\"positive\"], fontsize=10, color='black')\n",
    "\n",
    "for i in range(3):\n",
    "    for j in range(3):\n",
    "        ax2.text(j, i, cm2[i, j], ha='center', va='center', color='white', fontsize=16)\n",
    "        \n",
    "ax3.imshow(cm3, cmap='Blues', vmin=0, vmax=2000)\n",
    "ax3.grid(False)\n",
    "ax3.set_xlabel('Predicted labels', fontsize=12, color='black')\n",
    "ax3.set_ylabel('True labels', fontsize=12, color='black')\n",
    "ax3.set_xticks(np.arange(3))\n",
    "ax3.set_yticks(np.arange(3))\n",
    "ax3.set_xticklabels([\"negative\",\"neutral\",\"positive\"], fontsize=10, color='black')\n",
    "ax3.set_yticklabels([\"negative\",\"neutral\",\"positive\"], fontsize=10, color='black')\n",
    "\n",
    "for i in range(3):\n",
    "    for j in range(3):\n",
    "        ax3.text(j, i, cm3[i, j], ha='center', va='center', color='white', fontsize=16)\n",
    "\n",
    "ax1.set_title(\"Train Set Confution Matrix\")\n",
    "ax2.set_title(\"Valid Set Confution Matrix\")\n",
    "ax3.set_title(\"Test Set Confution Matrix\")\n",
    "\n",
    "\n",
    "plt.show()"
   ]
  },
  {
   "cell_type": "code",
   "execution_count": 217,
   "metadata": {},
   "outputs": [],
   "source": [
    "def f1_score(pred_labels, true_labels, num_classes):\n",
    "\n",
    "\n",
    "    conf_matrix = np.zeros((num_classes, num_classes), dtype = \"int32\")\n",
    "    for i in range(len(pred_labels)):\n",
    "        conf_matrix[pred_labels[i], true_labels[i]] += 1\n",
    "\n",
    "    for i in range(num_classes):\n",
    "      for j in range(num_classes):\n",
    "        print(\"{:5d}\".format(conf_matrix[i][j]), end = \"\")\n",
    "      print()\n",
    "    \n",
    "\n",
    "    precisions = 0\n",
    "    recalls = 0\n",
    "    for i in range(num_classes):\n",
    "        tp = conf_matrix[i, i]\n",
    "        fp = np.sum(conf_matrix[:, i]) - tp\n",
    "        fn = np.sum(conf_matrix[i, :]) - tp\n",
    "        \n",
    "        precisions += tp / (tp + fp) if (tp + fp) != 0 else 0\n",
    "        recalls += tp / (tp + fn) if (tp + fn) != 0 else 0\n",
    "    precisions /= num_classes\n",
    "    recalls /= num_classes\n",
    "\n",
    "    f1 = np.mean(2 * precisions * recalls / (precisions + recalls) if (precisions + recalls) != 0 else 0)\n",
    "\n",
    "    return f1"
   ]
  },
  {
   "cell_type": "code",
   "execution_count": 218,
   "metadata": {},
   "outputs": [
    {
     "name": "stdout",
     "output_type": "stream",
     "text": [
      " 8902 4250 3110\n",
      " 1083 1459  838\n",
      " 1500 1301 1868\n"
     ]
    }
   ],
   "source": [
    "f1 = f1_score(y_pred_test,y_true_test,3)"
   ]
  },
  {
   "cell_type": "code",
   "execution_count": 219,
   "metadata": {},
   "outputs": [
    {
     "name": "stdout",
     "output_type": "stream",
     "text": [
      "0.4469140151323861\n"
     ]
    }
   ],
   "source": [
    "print(f1)"
   ]
  }
 ],
 "metadata": {
  "kernelspec": {
   "display_name": "ERC",
   "language": "python",
   "name": "python3"
  },
  "language_info": {
   "codemirror_mode": {
    "name": "ipython",
    "version": 3
   },
   "file_extension": ".py",
   "mimetype": "text/x-python",
   "name": "python",
   "nbconvert_exporter": "python",
   "pygments_lexer": "ipython3",
   "version": "3.9.16"
  },
  "orig_nbformat": 4
 },
 "nbformat": 4,
 "nbformat_minor": 2
}
