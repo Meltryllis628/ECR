{
 "cells": [
  {
   "cell_type": "code",
   "execution_count": 1,
   "metadata": {},
   "outputs": [],
   "source": [
    "import torch\n",
    "import torch.nn as nn\n",
    "import torch.nn.functional as F\n",
    "from torch.autograd import Variable\n",
    "import pandas as pd\n",
    "import matplotlib.pyplot as plt\n",
    "# from ltp import LTP"
   ]
  },
  {
   "attachments": {},
   "cell_type": "markdown",
   "metadata": {},
   "source": [
    "# Emotion Recognition in Conversations\n",
    "\n",
    "This is a Nature language Processing task. We choose to use LSTM model to solve the task. "
   ]
  },
  {
   "attachments": {},
   "cell_type": "markdown",
   "metadata": {},
   "source": [
    "## Dataset\n",
    "The data set we use is [CPED ](https://github.com/scutcyr/CPED), a dataset from 40 Chinese TV shows. We take \"Dialogue_ID\", \"Utterance\" ,\"Emotion\" from the columns for this task as shown below :"
   ]
  },
  {
   "cell_type": "code",
   "execution_count": 2,
   "metadata": {},
   "outputs": [
    {
     "data": {
      "text/html": [
       "<div>\n",
       "<style scoped>\n",
       "    .dataframe tbody tr th:only-of-type {\n",
       "        vertical-align: middle;\n",
       "    }\n",
       "\n",
       "    .dataframe tbody tr th {\n",
       "        vertical-align: top;\n",
       "    }\n",
       "\n",
       "    .dataframe thead th {\n",
       "        text-align: right;\n",
       "    }\n",
       "</style>\n",
       "<table border=\"1\" class=\"dataframe\">\n",
       "  <thead>\n",
       "    <tr style=\"text-align: right;\">\n",
       "      <th></th>\n",
       "      <th>Dialogue_ID</th>\n",
       "      <th>Utterance</th>\n",
       "      <th>Emotion</th>\n",
       "    </tr>\n",
       "  </thead>\n",
       "  <tbody>\n",
       "    <tr>\n",
       "      <th>0</th>\n",
       "      <td>01_000</td>\n",
       "      <td>真巧</td>\n",
       "      <td>neutral</td>\n",
       "    </tr>\n",
       "    <tr>\n",
       "      <th>1</th>\n",
       "      <td>01_000</td>\n",
       "      <td>车没事了</td>\n",
       "      <td>neutral</td>\n",
       "    </tr>\n",
       "    <tr>\n",
       "      <th>2</th>\n",
       "      <td>01_000</td>\n",
       "      <td>是你呀 没事了没事 谢谢你</td>\n",
       "      <td>neutral</td>\n",
       "    </tr>\n",
       "    <tr>\n",
       "      <th>3</th>\n",
       "      <td>01_000</td>\n",
       "      <td>没事没事 你也去春风</td>\n",
       "      <td>neutral</td>\n",
       "    </tr>\n",
       "    <tr>\n",
       "      <th>4</th>\n",
       "      <td>01_001</td>\n",
       "      <td>对</td>\n",
       "      <td>neutral</td>\n",
       "    </tr>\n",
       "    <tr>\n",
       "      <th>5</th>\n",
       "      <td>01_001</td>\n",
       "      <td>你孩子也在这上学</td>\n",
       "      <td>neutral</td>\n",
       "    </tr>\n",
       "    <tr>\n",
       "      <th>6</th>\n",
       "      <td>01_001</td>\n",
       "      <td>对呀</td>\n",
       "      <td>neutral</td>\n",
       "    </tr>\n",
       "    <tr>\n",
       "      <th>7</th>\n",
       "      <td>01_002</td>\n",
       "      <td>真巧 我儿子也在这</td>\n",
       "      <td>neutral</td>\n",
       "    </tr>\n",
       "    <tr>\n",
       "      <th>8</th>\n",
       "      <td>01_002</td>\n",
       "      <td>你孩子几年级</td>\n",
       "      <td>neutral</td>\n",
       "    </tr>\n",
       "    <tr>\n",
       "      <th>9</th>\n",
       "      <td>01_002</td>\n",
       "      <td>高三了</td>\n",
       "      <td>neutral</td>\n",
       "    </tr>\n",
       "  </tbody>\n",
       "</table>\n",
       "</div>"
      ],
      "text/plain": [
       "  Dialogue_ID      Utterance  Emotion\n",
       "0      01_000             真巧  neutral\n",
       "1      01_000           车没事了  neutral\n",
       "2      01_000  是你呀 没事了没事 谢谢你  neutral\n",
       "3      01_000     没事没事 你也去春风  neutral\n",
       "4      01_001              对  neutral\n",
       "5      01_001       你孩子也在这上学  neutral\n",
       "6      01_001             对呀  neutral\n",
       "7      01_002      真巧 我儿子也在这  neutral\n",
       "8      01_002         你孩子几年级  neutral\n",
       "9      01_002            高三了  neutral"
      ]
     },
     "metadata": {},
     "output_type": "display_data"
    }
   ],
   "source": [
    "train = pd.read_csv(\"train_split.csv\").loc[:,[\"Dialogue_ID\", \"Utterance\" ,\"Emotion\"]]\n",
    "display(train.head(10))"
   ]
  },
  {
   "attachments": {},
   "cell_type": "markdown",
   "metadata": {},
   "source": [
    "The count of different emotions is shown in the bar chart below and we noticed that the distribution of emotions in different TV series is similar to the distribution in the whole dataset. So we can reduce the data size."
   ]
  },
  {
   "cell_type": "code",
   "execution_count": 3,
   "metadata": {},
   "outputs": [
    {
     "ename": "",
     "evalue": "",
     "output_type": "error",
     "traceback": [
      "\u001b[1;31mCanceled future for execute_request message before replies were done"
     ]
    },
    {
     "ename": "",
     "evalue": "",
     "output_type": "error",
     "traceback": [
      "\u001b[1;31m在当前单元格或上一个单元格中执行代码时 Kernel 崩溃。请查看单元格中的代码，以确定故障的可能原因。有关详细信息，请单击 <a href='https://aka.ms/vscodeJupyterKernelCrash'>此处</a>。有关更多详细信息，请查看 Jupyter <a href='command:jupyter.viewOutput'>log</a>。"
     ]
    }
   ],
   "source": [
    "fig, (ax1, ax2) = plt.subplots(1,2,figsize=(10,6))\n",
    "fig.suptitle('Emotion Distribution')\n",
    "count_part = train.loc[0:34877, \"Emotion\"].value_counts()\n",
    "count_whole = train.loc[:, \"Emotion\"].value_counts()\n",
    "ax1.bar(count_whole.index,count_whole)\n",
    "ax1.set_title(\"Whole\")\n",
    "ax2.bar(count_part.index,count_part)\n",
    "ax2.set_title(\"Partial\")\n",
    "for ax in ax1,ax2:\n",
    "    plt.setp(ax.get_xticklabels(), rotation=45, ha=\"right\")\n",
    "fig.show()"
   ]
  },
  {
   "attachments": {},
   "cell_type": "markdown",
   "metadata": {},
   "source": [
    "## Tokenization\n",
    "As it is a dataset with Chinese characters, tokenization process cannot just split the sentence to different characters but need to combine some characters to form words. For this process we use [LTP](https://github.com/HIT-SCIR/ltp), a model aimed for Chinese tokenization. It's noteworthy that some chatacters in the speakers' names mentioned in the utterance may be combined with other characters wrongly. To aviod this we add the names into the dictionary in advance."
   ]
  },
  {
   "cell_type": "code",
   "execution_count": null,
   "metadata": {},
   "outputs": [
    {
     "ename": "AttributeError",
     "evalue": "partially initialized module 'charset_normalizer' has no attribute 'md__mypyc' (most likely due to a circular import)",
     "output_type": "error",
     "traceback": [
      "\u001b[1;31m---------------------------------------------------------------------------\u001b[0m",
      "\u001b[1;31mModuleNotFoundError\u001b[0m                       Traceback (most recent call last)",
      "File \u001b[1;32md:\\Users\\10252\\anaconda3\\envs\\ERC\\lib\\site-packages\\requests\\compat.py:11\u001b[0m\n\u001b[0;32m     10\u001b[0m \u001b[39mtry\u001b[39;00m:\n\u001b[1;32m---> 11\u001b[0m     \u001b[39mimport\u001b[39;00m \u001b[39mchardet\u001b[39;00m\n\u001b[0;32m     12\u001b[0m \u001b[39mexcept\u001b[39;00m \u001b[39mImportError\u001b[39;00m:\n",
      "\u001b[1;31mModuleNotFoundError\u001b[0m: No module named 'chardet'",
      "\nDuring handling of the above exception, another exception occurred:\n",
      "\u001b[1;31mAttributeError\u001b[0m                            Traceback (most recent call last)",
      "Cell \u001b[1;32mIn[3], line 3\u001b[0m\n\u001b[0;32m      1\u001b[0m \u001b[39mimport\u001b[39;00m \u001b[39mpandas\u001b[39;00m \u001b[39mas\u001b[39;00m \u001b[39mpd\u001b[39;00m\n\u001b[0;32m      2\u001b[0m \u001b[39mimport\u001b[39;00m \u001b[39mtorch\u001b[39;00m\n\u001b[1;32m----> 3\u001b[0m \u001b[39mfrom\u001b[39;00m \u001b[39mltp\u001b[39;00m \u001b[39mimport\u001b[39;00m LTP\n\u001b[0;32m      4\u001b[0m \u001b[39mimport\u001b[39;00m \u001b[39mre\u001b[39;00m\n\u001b[0;32m      5\u001b[0m \u001b[39mimport\u001b[39;00m \u001b[39msys\u001b[39;00m\n",
      "File \u001b[1;32md:\\Users\\10252\\anaconda3\\envs\\ERC\\lib\\site-packages\\ltp\\__init__.py:5\u001b[0m\n\u001b[0;32m      1\u001b[0m __version__ \u001b[39m=\u001b[39m \u001b[39m\"\u001b[39m\u001b[39m4.2.13\u001b[39m\u001b[39m\"\u001b[39m\n\u001b[0;32m      3\u001b[0m \u001b[39mfrom\u001b[39;00m \u001b[39mltp_extension\u001b[39;00m\u001b[39m.\u001b[39;00m\u001b[39malgorithms\u001b[39;00m \u001b[39mimport\u001b[39;00m StnSplit\n\u001b[1;32m----> 5\u001b[0m \u001b[39mfrom\u001b[39;00m \u001b[39m.\u001b[39;00m\u001b[39minterface\u001b[39;00m \u001b[39mimport\u001b[39;00m LTP\n\u001b[0;32m      7\u001b[0m __all__ \u001b[39m=\u001b[39m [\n\u001b[0;32m      8\u001b[0m     \u001b[39m\"\u001b[39m\u001b[39mLTP\u001b[39m\u001b[39m\"\u001b[39m,\n\u001b[0;32m      9\u001b[0m     \u001b[39m\"\u001b[39m\u001b[39mStnSplit\u001b[39m\u001b[39m\"\u001b[39m,\n\u001b[0;32m     10\u001b[0m     \u001b[39m\"\u001b[39m\u001b[39m__version__\u001b[39m\u001b[39m\"\u001b[39m,\n\u001b[0;32m     11\u001b[0m ]\n",
      "File \u001b[1;32md:\\Users\\10252\\anaconda3\\envs\\ERC\\lib\\site-packages\\ltp\\interface.py:7\u001b[0m\n\u001b[0;32m      5\u001b[0m \u001b[39mfrom\u001b[39;00m \u001b[39mltp\u001b[39;00m\u001b[39m.\u001b[39;00m\u001b[39mlegacy\u001b[39;00m \u001b[39mimport\u001b[39;00m LTP \u001b[39mas\u001b[39;00m LTP_legacy\n\u001b[0;32m      6\u001b[0m \u001b[39mfrom\u001b[39;00m \u001b[39mltp\u001b[39;00m\u001b[39m.\u001b[39;00m\u001b[39mmixin\u001b[39;00m \u001b[39mimport\u001b[39;00m CONFIG_NAME\n\u001b[1;32m----> 7\u001b[0m \u001b[39mfrom\u001b[39;00m \u001b[39mltp\u001b[39;00m\u001b[39m.\u001b[39;00m\u001b[39mnerual\u001b[39;00m \u001b[39mimport\u001b[39;00m LTP \u001b[39mas\u001b[39;00m LTP_neural\n\u001b[0;32m      8\u001b[0m \u001b[39mfrom\u001b[39;00m \u001b[39mltp\u001b[39;00m\u001b[39m.\u001b[39;00m\u001b[39mutils\u001b[39;00m \u001b[39mimport\u001b[39;00m get_pylogger\n\u001b[0;32m     10\u001b[0m logger \u001b[39m=\u001b[39m get_pylogger()\n",
      "File \u001b[1;32md:\\Users\\10252\\anaconda3\\envs\\ERC\\lib\\site-packages\\ltp\\nerual.py:13\u001b[0m\n\u001b[0;32m     11\u001b[0m \u001b[39mfrom\u001b[39;00m \u001b[39mltp\u001b[39;00m\u001b[39m.\u001b[39;00m\u001b[39mmodule\u001b[39;00m \u001b[39mimport\u001b[39;00m BaseModule\n\u001b[0;32m     12\u001b[0m \u001b[39mfrom\u001b[39;00m \u001b[39mltp_extension\u001b[39;00m\u001b[39m.\u001b[39;00m\u001b[39malgorithms\u001b[39;00m \u001b[39mimport\u001b[39;00m Hook, eisner, get_entities\n\u001b[1;32m---> 13\u001b[0m \u001b[39mfrom\u001b[39;00m \u001b[39mtransformers\u001b[39;00m \u001b[39mimport\u001b[39;00m AutoTokenizer, BatchEncoding\n\u001b[0;32m     15\u001b[0m \u001b[39mfrom\u001b[39;00m \u001b[39mltp_core\u001b[39;00m\u001b[39m.\u001b[39;00m\u001b[39mmodels\u001b[39;00m\u001b[39m.\u001b[39;00m\u001b[39mcomponents\u001b[39;00m\u001b[39m.\u001b[39;00m\u001b[39mgraph\u001b[39;00m \u001b[39mimport\u001b[39;00m GraphResult\n\u001b[0;32m     16\u001b[0m \u001b[39mfrom\u001b[39;00m \u001b[39mltp_core\u001b[39;00m\u001b[39m.\u001b[39;00m\u001b[39mmodels\u001b[39;00m\u001b[39m.\u001b[39;00m\u001b[39mcomponents\u001b[39;00m\u001b[39m.\u001b[39;00m\u001b[39mtoken\u001b[39;00m \u001b[39mimport\u001b[39;00m TokenClassifierResult\n",
      "File \u001b[1;32md:\\Users\\10252\\anaconda3\\envs\\ERC\\lib\\site-packages\\transformers\\__init__.py:30\u001b[0m\n\u001b[0;32m     27\u001b[0m \u001b[39mfrom\u001b[39;00m \u001b[39mtyping\u001b[39;00m \u001b[39mimport\u001b[39;00m TYPE_CHECKING\n\u001b[0;32m     29\u001b[0m \u001b[39m# Check the dependencies satisfy the minimal versions required.\u001b[39;00m\n\u001b[1;32m---> 30\u001b[0m \u001b[39mfrom\u001b[39;00m \u001b[39m.\u001b[39;00m \u001b[39mimport\u001b[39;00m dependency_versions_check\n\u001b[0;32m     31\u001b[0m \u001b[39mfrom\u001b[39;00m \u001b[39m.\u001b[39;00m\u001b[39mutils\u001b[39;00m \u001b[39mimport\u001b[39;00m (\n\u001b[0;32m     32\u001b[0m     OptionalDependencyNotAvailable,\n\u001b[0;32m     33\u001b[0m     _LazyModule,\n\u001b[1;32m   (...)\u001b[0m\n\u001b[0;32m     44\u001b[0m     logging,\n\u001b[0;32m     45\u001b[0m )\n\u001b[0;32m     48\u001b[0m logger \u001b[39m=\u001b[39m logging\u001b[39m.\u001b[39mget_logger(\u001b[39m__name__\u001b[39m)  \u001b[39m# pylint: disable=invalid-name\u001b[39;00m\n",
      "File \u001b[1;32md:\\Users\\10252\\anaconda3\\envs\\ERC\\lib\\site-packages\\transformers\\dependency_versions_check.py:36\u001b[0m\n\u001b[0;32m     33\u001b[0m \u001b[39mif\u001b[39;00m pkg \u001b[39min\u001b[39;00m deps:\n\u001b[0;32m     34\u001b[0m     \u001b[39mif\u001b[39;00m pkg \u001b[39m==\u001b[39m \u001b[39m\"\u001b[39m\u001b[39mtokenizers\u001b[39m\u001b[39m\"\u001b[39m:\n\u001b[0;32m     35\u001b[0m         \u001b[39m# must be loaded here, or else tqdm check may fail\u001b[39;00m\n\u001b[1;32m---> 36\u001b[0m         \u001b[39mfrom\u001b[39;00m \u001b[39m.\u001b[39;00m\u001b[39mutils\u001b[39;00m \u001b[39mimport\u001b[39;00m is_tokenizers_available\n\u001b[0;32m     38\u001b[0m         \u001b[39mif\u001b[39;00m \u001b[39mnot\u001b[39;00m is_tokenizers_available():\n\u001b[0;32m     39\u001b[0m             \u001b[39mcontinue\u001b[39;00m  \u001b[39m# not required, check version only if installed\u001b[39;00m\n",
      "File \u001b[1;32md:\\Users\\10252\\anaconda3\\envs\\ERC\\lib\\site-packages\\transformers\\utils\\__init__.py:34\u001b[0m\n\u001b[0;32m     25\u001b[0m \u001b[39mfrom\u001b[39;00m \u001b[39m.\u001b[39;00m\u001b[39mconstants\u001b[39;00m \u001b[39mimport\u001b[39;00m IMAGENET_DEFAULT_MEAN, IMAGENET_DEFAULT_STD, IMAGENET_STANDARD_MEAN, IMAGENET_STANDARD_STD\n\u001b[0;32m     26\u001b[0m \u001b[39mfrom\u001b[39;00m \u001b[39m.\u001b[39;00m\u001b[39mdoc\u001b[39;00m \u001b[39mimport\u001b[39;00m (\n\u001b[0;32m     27\u001b[0m     add_code_sample_docstrings,\n\u001b[0;32m     28\u001b[0m     add_end_docstrings,\n\u001b[1;32m   (...)\u001b[0m\n\u001b[0;32m     32\u001b[0m     replace_return_docstrings,\n\u001b[0;32m     33\u001b[0m )\n\u001b[1;32m---> 34\u001b[0m \u001b[39mfrom\u001b[39;00m \u001b[39m.\u001b[39;00m\u001b[39mgeneric\u001b[39;00m \u001b[39mimport\u001b[39;00m (\n\u001b[0;32m     35\u001b[0m     ContextManagers,\n\u001b[0;32m     36\u001b[0m     ExplicitEnum,\n\u001b[0;32m     37\u001b[0m     ModelOutput,\n\u001b[0;32m     38\u001b[0m     PaddingStrategy,\n\u001b[0;32m     39\u001b[0m     TensorType,\n\u001b[0;32m     40\u001b[0m     cached_property,\n\u001b[0;32m     41\u001b[0m     can_return_loss,\n\u001b[0;32m     42\u001b[0m     expand_dims,\n\u001b[0;32m     43\u001b[0m     find_labels,\n\u001b[0;32m     44\u001b[0m     flatten_dict,\n\u001b[0;32m     45\u001b[0m     is_jax_tensor,\n\u001b[0;32m     46\u001b[0m     is_numpy_array,\n\u001b[0;32m     47\u001b[0m     is_tensor,\n\u001b[0;32m     48\u001b[0m     is_tf_tensor,\n\u001b[0;32m     49\u001b[0m     is_torch_device,\n\u001b[0;32m     50\u001b[0m     is_torch_dtype,\n\u001b[0;32m     51\u001b[0m     is_torch_tensor,\n\u001b[0;32m     52\u001b[0m     reshape,\n\u001b[0;32m     53\u001b[0m     squeeze,\n\u001b[0;32m     54\u001b[0m     tensor_size,\n\u001b[0;32m     55\u001b[0m     to_numpy,\n\u001b[0;32m     56\u001b[0m     to_py_obj,\n\u001b[0;32m     57\u001b[0m     transpose,\n\u001b[0;32m     58\u001b[0m     working_or_temp_dir,\n\u001b[0;32m     59\u001b[0m )\n\u001b[0;32m     60\u001b[0m \u001b[39mfrom\u001b[39;00m \u001b[39m.\u001b[39;00m\u001b[39mhub\u001b[39;00m \u001b[39mimport\u001b[39;00m (\n\u001b[0;32m     61\u001b[0m     CLOUDFRONT_DISTRIB_PREFIX,\n\u001b[0;32m     62\u001b[0m     DISABLE_TELEMETRY,\n\u001b[1;32m   (...)\u001b[0m\n\u001b[0;32m     88\u001b[0m     send_example_telemetry,\n\u001b[0;32m     89\u001b[0m )\n\u001b[0;32m     90\u001b[0m \u001b[39mfrom\u001b[39;00m \u001b[39m.\u001b[39;00m\u001b[39mimport_utils\u001b[39;00m \u001b[39mimport\u001b[39;00m (\n\u001b[0;32m     91\u001b[0m     ENV_VARS_TRUE_AND_AUTO_VALUES,\n\u001b[0;32m     92\u001b[0m     ENV_VARS_TRUE_VALUES,\n\u001b[1;32m   (...)\u001b[0m\n\u001b[0;32m    169\u001b[0m     torch_version,\n\u001b[0;32m    170\u001b[0m )\n",
      "File \u001b[1;32md:\\Users\\10252\\anaconda3\\envs\\ERC\\lib\\site-packages\\transformers\\utils\\generic.py:29\u001b[0m\n\u001b[0;32m     25\u001b[0m \u001b[39mfrom\u001b[39;00m \u001b[39mtyping\u001b[39;00m \u001b[39mimport\u001b[39;00m Any, ContextManager, List, Tuple\n\u001b[0;32m     27\u001b[0m \u001b[39mimport\u001b[39;00m \u001b[39mnumpy\u001b[39;00m \u001b[39mas\u001b[39;00m \u001b[39mnp\u001b[39;00m\n\u001b[1;32m---> 29\u001b[0m \u001b[39mfrom\u001b[39;00m \u001b[39m.\u001b[39;00m\u001b[39mimport_utils\u001b[39;00m \u001b[39mimport\u001b[39;00m is_flax_available, is_tf_available, is_torch_available, is_torch_fx_proxy\n\u001b[0;32m     32\u001b[0m \u001b[39mif\u001b[39;00m is_tf_available():\n\u001b[0;32m     33\u001b[0m     \u001b[39mimport\u001b[39;00m \u001b[39mtensorflow\u001b[39;00m \u001b[39mas\u001b[39;00m \u001b[39mtf\u001b[39;00m\n",
      "File \u001b[1;32md:\\Users\\10252\\anaconda3\\envs\\ERC\\lib\\site-packages\\transformers\\utils\\import_utils.py:34\u001b[0m\n\u001b[0;32m     30\u001b[0m \u001b[39mfrom\u001b[39;00m \u001b[39mpackaging\u001b[39;00m \u001b[39mimport\u001b[39;00m version\n\u001b[0;32m     32\u001b[0m \u001b[39mfrom\u001b[39;00m \u001b[39mtransformers\u001b[39;00m\u001b[39m.\u001b[39;00m\u001b[39mutils\u001b[39;00m\u001b[39m.\u001b[39;00m\u001b[39mversions\u001b[39;00m \u001b[39mimport\u001b[39;00m importlib_metadata\n\u001b[1;32m---> 34\u001b[0m \u001b[39mfrom\u001b[39;00m \u001b[39m.\u001b[39;00m \u001b[39mimport\u001b[39;00m logging\n\u001b[0;32m     37\u001b[0m logger \u001b[39m=\u001b[39m logging\u001b[39m.\u001b[39mget_logger(\u001b[39m__name__\u001b[39m)  \u001b[39m# pylint: disable=invalid-name\u001b[39;00m\n\u001b[0;32m     39\u001b[0m ENV_VARS_TRUE_VALUES \u001b[39m=\u001b[39m {\u001b[39m\"\u001b[39m\u001b[39m1\u001b[39m\u001b[39m\"\u001b[39m, \u001b[39m\"\u001b[39m\u001b[39mON\u001b[39m\u001b[39m\"\u001b[39m, \u001b[39m\"\u001b[39m\u001b[39mYES\u001b[39m\u001b[39m\"\u001b[39m, \u001b[39m\"\u001b[39m\u001b[39mTRUE\u001b[39m\u001b[39m\"\u001b[39m}\n",
      "File \u001b[1;32md:\\Users\\10252\\anaconda3\\envs\\ERC\\lib\\site-packages\\transformers\\utils\\logging.py:33\u001b[0m\n\u001b[0;32m     29\u001b[0m \u001b[39mfrom\u001b[39;00m \u001b[39mtyping\u001b[39;00m \u001b[39mimport\u001b[39;00m Optional\n\u001b[0;32m     31\u001b[0m \u001b[39mfrom\u001b[39;00m \u001b[39mtqdm\u001b[39;00m \u001b[39mimport\u001b[39;00m auto \u001b[39mas\u001b[39;00m tqdm_lib\n\u001b[1;32m---> 33\u001b[0m \u001b[39mimport\u001b[39;00m \u001b[39mhuggingface_hub\u001b[39;00m\u001b[39m.\u001b[39;00m\u001b[39mutils\u001b[39;00m \u001b[39mas\u001b[39;00m \u001b[39mhf_hub_utils\u001b[39;00m\n\u001b[0;32m     36\u001b[0m _lock \u001b[39m=\u001b[39m threading\u001b[39m.\u001b[39mLock()\n\u001b[0;32m     37\u001b[0m _default_handler: Optional[logging\u001b[39m.\u001b[39mHandler] \u001b[39m=\u001b[39m \u001b[39mNone\u001b[39;00m\n",
      "File \u001b[1;32md:\\Users\\10252\\anaconda3\\envs\\ERC\\lib\\site-packages\\huggingface_hub\\utils\\__init__.py:32\u001b[0m\n\u001b[0;32m     30\u001b[0m \u001b[39mfrom\u001b[39;00m \u001b[39m.\u001b[39;00m\u001b[39m_chunk_utils\u001b[39;00m \u001b[39mimport\u001b[39;00m chunk_iterable\n\u001b[0;32m     31\u001b[0m \u001b[39mfrom\u001b[39;00m \u001b[39m.\u001b[39;00m\u001b[39m_datetime\u001b[39;00m \u001b[39mimport\u001b[39;00m parse_datetime\n\u001b[1;32m---> 32\u001b[0m \u001b[39mfrom\u001b[39;00m \u001b[39m.\u001b[39;00m\u001b[39m_errors\u001b[39;00m \u001b[39mimport\u001b[39;00m (\n\u001b[0;32m     33\u001b[0m     BadRequestError,\n\u001b[0;32m     34\u001b[0m     EntryNotFoundError,\n\u001b[0;32m     35\u001b[0m     GatedRepoError,\n\u001b[0;32m     36\u001b[0m     HfHubHTTPError,\n\u001b[0;32m     37\u001b[0m     LocalEntryNotFoundError,\n\u001b[0;32m     38\u001b[0m     RepositoryNotFoundError,\n\u001b[0;32m     39\u001b[0m     RevisionNotFoundError,\n\u001b[0;32m     40\u001b[0m     hf_raise_for_status,\n\u001b[0;32m     41\u001b[0m )\n\u001b[0;32m     42\u001b[0m \u001b[39mfrom\u001b[39;00m \u001b[39m.\u001b[39;00m\u001b[39m_fixes\u001b[39;00m \u001b[39mimport\u001b[39;00m SoftTemporaryDirectory, yaml_dump\n\u001b[0;32m     43\u001b[0m \u001b[39mfrom\u001b[39;00m \u001b[39m.\u001b[39;00m\u001b[39m_git_credential\u001b[39;00m \u001b[39mimport\u001b[39;00m (\n\u001b[0;32m     44\u001b[0m     erase_from_credential_store,\n\u001b[0;32m     45\u001b[0m     list_credential_helpers,\n\u001b[1;32m   (...)\u001b[0m\n\u001b[0;32m     49\u001b[0m     write_to_credential_store,\n\u001b[0;32m     50\u001b[0m )\n",
      "File \u001b[1;32md:\\Users\\10252\\anaconda3\\envs\\ERC\\lib\\site-packages\\huggingface_hub\\utils\\_errors.py:3\u001b[0m\n\u001b[0;32m      1\u001b[0m \u001b[39mfrom\u001b[39;00m \u001b[39mtyping\u001b[39;00m \u001b[39mimport\u001b[39;00m Optional\n\u001b[1;32m----> 3\u001b[0m \u001b[39mfrom\u001b[39;00m \u001b[39mrequests\u001b[39;00m \u001b[39mimport\u001b[39;00m HTTPError, Response\n\u001b[0;32m      5\u001b[0m \u001b[39mfrom\u001b[39;00m \u001b[39m.\u001b[39;00m\u001b[39m_fixes\u001b[39;00m \u001b[39mimport\u001b[39;00m JSONDecodeError\n\u001b[0;32m      8\u001b[0m \u001b[39mclass\u001b[39;00m \u001b[39mHfHubHTTPError\u001b[39;00m(HTTPError):\n",
      "File \u001b[1;32md:\\Users\\10252\\anaconda3\\envs\\ERC\\lib\\site-packages\\requests\\__init__.py:45\u001b[0m\n\u001b[0;32m     41\u001b[0m \u001b[39mimport\u001b[39;00m \u001b[39mwarnings\u001b[39;00m\n\u001b[0;32m     43\u001b[0m \u001b[39mimport\u001b[39;00m \u001b[39murllib3\u001b[39;00m\n\u001b[1;32m---> 45\u001b[0m \u001b[39mfrom\u001b[39;00m \u001b[39m.\u001b[39;00m\u001b[39mexceptions\u001b[39;00m \u001b[39mimport\u001b[39;00m RequestsDependencyWarning\n\u001b[0;32m     47\u001b[0m \u001b[39mtry\u001b[39;00m:\n\u001b[0;32m     48\u001b[0m     \u001b[39mfrom\u001b[39;00m \u001b[39mcharset_normalizer\u001b[39;00m \u001b[39mimport\u001b[39;00m __version__ \u001b[39mas\u001b[39;00m charset_normalizer_version\n",
      "File \u001b[1;32md:\\Users\\10252\\anaconda3\\envs\\ERC\\lib\\site-packages\\requests\\exceptions.py:9\u001b[0m\n\u001b[0;32m      1\u001b[0m \u001b[39m\"\"\"\u001b[39;00m\n\u001b[0;32m      2\u001b[0m \u001b[39mrequests.exceptions\u001b[39;00m\n\u001b[0;32m      3\u001b[0m \u001b[39m~~~~~~~~~~~~~~~~~~~\u001b[39;00m\n\u001b[0;32m      4\u001b[0m \n\u001b[0;32m      5\u001b[0m \u001b[39mThis module contains the set of Requests' exceptions.\u001b[39;00m\n\u001b[0;32m      6\u001b[0m \u001b[39m\"\"\"\u001b[39;00m\n\u001b[0;32m      7\u001b[0m \u001b[39mfrom\u001b[39;00m \u001b[39murllib3\u001b[39;00m\u001b[39m.\u001b[39;00m\u001b[39mexceptions\u001b[39;00m \u001b[39mimport\u001b[39;00m HTTPError \u001b[39mas\u001b[39;00m BaseHTTPError\n\u001b[1;32m----> 9\u001b[0m \u001b[39mfrom\u001b[39;00m \u001b[39m.\u001b[39;00m\u001b[39mcompat\u001b[39;00m \u001b[39mimport\u001b[39;00m JSONDecodeError \u001b[39mas\u001b[39;00m CompatJSONDecodeError\n\u001b[0;32m     12\u001b[0m \u001b[39mclass\u001b[39;00m \u001b[39mRequestException\u001b[39;00m(\u001b[39mIOError\u001b[39;00m):\n\u001b[0;32m     13\u001b[0m \u001b[39m    \u001b[39m\u001b[39m\"\"\"There was an ambiguous exception that occurred while handling your\u001b[39;00m\n\u001b[0;32m     14\u001b[0m \u001b[39m    request.\u001b[39;00m\n\u001b[0;32m     15\u001b[0m \u001b[39m    \"\"\"\u001b[39;00m\n",
      "File \u001b[1;32md:\\Users\\10252\\anaconda3\\envs\\ERC\\lib\\site-packages\\requests\\compat.py:13\u001b[0m\n\u001b[0;32m     11\u001b[0m     \u001b[39mimport\u001b[39;00m \u001b[39mchardet\u001b[39;00m\n\u001b[0;32m     12\u001b[0m \u001b[39mexcept\u001b[39;00m \u001b[39mImportError\u001b[39;00m:\n\u001b[1;32m---> 13\u001b[0m     \u001b[39mimport\u001b[39;00m \u001b[39mcharset_normalizer\u001b[39;00m \u001b[39mas\u001b[39;00m \u001b[39mchardet\u001b[39;00m\n\u001b[0;32m     15\u001b[0m \u001b[39mimport\u001b[39;00m \u001b[39msys\u001b[39;00m\n\u001b[0;32m     17\u001b[0m \u001b[39m# -------\u001b[39;00m\n\u001b[0;32m     18\u001b[0m \u001b[39m# Pythons\u001b[39;00m\n\u001b[0;32m     19\u001b[0m \u001b[39m# -------\u001b[39;00m\n\u001b[0;32m     20\u001b[0m \n\u001b[0;32m     21\u001b[0m \u001b[39m# Syntax sugar.\u001b[39;00m\n",
      "File \u001b[1;32md:\\Users\\10252\\anaconda3\\envs\\ERC\\lib\\site-packages\\charset_normalizer\\__init__.py:23\u001b[0m\n\u001b[0;32m      1\u001b[0m \u001b[39m\"\"\"\u001b[39;00m\n\u001b[0;32m      2\u001b[0m \u001b[39mCharset-Normalizer\u001b[39;00m\n\u001b[0;32m      3\u001b[0m \u001b[39m~~~~~~~~~~~~~~\u001b[39;00m\n\u001b[1;32m   (...)\u001b[0m\n\u001b[0;32m     21\u001b[0m \u001b[39m:license: MIT, see LICENSE for more details.\u001b[39;00m\n\u001b[0;32m     22\u001b[0m \u001b[39m\"\"\"\u001b[39;00m\n\u001b[1;32m---> 23\u001b[0m \u001b[39mfrom\u001b[39;00m \u001b[39mcharset_normalizer\u001b[39;00m\u001b[39m.\u001b[39;00m\u001b[39mapi\u001b[39;00m \u001b[39mimport\u001b[39;00m from_fp, from_path, from_bytes, normalize\n\u001b[0;32m     24\u001b[0m \u001b[39mfrom\u001b[39;00m \u001b[39mcharset_normalizer\u001b[39;00m\u001b[39m.\u001b[39;00m\u001b[39mlegacy\u001b[39;00m \u001b[39mimport\u001b[39;00m detect\n\u001b[0;32m     25\u001b[0m \u001b[39mfrom\u001b[39;00m \u001b[39mcharset_normalizer\u001b[39;00m\u001b[39m.\u001b[39;00m\u001b[39mversion\u001b[39;00m \u001b[39mimport\u001b[39;00m __version__, VERSION\n",
      "File \u001b[1;32md:\\Users\\10252\\anaconda3\\envs\\ERC\\lib\\site-packages\\charset_normalizer\\api.py:10\u001b[0m\n\u001b[0;32m      7\u001b[0m     PathLike \u001b[39m=\u001b[39m Union[\u001b[39mstr\u001b[39m, \u001b[39m'\u001b[39m\u001b[39mos.PathLike[str]\u001b[39m\u001b[39m'\u001b[39m]  \u001b[39m# type: ignore\u001b[39;00m\n\u001b[0;32m      9\u001b[0m \u001b[39mfrom\u001b[39;00m \u001b[39mcharset_normalizer\u001b[39;00m\u001b[39m.\u001b[39;00m\u001b[39mconstant\u001b[39;00m \u001b[39mimport\u001b[39;00m TOO_SMALL_SEQUENCE, TOO_BIG_SEQUENCE, IANA_SUPPORTED\n\u001b[1;32m---> 10\u001b[0m \u001b[39mfrom\u001b[39;00m \u001b[39mcharset_normalizer\u001b[39;00m\u001b[39m.\u001b[39;00m\u001b[39mmd\u001b[39;00m \u001b[39mimport\u001b[39;00m mess_ratio\n\u001b[0;32m     11\u001b[0m \u001b[39mfrom\u001b[39;00m \u001b[39mcharset_normalizer\u001b[39;00m\u001b[39m.\u001b[39;00m\u001b[39mmodels\u001b[39;00m \u001b[39mimport\u001b[39;00m CharsetMatches, CharsetMatch\n\u001b[0;32m     12\u001b[0m \u001b[39mfrom\u001b[39;00m \u001b[39mwarnings\u001b[39;00m \u001b[39mimport\u001b[39;00m warn\n",
      "\u001b[1;31mAttributeError\u001b[0m: partially initialized module 'charset_normalizer' has no attribute 'md__mypyc' (most likely due to a circular import)"
     ]
    }
   ],
   "source": [
    "# import pandas as pd\n",
    "# import torch\n",
    "# from ltp import LTP\n",
    "# import re\n",
    "# import sys\n",
    "\n",
    "# # import dataset and model\n",
    "# train = pd.read_csv(\"train_split.csv\").loc[0:99,[\"Dialogue_ID\", \"Utterance\" ,\"Emotion\"]] # Here just do tokenization on part of the dataset for display\n",
    "# ltp = LTP()\n",
    "# # ltp.to(\"cuda\")\n",
    "\n",
    "# def process_bar(num, total):\n",
    "#     rate = float(float(num)/total)\n",
    "#     ratenum = int(100*rate)\n",
    "#     r = '\\r[{}{}]{}% {} Lines done.'.format('*'*ratenum,' '*(100-ratenum), ratenum, num)\n",
    "#     sys.stdout.write(r)\n",
    "#     sys.stdout.flush()\n",
    "\n",
    "# train[\"Utterance\"] = train[\"Utterance\"].apply((lambda x: re.sub('[\\s，。]','',x))) # Remove space and punctuation marks\n",
    "# speakers = pd.read_csv(\"speakers.txt\", header = None)\n",
    "\n",
    "# for speaker in speakers:\n",
    "#     ltp.add_words(words=speaker) # Adding speakers to the dictionary\n",
    "\n",
    "# size = len(train.index)\n",
    "\n",
    "# train[\"Tokenization\"] = \"\"\n",
    "# for i in range(len(train.index)):\n",
    "#     train.loc[i, \"Tokenization\"] = str(ltp.pipeline(train.loc[i, \"Utterance\"], tasks = [\"cws\"])[\"cws\"])\n",
    "#     process_bar(i+1, size)\n",
    "# display(train.head(10))\n",
    "# train.to_csv(\"train_tokenized_demo.csv\")"
   ]
  },
  {
   "attachments": {},
   "cell_type": "markdown",
   "metadata": {},
   "source": [
    "After tokenization, the distribution of the length (part of the data) is shown below :"
   ]
  },
  {
   "cell_type": "code",
   "execution_count": null,
   "metadata": {},
   "outputs": [
    {
     "data": {
      "image/png": "[encoded data removed]",
      "text/plain": [
       "<Figure size 640x480 with 1 Axes>"
      ]
     },
     "metadata": {},
     "output_type": "display_data"
    }
   ],
   "source": [
    "train = pd.read_csv(\"train_tokenized.csv\").loc[0:34877]\n",
    "train[\"Length\"] = train[\"Tokenization\"].apply(lambda x :len(re.sub('[\\[\\]\\s\\']','',x).split(\",\"))) # String of tokenized list -> list\n",
    "frequency = train[\"Length\"].value_counts()\n",
    "xlabels = list(range(36))\n",
    "ylabels = [0]*36\n",
    "for i in frequency.index:\n",
    "    ylabels[i] = frequency[i]\n",
    "plt.bar(xlabels, ylabels)\n",
    "plt.title('Sentence Length Distribution')\n",
    "plt.show()\n"
   ]
  },
  {
   "attachments": {},
   "cell_type": "markdown",
   "metadata": {},
   "source": [
    "## Word embedding\n",
    "We used CBoW model to do the word embedding but the training process is quite slow. So we used pretrained Chinese word vectors (cc.zh.300.bin) from [fasttext](https://fasttext.cc/) instead. The dataset after embedding can be accessed at [Google Drive](https://drive.google.com/drive/folders/1v-xP2qUXDffQRHsD299Rb5i5V1HxTIGn?usp=share_link)"
   ]
  },
  {
   "attachments": {},
   "cell_type": "markdown",
   "metadata": {},
   "source": [
    "## First trail on the model\n",
    "\n",
    "We first take these utterances as unrelated sentances to figure out their emotions separately."
   ]
  },
  {
   "attachments": {},
   "cell_type": "markdown",
   "metadata": {},
   "source": [
    "### Parameters"
   ]
  },
  {
   "cell_type": "code",
   "execution_count": null,
   "metadata": {},
   "outputs": [],
   "source": [
    "hidden_size = 300\n",
    "batch_size = 1\n",
    "data_size = 20000"
   ]
  },
  {
   "attachments": {},
   "cell_type": "markdown",
   "metadata": {},
   "source": [
    "### Data reading and processing"
   ]
  },
  {
   "attachments": {},
   "cell_type": "markdown",
   "metadata": {},
   "source": [
    "#### Importing x\n",
    "The dataset after embedding can be accessed at [Google Drive](https://drive.google.com/drive/folders/1v-xP2qUXDffQRHsD299Rb5i5V1HxTIGn?usp=share_link)"
   ]
  },
  {
   "cell_type": "code",
   "execution_count": null,
   "metadata": {},
   "outputs": [],
   "source": [
    "data = pd.read_json(\"tensor_word_df_ft.json\")\n",
    "data.loc[0:34876, \"Tensor\"].to_json(\"smallX.json\")\n",
    "\n",
    "test = data.loc[34877:35831, \"Tensor\"]\n",
    "test.reset_index(drop=True).to_json(\"testX.json\")\n",
    "\n",
    "valid = data.loc[38506:39594, \"Tensor\"]\n",
    "valid.reset_index(drop=True).to_json(\"validX.json\")"
   ]
  },
  {
   "cell_type": "code",
   "execution_count": 1,
   "metadata": {},
   "outputs": [
    {
     "ename": "KeyboardInterrupt",
     "evalue": "",
     "output_type": "error",
     "traceback": [
      "\u001b[1;31m---------------------------------------------------------------------------\u001b[0m",
      "\u001b[1;31mKeyboardInterrupt\u001b[0m                         Traceback (most recent call last)",
      "Cell \u001b[1;32mIn[1], line 2\u001b[0m\n\u001b[0;32m      1\u001b[0m \u001b[39mimport\u001b[39;00m \u001b[39mpandas\u001b[39;00m \u001b[39mas\u001b[39;00m \u001b[39mpd\u001b[39;00m\n\u001b[1;32m----> 2\u001b[0m \u001b[39mimport\u001b[39;00m \u001b[39mtensorflow\u001b[39;00m \u001b[39mas\u001b[39;00m \u001b[39mtf\u001b[39;00m\n\u001b[0;32m      4\u001b[0m \u001b[39mdef\u001b[39;00m \u001b[39mtorch2tf\u001b[39m(pytorch_tensor): \n\u001b[0;32m      5\u001b[0m     \u001b[39m# As we decided to use PyTorch at first \u001b[39;00m\n\u001b[0;32m      6\u001b[0m     \u001b[39m# the output is a Torch tensor \u001b[39;00m\n\u001b[0;32m      7\u001b[0m     \u001b[39m# so we need to change it to Tensorflow tensor\u001b[39;00m\n\u001b[0;32m      8\u001b[0m     numpy_array \u001b[39m=\u001b[39m pytorch_tensor\u001b[39m.\u001b[39mnumpy()\n",
      "File \u001b[1;32md:\\Users\\10252\\anaconda3\\envs\\ML03\\lib\\site-packages\\tensorflow\\__init__.py:55\u001b[0m\n\u001b[0;32m     53\u001b[0m \u001b[39mfrom\u001b[39;00m \u001b[39m.\u001b[39;00m\u001b[39m_api\u001b[39;00m\u001b[39m.\u001b[39;00m\u001b[39mv2\u001b[39;00m \u001b[39mimport\u001b[39;00m data\n\u001b[0;32m     54\u001b[0m \u001b[39mfrom\u001b[39;00m \u001b[39m.\u001b[39;00m\u001b[39m_api\u001b[39;00m\u001b[39m.\u001b[39;00m\u001b[39mv2\u001b[39;00m \u001b[39mimport\u001b[39;00m debugging\n\u001b[1;32m---> 55\u001b[0m \u001b[39mfrom\u001b[39;00m \u001b[39m.\u001b[39;00m\u001b[39m_api\u001b[39;00m\u001b[39m.\u001b[39;00m\u001b[39mv2\u001b[39;00m \u001b[39mimport\u001b[39;00m distribute\n\u001b[0;32m     56\u001b[0m \u001b[39mfrom\u001b[39;00m \u001b[39m.\u001b[39;00m\u001b[39m_api\u001b[39;00m\u001b[39m.\u001b[39;00m\u001b[39mv2\u001b[39;00m \u001b[39mimport\u001b[39;00m dtypes\n\u001b[0;32m     57\u001b[0m \u001b[39mfrom\u001b[39;00m \u001b[39m.\u001b[39;00m\u001b[39m_api\u001b[39;00m\u001b[39m.\u001b[39;00m\u001b[39mv2\u001b[39;00m \u001b[39mimport\u001b[39;00m errors\n",
      "File \u001b[1;32md:\\Users\\10252\\anaconda3\\envs\\ML03\\lib\\site-packages\\tensorflow\\_api\\v2\\distribute\\__init__.py:182\u001b[0m\n\u001b[0;32m    180\u001b[0m \u001b[39mfrom\u001b[39;00m \u001b[39m.\u001b[39;00m \u001b[39mimport\u001b[39;00m cluster_resolver\n\u001b[0;32m    181\u001b[0m \u001b[39mfrom\u001b[39;00m \u001b[39m.\u001b[39;00m \u001b[39mimport\u001b[39;00m coordinator\n\u001b[1;32m--> 182\u001b[0m \u001b[39mfrom\u001b[39;00m \u001b[39m.\u001b[39;00m \u001b[39mimport\u001b[39;00m experimental\n\u001b[0;32m    183\u001b[0m \u001b[39mfrom\u001b[39;00m \u001b[39mtensorflow\u001b[39;00m\u001b[39m.\u001b[39;00m\u001b[39mpython\u001b[39;00m\u001b[39m.\u001b[39;00m\u001b[39mdistribute\u001b[39;00m\u001b[39m.\u001b[39;00m\u001b[39mcollective_all_reduce_strategy\u001b[39;00m \u001b[39mimport\u001b[39;00m CollectiveAllReduceStrategy \u001b[39mas\u001b[39;00m MultiWorkerMirroredStrategy\n\u001b[0;32m    184\u001b[0m \u001b[39mfrom\u001b[39;00m \u001b[39mtensorflow\u001b[39;00m\u001b[39m.\u001b[39;00m\u001b[39mpython\u001b[39;00m\u001b[39m.\u001b[39;00m\u001b[39mdistribute\u001b[39;00m\u001b[39m.\u001b[39;00m\u001b[39mcross_device_ops\u001b[39;00m \u001b[39mimport\u001b[39;00m CrossDeviceOps\n",
      "File \u001b[1;32md:\\Users\\10252\\anaconda3\\envs\\ML03\\lib\\site-packages\\tensorflow\\_api\\v2\\distribute\\experimental\\__init__.py:9\u001b[0m\n\u001b[0;32m      6\u001b[0m \u001b[39mimport\u001b[39;00m \u001b[39msys\u001b[39;00m \u001b[39mas\u001b[39;00m \u001b[39m_sys\u001b[39;00m\n\u001b[0;32m      8\u001b[0m \u001b[39mfrom\u001b[39;00m \u001b[39m.\u001b[39;00m \u001b[39mimport\u001b[39;00m coordinator\n\u001b[1;32m----> 9\u001b[0m \u001b[39mfrom\u001b[39;00m \u001b[39m.\u001b[39;00m \u001b[39mimport\u001b[39;00m partitioners\n\u001b[0;32m     10\u001b[0m \u001b[39mfrom\u001b[39;00m \u001b[39m.\u001b[39;00m \u001b[39mimport\u001b[39;00m rpc\n\u001b[0;32m     11\u001b[0m \u001b[39mfrom\u001b[39;00m \u001b[39mtensorflow\u001b[39;00m\u001b[39m.\u001b[39;00m\u001b[39mpython\u001b[39;00m\u001b[39m.\u001b[39;00m\u001b[39mdistribute\u001b[39;00m\u001b[39m.\u001b[39;00m\u001b[39mcentral_storage_strategy\u001b[39;00m \u001b[39mimport\u001b[39;00m CentralStorageStrategy\n",
      "File \u001b[1;32m<frozen importlib._bootstrap>:1027\u001b[0m, in \u001b[0;36m_find_and_load\u001b[1;34m(name, import_)\u001b[0m\n",
      "File \u001b[1;32m<frozen importlib._bootstrap>:1006\u001b[0m, in \u001b[0;36m_find_and_load_unlocked\u001b[1;34m(name, import_)\u001b[0m\n",
      "File \u001b[1;32m<frozen importlib._bootstrap>:688\u001b[0m, in \u001b[0;36m_load_unlocked\u001b[1;34m(spec)\u001b[0m\n",
      "File \u001b[1;32m<frozen importlib._bootstrap_external>:879\u001b[0m, in \u001b[0;36mexec_module\u001b[1;34m(self, module)\u001b[0m\n",
      "File \u001b[1;32m<frozen importlib._bootstrap_external>:975\u001b[0m, in \u001b[0;36mget_code\u001b[1;34m(self, fullname)\u001b[0m\n",
      "File \u001b[1;32m<frozen importlib._bootstrap_external>:1074\u001b[0m, in \u001b[0;36mget_data\u001b[1;34m(self, path)\u001b[0m\n",
      "\u001b[1;31mKeyboardInterrupt\u001b[0m: "
     ]
    }
   ],
   "source": [
    "import pandas as pd\n",
    "import tensorflow as tf\n",
    "\n",
    "def torch2tf(pytorch_tensor): \n",
    "    # As we decided to use PyTorch at first \n",
    "    # the output is a Torch tensor \n",
    "    # so we need to change it to Tensorflow tensor\n",
    "    numpy_array = pytorch_tensor.numpy()\n",
    "    tensorflow_tensor = tf.convert_to_tensor(numpy_array)\n",
    "    return tensorflow_tensor\n",
    "\n",
    "def data_processing(filename,embedding_n,padding = -1):\n",
    "    dataset = pd.read_json(filename)\n",
    "    max_n = 0\n",
    "    n_x = dataset.shape[1]\n",
    "    for t in dataset:\n",
    "        n = len(dataset[t][0])\n",
    "        # print(len(dataset[t][0][0]), end = \" \")#  all 300\n",
    "        # print(n, end = \" \") #2 3 9 8 1 6 2 6 4 3 2 3 5 4 4 4 7 1 12 4 5 1 5 5 4 3 3 5 12 13 11 6 4 5 2 4 11 7 4 4 10 2 2 3 4 6 1 4 6 5 5 6 3 6 9 6 9 6 1 12 6 6 10 3 8 6 8 5 9 14 4 6 3 3 5 4 8 5 9 5 10 3 3 1 1 7 5 6\n",
    "        if n>max_n:\n",
    "            max_n = n\n",
    "    if (padding == -1):\n",
    "        output = torch.zeros((n_x, max_n, embedding_n))\n",
    "    else:\n",
    "        output = torch.zeros((n_x, padding, embedding_n))\n",
    "    for i in dataset:\n",
    "        t = torch.tensor(dataset[i][0])\n",
    "        # print(t.shape)\n",
    "        output[i, :t.shape[0], :] = t\n",
    "    return output\n",
    "\n",
    "# def data_processing_with_context(filename,embedding_n,padding = -1):\n",
    "#     dataset = pd.read_json(filename)\n",
    "#     max_n = 0\n",
    "#     n_x = dataset.shape[1]\n",
    "#     for t in dataset:\n",
    "#         n = torch.tensor(dataset[t][0]).shape[0]\n",
    "#         if n>max_n:\n",
    "#             max_n = n\n",
    "#     if (padding == -1):\n",
    "#         output = torch.zeros((n_x, max_n*2, embedding_n))\n",
    "#     else:\n",
    "#         output = torch.zeros((n_x, padding*2, embedding_n))\n",
    "#     for i in range(len(dataset)):\n",
    "#         t = torch.tensor(dataset[i][0])\n",
    "#         output[i, :t.shape[0], :] = t\n",
    "#         if(i>0):\n",
    "#             t_ = torch.tensor(dataset[i-1][0])\n",
    "#             output[i, t.shape[0]+1:t.shape[0]+t_.shape[0], :] = t_\n",
    "#     return output\n"
   ]
  },
  {
   "cell_type": "code",
   "execution_count": 45,
   "metadata": {},
   "outputs": [
    {
     "name": "stdout",
     "output_type": "stream",
     "text": [
      "torch.Size([34877, 34, 300])\n",
      "torch.Size([955, 34, 300])\n",
      "torch.Size([1089, 34, 300])\n"
     ]
    }
   ],
   "source": [
    "X_train = data_processing(\"smallX.json\",300) \n",
    "train_n, max_n, embedding_n = X_train.shape[0], X_train.shape[1], X_train.shape[2]\n",
    "print(X_train.shape)\n",
    "X_test = data_processing(\"testX.json\",300, max_n) \n",
    "test_n= X_test.shape[0]\n",
    "print(X_test.shape)\n",
    "X_valid = data_processing(\"validX.json\",300, max_n) \n",
    "print(X_valid.shape)"
   ]
  },
  {
   "cell_type": "code",
   "execution_count": null,
   "metadata": {},
   "outputs": [],
   "source": []
  },
  {
   "attachments": {},
   "cell_type": "markdown",
   "metadata": {},
   "source": [
    "#### Importing y\n",
    "~~There are 13 different emotions in the dataset. We label these emotions with int :~~\n",
    "\n",
    "We first train the sentiment lable"
   ]
  },
  {
   "cell_type": "code",
   "execution_count": 46,
   "metadata": {},
   "outputs": [
    {
     "name": "stdout",
     "output_type": "stream",
     "text": [
      "negative    19150\n",
      "neutral     10185\n",
      "positive     5542\n",
      "Name: Sentiment, dtype: int64\n",
      "negative    404\n",
      "neutral     320\n",
      "positive    231\n",
      "Name: Sentiment, dtype: int64\n",
      "neutral     470\n",
      "negative    416\n",
      "positive    203\n",
      "Name: Sentiment, dtype: int64\n"
     ]
    }
   ],
   "source": [
    "train_label = pd.read_csv(\"train_split.csv\").loc[0:34876]\n",
    "test_label = pd.read_csv(\"train_split.csv\").loc[34877:35831]\n",
    "valid_label = pd.read_csv(\"train_split.csv\").loc[38506:39594]\n",
    "print(train_label[\"Sentiment\"].value_counts())\n",
    "print(test_label[\"Sentiment\"].value_counts())\n",
    "print(valid_label[\"Sentiment\"].value_counts())\n",
    "emotions = list(train_label[\"Sentiment\"].value_counts().index)\n",
    "emotion2int = dict((emotions[i], (i+1)%3) for i in range(len(emotions)))\n",
    "typecount = len(emotions)\n",
    "train_label[\"EmotionID\"] = train_label[\"Sentiment\"].apply(lambda x: emotion2int[x])\n",
    "test_label[\"EmotionID\"] = test_label[\"Sentiment\"].apply(lambda x: emotion2int[x])\n",
    "valid_label[\"EmotionID\"] = valid_label[\"Sentiment\"].apply(lambda x: emotion2int[x])\n",
    "\n"
   ]
  },
  {
   "cell_type": "code",
   "execution_count": 47,
   "metadata": {},
   "outputs": [],
   "source": [
    "Y_train = torch.Tensor(train_label[\"EmotionID\"])\n",
    "Y_test = torch.Tensor(test_label[\"EmotionID\"].reset_index(drop=True))\n",
    "Y_valid = torch.Tensor(valid_label[\"EmotionID\"].reset_index(drop=True))\n"
   ]
  },
  {
   "cell_type": "code",
   "execution_count": 48,
   "metadata": {},
   "outputs": [],
   "source": [
    "import random\n",
    "def downsample(x, y, num_samples = 5000):\n",
    "    new_x = []\n",
    "    new_y = []\n",
    "\n",
    "    for label in range(3):\n",
    "        label_idx = torch.where(y == label)[0]\n",
    "        selected_idx = random.sample(list(label_idx), num_samples)\n",
    "        new_x.append(x[selected_idx])\n",
    "        new_y.append(y[selected_idx])\n",
    "\n",
    "    new_x = torch.cat(new_x)\n",
    "    new_y = torch.cat(new_y)\n",
    "\n",
    "    return new_x, new_y"
   ]
  },
  {
   "cell_type": "code",
   "execution_count": 49,
   "metadata": {},
   "outputs": [],
   "source": [
    "X_train, Y_train = downsample(X_train, Y_train)"
   ]
  },
  {
   "cell_type": "code",
   "execution_count": 50,
   "metadata": {},
   "outputs": [
    {
     "name": "stdout",
     "output_type": "stream",
     "text": [
      "(15000, 34, 300)\n",
      "(15000, 3)\n",
      "(955, 34, 300)\n",
      "(955, 3)\n",
      "(1089, 34, 300)\n",
      "(1089, 3)\n"
     ]
    }
   ],
   "source": [
    "X_train = torch2tf(X_train)\n",
    "print(X_train.shape)\n",
    "Y_train = torch2tf(Y_train)\n",
    "Y_train = tf.one_hot(tf.cast(Y_train, dtype=tf.uint8), depth=typecount)\n",
    "print(Y_train.shape)\n",
    "X_test = torch2tf(X_test)\n",
    "print(X_test.shape)\n",
    "Y_test = torch2tf(Y_test)\n",
    "Y_test = tf.one_hot(tf.cast(Y_test, dtype=tf.uint8), depth=typecount)\n",
    "print(Y_test.shape)\n",
    "X_valid = torch2tf(X_valid)\n",
    "print(X_valid.shape)\n",
    "Y_valid = torch2tf(Y_valid)\n",
    "Y_valid = tf.one_hot(tf.cast(Y_valid, dtype=tf.uint8), depth=typecount)\n",
    "print(Y_valid.shape)\n"
   ]
  },
  {
   "cell_type": "markdown",
   "metadata": {},
   "source": [
    "### Model building"
   ]
  },
  {
   "cell_type": "code",
   "execution_count": 51,
   "metadata": {},
   "outputs": [
    {
     "name": "stdout",
     "output_type": "stream",
     "text": [
      "GPU is available\n"
     ]
    }
   ],
   "source": [
    "import tensorflow as tf\n",
    "\n",
    "if tf.config.list_physical_devices('GPU'):\n",
    "    print(\"GPU is available\")\n",
    "else:\n",
    "    print(\"GPU is not available\")"
   ]
  },
  {
   "cell_type": "code",
   "execution_count": 52,
   "metadata": {},
   "outputs": [],
   "source": [
    "import keras\n",
    "from keras.layers import LSTM, Dense, Activation, Masking, TimeDistributed, Bidirectional\n",
    "from keras.models import Sequential\n",
    "from keras.utils import plot_model"
   ]
  },
  {
   "cell_type": "code",
   "execution_count": 53,
   "metadata": {},
   "outputs": [],
   "source": [
    "h_n = embedding_n\n",
    "epochs = 100\n",
    "callbacks = [\n",
    "    keras.callbacks.ModelCheckpoint(\"checkpoint/save_at_{epoch}.keras\"),\n",
    "    keras.callbacks.EarlyStopping(\n",
    "    monitor=\"val_loss\",\n",
    "    min_delta=0,\n",
    "    patience=10,\n",
    "    verbose=0,\n",
    "    mode=\"auto\",\n",
    "    baseline=None,\n",
    "    restore_best_weights=False,\n",
    ")\n",
    "]"
   ]
  },
  {
   "cell_type": "code",
   "execution_count": 54,
   "metadata": {},
   "outputs": [],
   "source": [
    "def make_model(input_shape, h_n=300, num_classes=13):\n",
    "    inputs = keras.Input(shape=input_shape, name=\"Input_layer\")\n",
    "    masked = Masking(0,name=\"Shapeshifter\")(inputs)\n",
    "    tmp = LSTM(500, dropout=0.6,  name=\"LSTM_layer\", activation=\"tanh\")(masked)\n",
    "    # tmp1 = Dense(300, activation=\"softmax\", name=\"Hidden_layer\")(tmp)\n",
    "    outputs = Dense(num_classes, activation=\"softmax\",kernel_initializer=\"he_normal\" ,name=\"Output_layer\")(tmp)\n",
    "    return keras.Model(inputs, outputs)"
   ]
  },
  {
   "cell_type": "code",
   "execution_count": 55,
   "metadata": {},
   "outputs": [
    {
     "data": {
      "image/png": "[encoded data removed]",
      "text/plain": [
       "<IPython.core.display.Image object>"
      ]
     },
     "execution_count": 55,
     "metadata": {},
     "output_type": "execute_result"
    }
   ],
   "source": [
    "model = make_model(input_shape=(34,300), num_classes=typecount)\n",
    "plot_model(model, show_shapes=True)"
   ]
  },
  {
   "cell_type": "code",
   "execution_count": 56,
   "metadata": {},
   "outputs": [],
   "source": [
    "model.compile(\n",
    "    optimizer=tf.keras.optimizers.Adam(0.1),\n",
    "    loss=\"categorical_crossentropy\", \n",
    "    metrics=[\"accuracy\"]\n",
    ")"
   ]
  },
  {
   "cell_type": "code",
   "execution_count": 57,
   "metadata": {},
   "outputs": [
    {
     "name": "stdout",
     "output_type": "stream",
     "text": [
      "Epoch 1/100\n",
      "150/150 [==============================] - 8s 41ms/step - loss: 0.9364 - accuracy: 0.7333 - val_loss: 2.5687 - val_accuracy: 0.4316\n",
      "Epoch 2/100\n",
      "150/150 [==============================] - 5s 33ms/step - loss: 1.2764 - accuracy: 0.6000 - val_loss: 2.4294 - val_accuracy: 0.4316\n",
      "Epoch 3/100\n",
      "150/150 [==============================] - 5s 32ms/step - loss: 1.2480 - accuracy: 0.6000 - val_loss: 2.3996 - val_accuracy: 0.4316\n",
      "Epoch 4/100\n",
      "150/150 [==============================] - 5s 32ms/step - loss: 1.2419 - accuracy: 0.6000 - val_loss: 2.3867 - val_accuracy: 0.4316\n",
      "Epoch 5/100\n",
      "150/150 [==============================] - 5s 32ms/step - loss: 1.2394 - accuracy: 0.6000 - val_loss: 2.3795 - val_accuracy: 0.4316\n",
      "Epoch 6/100\n",
      "150/150 [==============================] - 5s 32ms/step - loss: 1.2380 - accuracy: 0.6000 - val_loss: 2.3750 - val_accuracy: 0.4316\n",
      "Epoch 7/100\n",
      "150/150 [==============================] - 5s 32ms/step - loss: 1.2371 - accuracy: 0.6000 - val_loss: 2.3719 - val_accuracy: 0.4316\n",
      "Epoch 8/100\n",
      "150/150 [==============================] - 5s 32ms/step - loss: 1.2365 - accuracy: 0.6000 - val_loss: 2.3697 - val_accuracy: 0.4316\n",
      "Epoch 9/100\n",
      " 23/150 [===>..........................] - ETA: 3s - loss: 2.5746 - accuracy: 0.1304  "
     ]
    },
    {
     "ename": "KeyboardInterrupt",
     "evalue": "",
     "output_type": "error",
     "traceback": [
      "\u001b[1;31m---------------------------------------------------------------------------\u001b[0m",
      "\u001b[1;31mKeyboardInterrupt\u001b[0m                         Traceback (most recent call last)",
      "Cell \u001b[1;32mIn[57], line 1\u001b[0m\n\u001b[1;32m----> 1\u001b[0m model\u001b[39m.\u001b[39;49mfit(\n\u001b[0;32m      2\u001b[0m     X_train,Y_train,\n\u001b[0;32m      3\u001b[0m     epochs\u001b[39m=\u001b[39;49mepochs,\n\u001b[0;32m      4\u001b[0m     callbacks\u001b[39m=\u001b[39;49mcallbacks,\n\u001b[0;32m      5\u001b[0m     batch_size\u001b[39m=\u001b[39;49m\u001b[39m100\u001b[39;49m,\n\u001b[0;32m      6\u001b[0m     shuffle\u001b[39m=\u001b[39;49m\u001b[39mFalse\u001b[39;49;00m,\n\u001b[0;32m      7\u001b[0m     validation_data\u001b[39m=\u001b[39;49m(X_valid,Y_valid)\n\u001b[0;32m      8\u001b[0m )\n",
      "File \u001b[1;32md:\\Users\\10252\\anaconda3\\envs\\ML03\\lib\\site-packages\\keras\\utils\\traceback_utils.py:65\u001b[0m, in \u001b[0;36mfilter_traceback.<locals>.error_handler\u001b[1;34m(*args, **kwargs)\u001b[0m\n\u001b[0;32m     63\u001b[0m filtered_tb \u001b[39m=\u001b[39m \u001b[39mNone\u001b[39;00m\n\u001b[0;32m     64\u001b[0m \u001b[39mtry\u001b[39;00m:\n\u001b[1;32m---> 65\u001b[0m     \u001b[39mreturn\u001b[39;00m fn(\u001b[39m*\u001b[39margs, \u001b[39m*\u001b[39m\u001b[39m*\u001b[39mkwargs)\n\u001b[0;32m     66\u001b[0m \u001b[39mexcept\u001b[39;00m \u001b[39mException\u001b[39;00m \u001b[39mas\u001b[39;00m e:\n\u001b[0;32m     67\u001b[0m     filtered_tb \u001b[39m=\u001b[39m _process_traceback_frames(e\u001b[39m.\u001b[39m__traceback__)\n",
      "File \u001b[1;32md:\\Users\\10252\\anaconda3\\envs\\ML03\\lib\\site-packages\\keras\\engine\\training.py:1570\u001b[0m, in \u001b[0;36mModel.fit\u001b[1;34m(self, x, y, batch_size, epochs, verbose, callbacks, validation_split, validation_data, shuffle, class_weight, sample_weight, initial_epoch, steps_per_epoch, validation_steps, validation_batch_size, validation_freq, max_queue_size, workers, use_multiprocessing)\u001b[0m\n\u001b[0;32m   1568\u001b[0m logs \u001b[39m=\u001b[39m tmp_logs\n\u001b[0;32m   1569\u001b[0m end_step \u001b[39m=\u001b[39m step \u001b[39m+\u001b[39m data_handler\u001b[39m.\u001b[39mstep_increment\n\u001b[1;32m-> 1570\u001b[0m callbacks\u001b[39m.\u001b[39;49mon_train_batch_end(end_step, logs)\n\u001b[0;32m   1571\u001b[0m \u001b[39mif\u001b[39;00m \u001b[39mself\u001b[39m\u001b[39m.\u001b[39mstop_training:\n\u001b[0;32m   1572\u001b[0m     \u001b[39mbreak\u001b[39;00m\n",
      "File \u001b[1;32md:\\Users\\10252\\anaconda3\\envs\\ML03\\lib\\site-packages\\keras\\callbacks.py:470\u001b[0m, in \u001b[0;36mCallbackList.on_train_batch_end\u001b[1;34m(self, batch, logs)\u001b[0m\n\u001b[0;32m    463\u001b[0m \u001b[39m\u001b[39m\u001b[39m\"\"\"Calls the `on_train_batch_end` methods of its callbacks.\u001b[39;00m\n\u001b[0;32m    464\u001b[0m \n\u001b[0;32m    465\u001b[0m \u001b[39mArgs:\u001b[39;00m\n\u001b[0;32m    466\u001b[0m \u001b[39m    batch: Integer, index of batch within the current epoch.\u001b[39;00m\n\u001b[0;32m    467\u001b[0m \u001b[39m    logs: Dict. Aggregated metric results up until this batch.\u001b[39;00m\n\u001b[0;32m    468\u001b[0m \u001b[39m\"\"\"\u001b[39;00m\n\u001b[0;32m    469\u001b[0m \u001b[39mif\u001b[39;00m \u001b[39mself\u001b[39m\u001b[39m.\u001b[39m_should_call_train_batch_hooks:\n\u001b[1;32m--> 470\u001b[0m     \u001b[39mself\u001b[39;49m\u001b[39m.\u001b[39;49m_call_batch_hook(ModeKeys\u001b[39m.\u001b[39;49mTRAIN, \u001b[39m\"\u001b[39;49m\u001b[39mend\u001b[39;49m\u001b[39m\"\u001b[39;49m, batch, logs\u001b[39m=\u001b[39;49mlogs)\n",
      "File \u001b[1;32md:\\Users\\10252\\anaconda3\\envs\\ML03\\lib\\site-packages\\keras\\callbacks.py:317\u001b[0m, in \u001b[0;36mCallbackList._call_batch_hook\u001b[1;34m(self, mode, hook, batch, logs)\u001b[0m\n\u001b[0;32m    315\u001b[0m     \u001b[39mself\u001b[39m\u001b[39m.\u001b[39m_call_batch_begin_hook(mode, batch, logs)\n\u001b[0;32m    316\u001b[0m \u001b[39melif\u001b[39;00m hook \u001b[39m==\u001b[39m \u001b[39m\"\u001b[39m\u001b[39mend\u001b[39m\u001b[39m\"\u001b[39m:\n\u001b[1;32m--> 317\u001b[0m     \u001b[39mself\u001b[39;49m\u001b[39m.\u001b[39;49m_call_batch_end_hook(mode, batch, logs)\n\u001b[0;32m    318\u001b[0m \u001b[39melse\u001b[39;00m:\n\u001b[0;32m    319\u001b[0m     \u001b[39mraise\u001b[39;00m \u001b[39mValueError\u001b[39;00m(\n\u001b[0;32m    320\u001b[0m         \u001b[39mf\u001b[39m\u001b[39m\"\u001b[39m\u001b[39mUnrecognized hook: \u001b[39m\u001b[39m{\u001b[39;00mhook\u001b[39m}\u001b[39;00m\u001b[39m. \u001b[39m\u001b[39m\"\u001b[39m\n\u001b[0;32m    321\u001b[0m         \u001b[39m'\u001b[39m\u001b[39mExpected values are [\u001b[39m\u001b[39m\"\u001b[39m\u001b[39mbegin\u001b[39m\u001b[39m\"\u001b[39m\u001b[39m, \u001b[39m\u001b[39m\"\u001b[39m\u001b[39mend\u001b[39m\u001b[39m\"\u001b[39m\u001b[39m]\u001b[39m\u001b[39m'\u001b[39m\n\u001b[0;32m    322\u001b[0m     )\n",
      "File \u001b[1;32md:\\Users\\10252\\anaconda3\\envs\\ML03\\lib\\site-packages\\keras\\callbacks.py:340\u001b[0m, in \u001b[0;36mCallbackList._call_batch_end_hook\u001b[1;34m(self, mode, batch, logs)\u001b[0m\n\u001b[0;32m    337\u001b[0m     batch_time \u001b[39m=\u001b[39m time\u001b[39m.\u001b[39mtime() \u001b[39m-\u001b[39m \u001b[39mself\u001b[39m\u001b[39m.\u001b[39m_batch_start_time\n\u001b[0;32m    338\u001b[0m     \u001b[39mself\u001b[39m\u001b[39m.\u001b[39m_batch_times\u001b[39m.\u001b[39mappend(batch_time)\n\u001b[1;32m--> 340\u001b[0m \u001b[39mself\u001b[39;49m\u001b[39m.\u001b[39;49m_call_batch_hook_helper(hook_name, batch, logs)\n\u001b[0;32m    342\u001b[0m \u001b[39mif\u001b[39;00m \u001b[39mlen\u001b[39m(\u001b[39mself\u001b[39m\u001b[39m.\u001b[39m_batch_times) \u001b[39m>\u001b[39m\u001b[39m=\u001b[39m \u001b[39mself\u001b[39m\u001b[39m.\u001b[39m_num_batches_for_timing_check:\n\u001b[0;32m    343\u001b[0m     end_hook_name \u001b[39m=\u001b[39m hook_name\n",
      "File \u001b[1;32md:\\Users\\10252\\anaconda3\\envs\\ML03\\lib\\site-packages\\keras\\callbacks.py:388\u001b[0m, in \u001b[0;36mCallbackList._call_batch_hook_helper\u001b[1;34m(self, hook_name, batch, logs)\u001b[0m\n\u001b[0;32m    386\u001b[0m \u001b[39mfor\u001b[39;00m callback \u001b[39min\u001b[39;00m \u001b[39mself\u001b[39m\u001b[39m.\u001b[39mcallbacks:\n\u001b[0;32m    387\u001b[0m     hook \u001b[39m=\u001b[39m \u001b[39mgetattr\u001b[39m(callback, hook_name)\n\u001b[1;32m--> 388\u001b[0m     hook(batch, logs)\n\u001b[0;32m    390\u001b[0m \u001b[39mif\u001b[39;00m \u001b[39mself\u001b[39m\u001b[39m.\u001b[39m_check_timing:\n\u001b[0;32m    391\u001b[0m     \u001b[39mif\u001b[39;00m hook_name \u001b[39mnot\u001b[39;00m \u001b[39min\u001b[39;00m \u001b[39mself\u001b[39m\u001b[39m.\u001b[39m_hook_times:\n",
      "File \u001b[1;32md:\\Users\\10252\\anaconda3\\envs\\ML03\\lib\\site-packages\\keras\\callbacks.py:1081\u001b[0m, in \u001b[0;36mProgbarLogger.on_train_batch_end\u001b[1;34m(self, batch, logs)\u001b[0m\n\u001b[0;32m   1080\u001b[0m \u001b[39mdef\u001b[39;00m \u001b[39mon_train_batch_end\u001b[39m(\u001b[39mself\u001b[39m, batch, logs\u001b[39m=\u001b[39m\u001b[39mNone\u001b[39;00m):\n\u001b[1;32m-> 1081\u001b[0m     \u001b[39mself\u001b[39;49m\u001b[39m.\u001b[39;49m_batch_update_progbar(batch, logs)\n",
      "File \u001b[1;32md:\\Users\\10252\\anaconda3\\envs\\ML03\\lib\\site-packages\\keras\\callbacks.py:1157\u001b[0m, in \u001b[0;36mProgbarLogger._batch_update_progbar\u001b[1;34m(self, batch, logs)\u001b[0m\n\u001b[0;32m   1153\u001b[0m     \u001b[39mself\u001b[39m\u001b[39m.\u001b[39mseen \u001b[39m+\u001b[39m\u001b[39m=\u001b[39m add_seen\n\u001b[0;32m   1155\u001b[0m \u001b[39mif\u001b[39;00m \u001b[39mself\u001b[39m\u001b[39m.\u001b[39mverbose \u001b[39m==\u001b[39m \u001b[39m1\u001b[39m:\n\u001b[0;32m   1156\u001b[0m     \u001b[39m# Only block async when verbose = 1.\u001b[39;00m\n\u001b[1;32m-> 1157\u001b[0m     logs \u001b[39m=\u001b[39m tf_utils\u001b[39m.\u001b[39;49msync_to_numpy_or_python_type(logs)\n\u001b[0;32m   1158\u001b[0m     \u001b[39mself\u001b[39m\u001b[39m.\u001b[39mprogbar\u001b[39m.\u001b[39mupdate(\u001b[39mself\u001b[39m\u001b[39m.\u001b[39mseen, \u001b[39mlist\u001b[39m(logs\u001b[39m.\u001b[39mitems()), finalize\u001b[39m=\u001b[39m\u001b[39mFalse\u001b[39;00m)\n",
      "File \u001b[1;32md:\\Users\\10252\\anaconda3\\envs\\ML03\\lib\\site-packages\\keras\\utils\\tf_utils.py:635\u001b[0m, in \u001b[0;36msync_to_numpy_or_python_type\u001b[1;34m(tensors)\u001b[0m\n\u001b[0;32m    632\u001b[0m         \u001b[39mreturn\u001b[39;00m t\n\u001b[0;32m    633\u001b[0m     \u001b[39mreturn\u001b[39;00m t\u001b[39m.\u001b[39mitem() \u001b[39mif\u001b[39;00m np\u001b[39m.\u001b[39mndim(t) \u001b[39m==\u001b[39m \u001b[39m0\u001b[39m \u001b[39melse\u001b[39;00m t\n\u001b[1;32m--> 635\u001b[0m \u001b[39mreturn\u001b[39;00m tf\u001b[39m.\u001b[39;49mnest\u001b[39m.\u001b[39;49mmap_structure(_to_single_numpy_or_python_type, tensors)\n",
      "File \u001b[1;32md:\\Users\\10252\\anaconda3\\envs\\ML03\\lib\\site-packages\\tensorflow\\python\\util\\nest.py:917\u001b[0m, in \u001b[0;36mmap_structure\u001b[1;34m(func, *structure, **kwargs)\u001b[0m\n\u001b[0;32m    913\u001b[0m flat_structure \u001b[39m=\u001b[39m (flatten(s, expand_composites) \u001b[39mfor\u001b[39;00m s \u001b[39min\u001b[39;00m structure)\n\u001b[0;32m    914\u001b[0m entries \u001b[39m=\u001b[39m \u001b[39mzip\u001b[39m(\u001b[39m*\u001b[39mflat_structure)\n\u001b[0;32m    916\u001b[0m \u001b[39mreturn\u001b[39;00m pack_sequence_as(\n\u001b[1;32m--> 917\u001b[0m     structure[\u001b[39m0\u001b[39m], [func(\u001b[39m*\u001b[39mx) \u001b[39mfor\u001b[39;00m x \u001b[39min\u001b[39;00m entries],\n\u001b[0;32m    918\u001b[0m     expand_composites\u001b[39m=\u001b[39mexpand_composites)\n",
      "File \u001b[1;32md:\\Users\\10252\\anaconda3\\envs\\ML03\\lib\\site-packages\\tensorflow\\python\\util\\nest.py:917\u001b[0m, in \u001b[0;36m<listcomp>\u001b[1;34m(.0)\u001b[0m\n\u001b[0;32m    913\u001b[0m flat_structure \u001b[39m=\u001b[39m (flatten(s, expand_composites) \u001b[39mfor\u001b[39;00m s \u001b[39min\u001b[39;00m structure)\n\u001b[0;32m    914\u001b[0m entries \u001b[39m=\u001b[39m \u001b[39mzip\u001b[39m(\u001b[39m*\u001b[39mflat_structure)\n\u001b[0;32m    916\u001b[0m \u001b[39mreturn\u001b[39;00m pack_sequence_as(\n\u001b[1;32m--> 917\u001b[0m     structure[\u001b[39m0\u001b[39m], [func(\u001b[39m*\u001b[39;49mx) \u001b[39mfor\u001b[39;00m x \u001b[39min\u001b[39;00m entries],\n\u001b[0;32m    918\u001b[0m     expand_composites\u001b[39m=\u001b[39mexpand_composites)\n",
      "File \u001b[1;32md:\\Users\\10252\\anaconda3\\envs\\ML03\\lib\\site-packages\\keras\\utils\\tf_utils.py:628\u001b[0m, in \u001b[0;36msync_to_numpy_or_python_type.<locals>._to_single_numpy_or_python_type\u001b[1;34m(t)\u001b[0m\n\u001b[0;32m    625\u001b[0m \u001b[39mdef\u001b[39;00m \u001b[39m_to_single_numpy_or_python_type\u001b[39m(t):\n\u001b[0;32m    626\u001b[0m     \u001b[39m# Don't turn ragged or sparse tensors to NumPy.\u001b[39;00m\n\u001b[0;32m    627\u001b[0m     \u001b[39mif\u001b[39;00m \u001b[39misinstance\u001b[39m(t, tf\u001b[39m.\u001b[39mTensor):\n\u001b[1;32m--> 628\u001b[0m         t \u001b[39m=\u001b[39m t\u001b[39m.\u001b[39;49mnumpy()\n\u001b[0;32m    629\u001b[0m     \u001b[39m# Strings, ragged and sparse tensors don't have .item(). Return them\u001b[39;00m\n\u001b[0;32m    630\u001b[0m     \u001b[39m# as-is.\u001b[39;00m\n\u001b[0;32m    631\u001b[0m     \u001b[39mif\u001b[39;00m \u001b[39mnot\u001b[39;00m \u001b[39misinstance\u001b[39m(t, (np\u001b[39m.\u001b[39mndarray, np\u001b[39m.\u001b[39mgeneric)):\n",
      "File \u001b[1;32md:\\Users\\10252\\anaconda3\\envs\\ML03\\lib\\site-packages\\tensorflow\\python\\framework\\ops.py:1157\u001b[0m, in \u001b[0;36m_EagerTensorBase.numpy\u001b[1;34m(self)\u001b[0m\n\u001b[0;32m   1134\u001b[0m \u001b[39m\u001b[39m\u001b[39m\"\"\"Copy of the contents of this Tensor into a NumPy array or scalar.\u001b[39;00m\n\u001b[0;32m   1135\u001b[0m \n\u001b[0;32m   1136\u001b[0m \u001b[39mUnlike NumPy arrays, Tensors are immutable, so this method has to copy\u001b[39;00m\n\u001b[1;32m   (...)\u001b[0m\n\u001b[0;32m   1154\u001b[0m \u001b[39m    NumPy dtype.\u001b[39;00m\n\u001b[0;32m   1155\u001b[0m \u001b[39m\"\"\"\u001b[39;00m\n\u001b[0;32m   1156\u001b[0m \u001b[39m# TODO(slebedev): Consider avoiding a copy for non-CPU or remote tensors.\u001b[39;00m\n\u001b[1;32m-> 1157\u001b[0m maybe_arr \u001b[39m=\u001b[39m \u001b[39mself\u001b[39;49m\u001b[39m.\u001b[39;49m_numpy()  \u001b[39m# pylint: disable=protected-access\u001b[39;00m\n\u001b[0;32m   1158\u001b[0m \u001b[39mreturn\u001b[39;00m maybe_arr\u001b[39m.\u001b[39mcopy() \u001b[39mif\u001b[39;00m \u001b[39misinstance\u001b[39m(maybe_arr, np\u001b[39m.\u001b[39mndarray) \u001b[39melse\u001b[39;00m maybe_arr\n",
      "File \u001b[1;32md:\\Users\\10252\\anaconda3\\envs\\ML03\\lib\\site-packages\\tensorflow\\python\\framework\\ops.py:1123\u001b[0m, in \u001b[0;36m_EagerTensorBase._numpy\u001b[1;34m(self)\u001b[0m\n\u001b[0;32m   1121\u001b[0m \u001b[39mdef\u001b[39;00m \u001b[39m_numpy\u001b[39m(\u001b[39mself\u001b[39m):\n\u001b[0;32m   1122\u001b[0m   \u001b[39mtry\u001b[39;00m:\n\u001b[1;32m-> 1123\u001b[0m     \u001b[39mreturn\u001b[39;00m \u001b[39mself\u001b[39;49m\u001b[39m.\u001b[39;49m_numpy_internal()\n\u001b[0;32m   1124\u001b[0m   \u001b[39mexcept\u001b[39;00m core\u001b[39m.\u001b[39m_NotOkStatusException \u001b[39mas\u001b[39;00m e:  \u001b[39m# pylint: disable=protected-access\u001b[39;00m\n\u001b[0;32m   1125\u001b[0m     \u001b[39mraise\u001b[39;00m core\u001b[39m.\u001b[39m_status_to_exception(e) \u001b[39mfrom\u001b[39;00m \u001b[39mNone\u001b[39m\n",
      "\u001b[1;31mKeyboardInterrupt\u001b[0m: "
     ]
    }
   ],
   "source": [
    "model.fit(\n",
    "    X_train,Y_train,\n",
    "    epochs=epochs,\n",
    "    callbacks=callbacks,\n",
    "    batch_size=100,\n",
    "    shuffle=False,\n",
    "    validation_data=(X_valid,Y_valid)\n",
    ")"
   ]
  },
  {
   "attachments": {},
   "cell_type": "markdown",
   "metadata": {},
   "source": [
    "## Progress Summary\n",
    "\n",
    "Now we have found that regardless of how we adjust the parameters, the model tent to \"give up classifying\", by just give every datapoint the label with most datapoints. This model we use is too simple for the problem we are trying to solve. Or it could be because of the distribution of labels is not balanced and we should upsample the lower cases. Or we can upgrade the model."
   ]
  }
 ],
 "metadata": {
  "kernelspec": {
   "display_name": "ERC",
   "language": "python",
   "name": "python3"
  },
  "language_info": {
   "codemirror_mode": {
    "name": "ipython",
    "version": 3
   },
   "file_extension": ".py",
   "mimetype": "text/x-python",
   "name": "python",
   "nbconvert_exporter": "python",
   "pygments_lexer": "ipython3",
   "version": "3.10.9"
  },
  "orig_nbformat": 4
 },
 "nbformat": 4,
 "nbformat_minor": 2
}
